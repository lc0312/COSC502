{
 "cells": [
  {
   "cell_type": "code",
   "execution_count": 404,
   "metadata": {},
   "outputs": [],
   "source": [
    "#Q1\n",
    "# a)\n",
    "\n",
    "import wikipedia\n",
    "wiki = wikipedia.page('JackieChan')\n",
    "text = wiki.content\n",
    "\n",
    "#jctext = open ('')"
   ]
  },
  {
   "cell_type": "code",
   "execution_count": 405,
   "metadata": {},
   "outputs": [
    {
     "name": "stdout",
     "output_type": "stream",
     "text": [
      "  (0, 1071)\t58\n",
      "  (0, 409)\t249\n",
      "  (0, 327)\t5\n",
      "  (0, 222)\t7\n",
      "  (0, 15)\t2\n",
      "  (0, 432)\t27\n",
      "  (0, 2133)\t2\n",
      "  (0, 1098)\t2\n",
      "  (0, 1744)\t2\n",
      "  (0, 1211)\t2\n",
      "  (0, 1177)\t2\n",
      "  (0, 288)\t2\n",
      "  (0, 1900)\t476\n",
      "  (0, 659)\t15\n",
      "  (0, 1062)\t28\n",
      "  (0, 988)\t47\n",
      "  (0, 1118)\t48\n",
      "  (0, 130)\t11\n",
      "  (0, 814)\t5\n",
      "  (0, 1240)\t7\n",
      "  (0, 237)\t1\n",
      "  (0, 187)\t218\n",
      "  (0, 1832)\t1\n",
      "  (0, 1116)\t6\n",
      "  (0, 842)\t66\n",
      "  :\t:\n",
      "  (0, 1701)\t1\n",
      "  (0, 313)\t1\n",
      "  (0, 1061)\t1\n",
      "  (0, 743)\t2\n",
      "  (0, 1847)\t1\n",
      "  (0, 1200)\t1\n",
      "  (0, 1506)\t1\n",
      "  (0, 329)\t1\n",
      "  (0, 2049)\t1\n",
      "  (0, 1064)\t1\n",
      "  (0, 817)\t1\n",
      "  (0, 630)\t1\n",
      "  (0, 1324)\t1\n",
      "  (0, 993)\t1\n",
      "  (0, 1453)\t1\n",
      "  (0, 1440)\t1\n",
      "  (0, 100)\t1\n",
      "  (0, 330)\t1\n",
      "  (0, 1570)\t1\n",
      "  (0, 1550)\t1\n",
      "  (0, 763)\t1\n",
      "  (0, 1175)\t1\n",
      "  (0, 1019)\t1\n",
      "  (0, 572)\t1\n",
      "  (0, 167)\t1\n"
     ]
    }
   ],
   "source": [
    "# b)\n",
    "\n",
    "from sklearn.feature_extraction.text import CountVectorizer\n",
    "vectorizer = CountVectorizer()\n",
    "jcvocabulary  = vectorizer.fit_transform([text])\n",
    "print (jcvocabulary)"
   ]
  },
  {
   "cell_type": "code",
   "execution_count": 406,
   "metadata": {},
   "outputs": [],
   "source": [
    "# d)\n",
    "# Convert words to lowercase\n",
    "text = text.lower()\n",
    "\n",
    "# Remove numbers\n",
    "import re\n",
    "text = re.sub(r'\\d', '', text)\n",
    "\n",
    "# Punctuation Removal\n",
    "text = re.sub(r'[^\\w\\s]', '', text)\n",
    "\n",
    "# Tokenization\n",
    "\n",
    "text = text.split()\n",
    "\n",
    "# Stop word removal\n",
    "import nltk\n",
    "\n",
    "stopwords = nltk.corpus.stopwords.words('english')\n",
    "\n",
    "\n",
    "def remove_stopwords(text):\n",
    "    output= [i for i in text if i not in stopwords]\n",
    "    return output\n",
    "\n",
    "text =  remove_stopwords(text)\n",
    "\n",
    "# Stemming \n",
    "from nltk.stem.porter import PorterStemmer\n",
    "porter_stemmer = PorterStemmer()\n",
    "\n",
    "def stemming(text):\n",
    "    stem_text = [porter_stemmer.stem(word) for word in text]\n",
    "    return stem_text\n",
    "\n",
    "text = stemming (text)\n",
    "\n",
    "# Lemmatization\n",
    "from nltk.stem import WordNetLemmatizer\n",
    "wordnet_lemmatizer = WordNetLemmatizer()\n",
    "\n",
    "def lemmatizer(text):\n",
    "    lemm_text = [wordnet_lemmatizer.lemmatize(word) for word in text]\n",
    "    return lemm_text\n",
    "\n",
    "text = lemmatizer (text)\n"
   ]
  },
  {
   "cell_type": "code",
   "execution_count": 408,
   "metadata": {},
   "outputs": [
    {
     "name": "stdout",
     "output_type": "stream",
     "text": [
      "Most 10: [('chan', 229), ('film', 124), ('jacki', 57), ('hong', 47), ('kong', 45), ('stunt', 31), ('star', 31), ('also', 31), ('releas', 30), ('action', 25)]\n",
      "Most 10: <FreqDist with 1672 samples and 4438 outcomes>\n"
     ]
    }
   ],
   "source": [
    "# e) \n",
    "from nltk import FreqDist\n",
    "\n",
    "freq_text = FreqDist(text)\n",
    "\n",
    "print('Most 10:',freq_text.most_common(10))\n",
    "print('Most 10:',freq_text)"
   ]
  }
 ],
 "metadata": {
  "kernelspec": {
   "display_name": "base",
   "language": "python",
   "name": "python3"
  },
  "language_info": {
   "codemirror_mode": {
    "name": "ipython",
    "version": 3
   },
   "file_extension": ".py",
   "mimetype": "text/x-python",
   "name": "python",
   "nbconvert_exporter": "python",
   "pygments_lexer": "ipython3",
   "version": "3.9.16"
  },
  "orig_nbformat": 4
 },
 "nbformat": 4,
 "nbformat_minor": 2
}
