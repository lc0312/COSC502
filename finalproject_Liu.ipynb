{
 "cells": [
  {
   "cell_type": "code",
   "execution_count": 132,
   "metadata": {},
   "outputs": [],
   "source": [
    "#Q1\n",
    "# a)\n",
    "\n",
    "import wikipedia\n",
    "wiki = wikipedia.page('JackieChan')\n",
    "text = wiki.content\n",
    "\n",
    "#jctext = open ('')"
   ]
  },
  {
   "cell_type": "code",
   "execution_count": 133,
   "metadata": {},
   "outputs": [
    {
     "name": "stdout",
     "output_type": "stream",
     "text": [
      "  (0, 1071)\t58\n",
      "  (0, 409)\t249\n",
      "  (0, 327)\t5\n",
      "  (0, 222)\t7\n",
      "  (0, 15)\t2\n",
      "  (0, 432)\t27\n",
      "  (0, 2137)\t2\n",
      "  (0, 2119)\t1\n",
      "  (0, 1637)\t1\n",
      "  (0, 1872)\t1\n",
      "  (0, 1212)\t1\n",
      "  (0, 1098)\t2\n",
      "  (0, 1746)\t2\n",
      "  (0, 1211)\t2\n",
      "  (0, 1177)\t2\n",
      "  (0, 288)\t2\n",
      "  (0, 1903)\t476\n",
      "  (0, 659)\t15\n",
      "  (0, 1062)\t28\n",
      "  (0, 988)\t47\n",
      "  (0, 1118)\t48\n",
      "  (0, 130)\t11\n",
      "  (0, 814)\t5\n",
      "  (0, 1241)\t7\n",
      "  (0, 237)\t1\n",
      "  :\t:\n",
      "  (0, 1703)\t1\n",
      "  (0, 313)\t1\n",
      "  (0, 1061)\t1\n",
      "  (0, 743)\t2\n",
      "  (0, 1849)\t1\n",
      "  (0, 1200)\t1\n",
      "  (0, 1507)\t1\n",
      "  (0, 329)\t1\n",
      "  (0, 2052)\t1\n",
      "  (0, 1064)\t1\n",
      "  (0, 817)\t1\n",
      "  (0, 630)\t1\n",
      "  (0, 1325)\t1\n",
      "  (0, 993)\t1\n",
      "  (0, 1454)\t1\n",
      "  (0, 1441)\t1\n",
      "  (0, 100)\t1\n",
      "  (0, 330)\t1\n",
      "  (0, 1571)\t1\n",
      "  (0, 1551)\t1\n",
      "  (0, 763)\t1\n",
      "  (0, 1175)\t1\n",
      "  (0, 1019)\t1\n",
      "  (0, 572)\t1\n",
      "  (0, 167)\t1\n"
     ]
    }
   ],
   "source": [
    "# b)\n",
    "\n",
    "from sklearn.feature_extraction.text import CountVectorizer\n",
    "vectorizer = CountVectorizer()\n",
    "jcvocabulary  = vectorizer.fit_transform([text])\n",
    "print (jcvocabulary[0:10])"
   ]
  },
  {
   "cell_type": "code",
   "execution_count": 134,
   "metadata": {},
   "outputs": [
    {
     "name": "stdout",
     "output_type": "stream",
     "text": [
      "['jacki', 'chan', 'born', 'april', 'chine', '成龍', 'yale', 'roman', 'sìhng', 'lùhng', 'jyutp', 'sing', 'lung', 'lit', 'becom', 'dragon', 'hong', 'kong', 'actor', 'filmmak', 'martial', 'artist', 'stuntman', 'known', 'slapstick', 'acrobat', 'fight', 'style', 'comic', 'time', 'innov', 'stunt', 'typic', 'perform', 'chan', 'act', 'sinc', 'perform', 'film', 'one', 'popular', 'action', 'film', 'star', 'timechan', 'one', 'recognis', 'influenti', 'film', 'person', 'world', 'widespread', 'global', 'follow', 'eastern', 'western', 'hemispher', 'receiv', 'fame', 'star', 'hong', 'kong', 'avenu', 'star', 'hollywood', 'walk', 'fame', 'chan', 'referenc', 'variou', 'pop', 'song', 'cartoon', 'film', 'video', 'game', 'operat', 'train', 'vocalist', 'also', 'cantopop', 'mandopop', 'star', 'releas', 'number', 'music', 'album', 'sung', 'mani', 'theme', 'song', 'film', 'star', 'also', 'global', 'known', 'philanthropist', 'name', 'one', 'top', 'charit', 'celebr', 'forb', 'magazin', 'film', 'scholar', 'andrew', 'willi', 'state', 'chan', 'perhap', 'recognis', 'film', 'star', 'world', 'forb', 'estim', 'net', 'worth', 'million', 'secondhighestpaid', 'actor', 'worldchan', 'view', 'hong', 'kong', 'polit', 'gradual', 'shift', 'prodemocrat', 'stanc', 'probeij', 'stanc', 'sinc', 'sinc', 'chan', 'prochines', 'communist', 'parti', 'cpc', 'politician', 'serv', 'two', 'term', 'deleg', 'chine', 'peopl', 'polit', 'consult', 'confer', 'express', 'desir', 'join', 'cpc', 'earli', 'life', 'chan', 'born', 'april', 'british', 'hong', 'kong', 'chan', 'kongsang', 'chine', '陳港生', 'lit', 'chan', 'hong', 'kongborn', 'charl', 'leele', 'chan', 'polit', 'refuge', 'chine', 'civil', 'war', 'circa', 'chan', 'father', 'origin', 'name', 'fang', 'daolong', 'briefli', 'work', 'secret', 'agent', 'lieuten', 'gener', 'dai', 'li', 'chief', 'spi', 'kuomintangrul', 'china', 'fear', 'arrest', 'communist', 'govern', 'chan', 'father', 'fled', 'british', 'hong', 'kong', 'chang', 'surnam', 'fang', 'chan', 'chan', 'wife', 'chan', 'leele', 'surnam', 'chan', 'discov', 'father', 'ident', 'chang', 'chine', 'name', 'fang', 'shilong', '房仕龍', 'late', 'name', 'would', 'name', 'accord', 'kin', 'genealog', 'bookchan', 'spent', 'form', 'year', 'within', 'ground', 'french', 'consul', 'resid', 'victoria', 'peak', 'british', 'hong', 'kong', 'father', 'work', 'cook', 'chan', 'attend', 'nahhwa', 'primari', 'school', 'hong', 'kong', 'island', 'fail', 'first', 'year', 'parent', 'withdrew', 'school', 'father', 'emigr', 'canberra', 'australia', 'work', 'head', 'cook', 'american', 'embassi', 'chan', 'sent', 'china', 'drama', 'academi', 'peke', 'opera', 'school', 'run', 'master', 'yu', 'jimyuen', 'chan', 'train', 'rigor', 'next', 'decad', 'excel', 'martial', 'art', 'acrobat', 'eventu', 'becam', 'part', 'seven', 'littl', 'fortun', 'perform', 'group', 'made', 'school', 'best', 'student', 'gain', 'stage', 'name', 'yuen', 'lo', '元樓', 'homag', 'master', 'chan', 'becam', 'close', 'friend', 'fellow', 'group', 'member', 'sammo', 'hung', 'yuen', 'biao', 'three', 'later', 'becam', 'known', 'three', 'brother', 'three', 'dragon', 'enter', 'film', 'industri', 'chan', 'along', 'sammo', 'hung', 'got', 'opportun', 'train', 'hapkido', 'grand', 'master', 'jin', 'pal', 'kim', 'chan', 'eventu', 'attain', 'black', 'beltchan', 'join', 'parent', 'canberra', 'australia', 'briefli', 'attend', 'dickson', 'colleg', 'work', 'construct', 'worker', 'fellow', 'builder', 'name', 'jack', 'took', 'chan', 'wing', 'thu', 'earn', 'chan', 'nicknam', 'littl', 'jack', 'later', 'shorten', 'jacki', 'stuck', 'ever', 'sinc', 'film', 'career', 'earli', 'small', 'appear', 'began', 'film', 'career', 'appear', 'small', 'role', 'age', 'five', 'child', 'actor', 'age', 'eight', 'appear', 'fellow', 'littl', 'fortun', 'film', 'big', 'littl', 'wong', 'tin', 'bar', 'li', 'lihua', 'play', 'mother', 'follow', 'year', 'young', 'actor', 'appear', 'extra', 'yen', 'chun', 'film', 'liang', 'po', 'chu', 'ying', 'tai', 'small', 'role', 'king', 'hu', 'film', 'come', 'drink', 'appear', 'extra', 'anoth', 'kung', 'fu', 'film', 'touch', 'zen', 'chan', 'sign', 'chu', 'mu', 'great', 'earth', 'film', 'companychan', 'appear', 'bruce', 'lee', 'film', 'fist', 'furi', 'extra', 'stunt', 'doubl', 'japanes', 'villain', 'hiroshi', 'suzuki', 'portray', 'riki', 'hashimoto', 'particularli', 'final', 'fight', 'scene', 'lee', 'kick', 'fli', 'air', 'chan', 'appear', 'anoth', 'bruce', 'lee', 'film', 'enter', 'dragon', 'minor', 'henchman', 'get', 'kill', 'lee', 'charact', 'sammo', 'hung', 'help', 'chan', 'get', 'minor', 'role', 'bruce', 'lee', 'film', 'chan', 'also', 'work', 'martial', 'art', 'choreograph', 'john', 'woo', 'young', 'dragon', 'startup', 'lead', 'role', 'jacki', 'chan', 'receiv', 'telegram', 'willi', 'chan', 'film', 'produc', 'hong', 'kong', 'film', 'industri', 'impress', 'jacki', 'stunt', 'choreographi', 'work', 'willi', 'chan', 'offer', 'act', 'role', 'film', 'direct', 'lo', 'wei', 'lo', 'saw', 'chan', 'perform', 'john', 'woo', 'film', 'hand', 'death', 'plan', 'model', 'bruce', 'lee', 'film', 'new', 'fist', 'furi', 'stage', 'name', 'chang', '成龍', 'liter', 'becom', 'dragon', 'sing', 'lung', 'jyutp', 'rare', 'cheng', 'long', 'pinyin', 'emphasis', 'similar', 'bruce', 'lee', 'whose', 'stage', 'name', 'meant', 'lee', 'littl', 'dragon', 'chine', 'note', 'dragon', 'lee', 'name', 'refer', 'lee', 'birth', 'year', 'dragon', 'zodiac', 'chine', 'dragon', 'film', 'unsuccess', 'chan', 'accustom', 'lee', 'martial', 'art', 'style', 'despit', 'film', 'failur', 'lo', 'wei', 'continu', 'produc', 'film', 'similar', 'theme', 'littl', 'improv', 'box', 'officechan', 'first', 'major', 'breakthrough', 'film', 'snake', 'eagl', 'shadow', 'shot', 'loan', 'season', 'film', 'corpor', 'twopictur', 'deal', 'director', 'yuen', 'woop', 'allow', 'chan', 'complet', 'freedom', 'stunt', 'work', 'film', 'establish', 'comed', 'kung', 'fu', 'genr', 'prove', 'refresh', 'hong', 'kong', 'audienc', 'year', 'chan', 'star', 'drunken', 'master', 'final', 'propel', 'mainstream', 'successupon', 'chan', 'return', 'lo', 'wei', 'studio', 'lo', 'tri', 'replic', 'comed', 'approach', 'drunken', 'master', 'produc', 'also', 'show', 'new', 'featur', 'time', 'jacki', 'stunt', 'director', 'half', 'loaf', 'kung', 'fu', 'spiritu', 'kung', 'fu', 'also', 'gave', 'chan', 'opportun', 'make', 'directori', 'debut', 'fearless', 'hyena', 'willi', 'chan', 'left', 'compani', 'advis', 'jacki', 'decid', 'whether', 'stay', 'lo', 'wei', 'shoot', 'fearless', 'hyena', 'part', 'ii', 'chan', 'broke', 'contract', 'join', 'golden', 'harvest', 'prompt', 'lo', 'blackmail', 'chan', 'triad', 'blame', 'willi', 'star', 'departur', 'disput', 'resolv', 'help', 'fellow', 'actor', 'director', 'jimmi', 'wang', 'yu', 'allow', 'chan', 'stay', 'golden', 'harvest', 'commerci', 'success', 'action', 'comedi', 'genr', 'willi', 'chan', 'becam', 'jacki', 'person', 'manag', 'firm', 'friend', 'remain', 'year', 'instrument', 'launch', 'chan', 'intern', 'career', 'begin', 'first', 'foray', 'american', 'film', 'industri', 'first', 'hollywood', 'film', 'big', 'brawl', 'chan', 'play', 'minor', 'role', 'film', 'cannonbal', 'run', 'gross', 'u', 'million', 'worldwid', 'despit', 'larg', 'ignor', 'north', 'american', 'audienc', 'favour', 'establish', 'american', 'actor', 'burt', 'reynold', 'chan', 'impress', 'outtak', 'shown', 'close', 'credit', 'inspir', 'includ', 'devic', 'futur', 'film', 'commerci', 'failur', 'protector', 'chan', 'temporarili', 'abandon', 'attempt', 'break', 'u', 'market', 'return', 'focu', 'hong', 'kong', 'filmsback', 'hong', 'kong', 'chan', 'film', 'began', 'reach', 'larger', 'audienc', 'east', 'asia', 'earli', 'success', 'lucr', 'japanes', 'market', 'includ', 'drunken', 'master', 'young', 'master', 'dragon', 'lord', 'young', 'master', 'went', 'beat', 'previou', 'box', 'offic', 'record', 'set', 'bruce', 'lee', 'establish', 'chan', 'hong', 'kong', 'cinema', 'top', 'star', 'dragon', 'lord', 'began', 'experi', 'elabor', 'stunt', 'action', 'sequenc', 'includ', 'final', 'fight', 'scene', 'perform', 'variou', 'stunt', 'includ', 'one', 'back', 'flip', 'loft', 'fall', 'lower', 'groundchan', 'produc', 'number', 'action', 'comedi', 'film', 'opera', 'school', 'friend', 'sammo', 'hung', 'yuen', 'biao', 'three', 'costar', 'togeth', 'first', 'time', 'project', 'introduc', 'danger', 'stuntdriven', 'style', 'martial', 'art', 'best', 'action', 'design', 'award', 'third', 'annual', 'hong', 'kong', 'film', 'award', 'follow', 'two', 'year', 'three', 'brother', 'appear', 'wheel', 'meal', 'origin', 'lucki', 'star', 'trilog', 'chan', 'made', 'first', 'polic', 'stori', 'film', 'crime', 'action', 'film', 'chan', 'perform', 'number', 'danger', 'stunt', 'best', 'film', 'hong', 'kong', 'film', 'award', 'chan', 'play', 'asian', 'hawk', 'indiana', 'jonesesqu', 'charact', 'film', 'armour', 'god', 'film', 'chan', 'biggest', 'domest', 'box', 'offic', 'success', 'point', 'gross', 'hk', 'million', 'acclaim', 'film', 'sequel', 'hollywood', 'breakthrough', 'chan', 'star', 'alongsid', 'sammo', 'hung', 'yuen', 'biao', 'last', 'time', 'date', 'film', 'dragon', 'forev', 'hung', 'codirect', 'corey', 'yuen', 'villain', 'film', 'play', 'yuen', 'wah', 'fellow', 'graduat', 'china', 'drama', 'academi', 'late', 'earli', 'chan', 'star', 'number', 'success', 'sequel', 'begin', 'project', 'part', 'ii', 'polic', 'stori', 'award', 'best', 'action', 'choreographi', 'hong', 'kong', 'film', 'award', 'follow', 'armour', 'god', 'ii', 'oper', 'condor', 'polic', 'stori', 'super', 'cop', 'chan', 'best', 'actor', 'award', 'golden', 'hors', 'film', 'festiv', 'chan', 'repris', 'role', 'wong', 'feihung', 'drunken', 'master', 'ii', 'list', 'time', 'magazin', 'alltim', 'movi', 'anoth', 'sequel', 'polic', 'stori', 'first', 'strike', 'brought', 'award', 'domest', 'box', 'offic', 'success', 'chan', 'fare', 'well', 'foreign', 'marketsbi', 'mid', 'popular', 'action', 'movi', 'star', 'asia', 'europ', 'januari', 'film', 'gross', 'hk', 'million', 'u', 'million', 'hong', 'kong', 'billion', 'u', 'million', 'japan', 'sold', 'million', 'box', 'offic', 'admiss', 'franc', 'germani', 'itali', 'spain', 'despit', 'intern', 'success', 'success', 'north', 'america', 'two', 'wide', 'releas', 'lead', 'actor', 'big', 'brawl', 'protector', 'gross', 'u', 'million', 'u', 'million', 'adjust', 'inflat', 'despit', 'thrive', 'north', 'american', 'home', 'video', 'market', 'chan', 'hong', 'kong', 'film', 'midschan', 'rekindl', 'hollywood', 'ambit', 'refus', 'earli', 'offer', 'play', 'villain', 'hollywood', 'film', 'avoid', 'typecast', 'futur', 'role', 'exampl', 'sylvest', 'stallon', 'offer', 'role', 'simon', 'phoenix', 'crimin', 'futurist', 'film', 'demolit', 'man', 'chan', 'declin', 'role', 'taken', 'wesley', 'snipeschan', 'final', 'succeed', 'establish', 'foothold', 'north', 'american', 'market', 'worldwid', 'releas', 'rumbl', 'bronx', 'attain', 'cult', 'follow', 'unit', 'state', 'rare', 'hong', 'kong', 'movi', 'star', 'success', 'rumbl', 'bronx', 'led', 'releas', 'polic', 'stori', 'super', 'cop', 'unit', 'state', 'titl', 'supercop', 'gross', 'total', 'u', 'chan', 'first', 'huge', 'blockbust', 'success', 'came', 'costar', 'chri', 'tucker', 'buddi', 'cop', 'action', 'comedi', 'rush', 'hour', 'gross', 'u', 'million', 'unit', 'state', 'alon', 'film', 'made', 'hollywood', 'star', 'wrote', 'autobiographi', 'collabor', 'jeff', 'yang', 'entitl', 'jacki', 'chan', 'fame', 'hollywood', 'dramatis', 'chan', 'releas', 'final', 'film', 'golden', 'harvest', 'leav', 'golden', 'harvest', 'produc', 'star', 'alongsid', 'shu', 'qi', 'gorgeou', 'romant', 'comedi', 'focus', 'person', 'relationship', 'featur', 'martial', 'art', 'sequenc', 'although', 'chan', 'left', 'golden', 'harvest', 'compani', 'continu', 'produc', 'distribut', 'two', 'film', 'gorgeou', 'accident', 'spi', 'chan', 'help', 'creat', 'playstat', 'game', 'call', 'jacki', 'chan', 'stuntmast', 'lent', 'voic', 'perform', 'motion', 'captur', 'continu', 'hollywood', 'success', 'team', 'owen', 'wilson', 'western', 'action', 'comedi', 'shanghai', 'noon', 'sequel', 'shanghai', 'knight', 'follow', 'also', 'featur', 'first', 'onscreen', 'fight', 'scene', 'donni', 'yen', 'reunit', 'chri', 'tucker', 'rush', 'hour', 'even', 'bigger', 'success', 'origin', 'gross', 'million', 'worldwid', 'chan', 'experi', 'use', 'special', 'effect', 'wirework', 'fight', 'scene', 'next', 'two', 'hollywood', 'film', 'tuxedo', 'medallion', 'success', 'critic', 'commerci', 'team', 'steve', 'coogan', 'around', 'world', 'day', 'loo', 'base', 'jule', 'vern', 'novel', 'name', 'film', 'scholar', 'andrew', 'willi', 'state', 'chan', 'perhap', 'recognis', 'star', 'worlddespit', 'success', 'rush', 'hour', 'shanghai', 'noon', 'film', 'chan', 'becam', 'frustrat', 'hollywood', 'limit', 'rang', 'role', 'lack', 'control', 'filmmak', 'process', 'respons', 'golden', 'harvest', 'withdraw', 'film', 'industri', 'chan', 'start', 'film', 'product', 'compani', 'jce', 'movi', 'limit', 'jacki', 'chan', 'emperor', 'movi', 'limit', 'associ', 'emperor', 'multimedia', 'group', 'emg', 'film', 'sinc', 'featur', 'increas', 'number', 'dramat', 'scene', 'continu', 'succeed', 'box', 'offic', 'exampl', 'includ', 'new', 'polic', 'stori', 'myth', 'hit', 'film', 'robbhood', 'chan', 'next', 'releas', 'third', 'instal', 'rush', 'hour', 'film', 'seri', 'direct', 'brett', 'ratner', 'rush', 'hour', 'august', 'gross', 'u', 'million', 'howev', 'disappoint', 'hong', 'kong', 'gross', 'hk', 'million', 'open', 'weekend', 'present', 'new', 'experi', 'chang', 'act', 'style', 'film', 'forbidden', 'kingdom', 'chan', 'first', 'onscreen', 'collabor', 'fellow', 'chine', 'actor', 'jet', 'li', 'complet', 'august', 'movi', 'releas', 'april', 'movi', 'featur', 'heavi', 'use', 'effect', 'wire', 'chan', 'voic', 'master', 'monkey', 'kung', 'fu', 'panda', 'releas', 'june', 'appear', 'jack', 'black', 'dustin', 'hoffman', 'angelina', 'joli', 'addit', 'assist', 'anthoni', 'szeto', 'advisori', 'capac', 'writerdirector', 'film', 'wushu', 'releas', 'may', 'film', 'star', 'sammo', 'hung', 'wang', 'wenji', 'father', 'sonin', 'novemb', 'chan', 'began', 'film', 'shinjuku', 'incid', 'dramat', 'role', 'featur', 'martial', 'art', 'sequenc', 'director', 'derek', 'yee', 'see', 'chan', 'take', 'role', 'chine', 'immigr', 'japan', 'film', 'releas', 'april', 'accord', 'blog', 'chan', 'discus', 'wish', 'direct', 'film', 'complet', 'shinjuku', 'incid', 'someth', 'done', 'number', 'year', 'film', 'expect', 'third', 'armour', 'god', 'seri', 'work', 'titl', 'armour', 'god', 'iii', 'chine', 'zodiac', 'film', 'releas', 'decemb', 'screen', 'actor', 'guild', 'go', 'strike', 'chan', 'start', 'shoot', 'next', 'hollywood', 'movi', 'spi', 'next', 'door', 'end', 'octob', 'new', 'mexico', 'spi', 'next', 'door', 'chan', 'play', 'undercov', 'agent', 'whose', 'cover', 'blown', 'look', 'child', 'girlfriend', 'littl', 'big', 'soldier', 'chan', 'star', 'alongsid', 'leehom', 'wang', 'soldier', 'war', 'state', 'period', 'china', 'lone', 'survivor', 'armi', 'must', 'bring', 'captur', 'enemi', 'soldier', 'leehom', 'wang', 'capit', 'provinc', 'star', 'jaden', 'smith', 'karat', 'kid', 'remak', 'origin', 'chan', 'first', 'dramat', 'american', 'film', 'play', 'mr', 'han', 'kung', 'fu', 'master', 'mainten', 'man', 'teach', 'jaden', 'smith', 'charact', 'kung', 'fu', 'defend', 'school', 'bulli', 'role', 'karat', 'kid', 'favorit', 'buttkick', 'award', 'nickelodeon', 'kid', 'choic', 'award', 'chan', 'next', 'movi', 'shaolin', 'play', 'support', 'role', 'cook', 'templ', 'instead', 'one', 'major', 'charact', 'th', 'movi', 'releas', 'septemb', 'chan', 'codirector', 'execut', 'produc', 'lead', 'star', 'movi', 'chan', 'direct', 'ten', 'film', 'career', 'first', 'directori', 'work', 'sinc', 'premier', 'north', 'america', 'octoberwhil', 'cann', 'film', 'festiv', 'chan', 'announc', 'retir', 'action', 'film', 'cite', 'get', 'old', 'genr', 'later', 'clarifi', 'would', 'complet', 'retir', 'action', 'film', 'would', 'perform', 'fewer', 'stunt', 'take', 'care', 'bodi', 'morein', 'chan', 'star', 'polic', 'stori', 'reboot', 'polic', 'stori', 'franchis', 'direct', 'ding', 'sheng', 'releas', 'china', 'end', 'chan', 'next', 'film', 'dragon', 'blade', 'releas', 'earli', 'costar', 'hollywood', 'actor', 'john', 'cusack', 'adrien', 'brodi', 'chan', 'award', 'titl', 'datuk', 'malaysia', 'help', 'malaysia', 'boost', 'tourism', 'especi', 'kuala', 'lumpur', 'previous', 'shot', 'film', 'earli', 'chan', 'new', 'film', 'titl', 'kung', 'fu', 'yoga', 'chineseindian', 'project', 'also', 'star', 'disha', 'patani', 'sonu', 'sood', 'amyra', 'dastur', 'releas', 'film', 'reunit', 'chan', 'director', 'stanley', 'tong', 'direct', 'number', 'chan', 'film', 'upon', 'releas', 'film', 'huge', 'success', 'box', 'offic', 'becam', 'th', 'highestgross', 'film', 'china', 'one', 'month', 'releas', 'team', 'johnni', 'knoxvil', 'star', 'product', 'skiptrac', 'chan', 'star', 'actioncomedi', 'railroad', 'tiger', 'actionthril', 'foreign', 'anglochines', 'product', 'also', 'star', 'scienc', 'fiction', 'film', 'bleed', 'steel', 'appear', 'project', 'xtraction', 'alongsid', 'john', 'cena', 'film', 'collect', 'gross', 'hk', 'billion', 'u', 'million', 'hong', 'kong', 'box', 'offic', 'u', 'million', 'south', 'korea', 'billion', 'u', 'million', 'japan', 'europ', 'film', 'collect', 'sold', 'million', 'ticket', 'film', 'gross', 'billion', 'rmb', 'u', 'billion', 'china', 'u', 'billion', 'u', 'billion', 'adjust', 'inflat', 'unit', 'state', 'canada', 'film', 'gross', 'u', 'billion', 'worldwid', 'box', 'offic', 'work', 'music', 'chan', 'vocal', 'lesson', 'whilst', 'peke', 'opera', 'school', 'childhood', 'began', 'produc', 'record', 'profession', 'gone', 'becom', 'success', 'singer', 'hong', 'kong', 'asia', 'releas', 'album', 'sinc', 'perform', 'vocal', 'cantones', 'mandarin', 'japanes', 'taiwanes', 'english', 'often', 'sing', 'theme', 'song', 'film', 'play', 'close', 'credit', 'chan', 'first', 'music', 'record', 'kung', 'fu', 'fight', 'man', 'theme', 'song', 'play', 'close', 'credit', 'young', 'master', 'least', 'record', 'releas', 'soundtrack', 'album', 'film', 'cantones', 'song', 'stori', 'hero', '英雄故事', 'theme', 'song', 'polic', 'stori', 'select', 'royal', 'hong', 'kong', 'polic', 'incorpor', 'recruit', 'advertis', 'chan', 'voic', 'charact', 'shang', 'chine', 'releas', 'walt', 'disney', 'anim', 'featur', 'mulan', 'also', 'perform', 'song', 'ill', 'make', 'man', 'film', 'soundtrack', 'u', 'releas', 'speak', 'voic', 'perform', 'bd', 'wong', 'sing', 'voic', 'done', 'donni', 'osmond', 'also', 'collabor', 'ani', 'difranco', 'unforgettablein', 'chan', 'record', 'releas', 'readi', 'offici', 'oneyear', 'countdown', 'song', 'summer', 'olymp', 'perform', 'ceremoni', 'mark', 'oneyear', 'countdown', 'summer', 'paralymp', 'chan', 'also', 'releas', 'one', 'two', 'offici', 'olymp', 'album', 'offici', 'album', 'beij', 'olymp', 'game', 'jacki', 'chan', 'version', 'featur', 'number', 'special', 'guest', 'appear', 'chan', 'perform', 'hard', 'say', 'goodby', 'along', 'andi', 'lau', 'liu', 'huan', 'wakin', 'emil', 'chau', 'summer', 'olymp', 'close', 'ceremoni', 'academia', 'chan', 'receiv', 'honorari', 'doctor', 'social', 'scienc', 'degre', 'hong', 'kong', 'baptist', 'univers', 'receiv', 'anoth', 'honorari', 'doctor', 'univers', 'cambodia', 'also', 'award', 'honorari', 'professorship', 'savannah', 'colleg', 'art', 'design', 'hong', 'kong', 'chan', 'current', 'faculti', 'member', 'school', 'hotel', 'tourism', 'manag', 'hong', 'kong', 'polytechn', 'univers', 'teach', 'subject', 'tourism', 'manag', 'also', 'serv', 'dean', 'jacki', 'chan', 'film', 'televis', 'academi', 'wuhan', 'institut', 'design', 'scienc', 'person', 'life', 'chan', 'marri', 'joan', 'lin', 'taiwanes', 'actress', 'son', 'singer', 'actor', 'jayce', 'chan', 'born', 'year', 'chan', 'extramarit', 'affair', 'elain', 'ng', 'yilei', 'daughter', 'etta', 'ng', 'chok', 'lam', 'born', 'januari', 'turn', 'scandal', 'within', 'medium', 'although', 'reportedli', 'gave', 'elain', 'hk', 'dollar', 'month', 'live', 'expens', 'hk', 'dollar', 'move', 'shanghai', 'transact', 'later', 'claim', 'nonexist', 'lawyer', 'despit', 'regret', 'result', 'affair', 'chan', 'said', 'commit', 'fault', 'mani', 'men', 'world', 'commit', 'incid', 'elain', 'state', 'would', 'take', 'care', 'daughter', 'without', 'chanchan', 'speak', 'cantones', 'mandarin', 'english', 'american', 'sign', 'languag', 'also', 'speak', 'german', 'korean', 'japanes', 'spanish', 'thai', 'chan', 'avid', 'footbal', 'fan', 'support', 'hong', 'kong', 'nation', 'footbal', 'team', 'england', 'nation', 'footbal', 'team', 'manchest', 'cityh', 'fan', 'italian', 'duo', 'bud', 'spencer', 'terenc', 'hill', 'inspir', 'movi', 'stunt', 'screen', 'persona', 'chan', 'perform', 'stunt', 'throughout', 'film', 'career', 'choreograph', 'jacki', 'chan', 'stunt', 'team', 'team', 'establish', 'chan', 'use', 'subsequ', 'film', 'make', 'choreograph', 'easier', 'given', 'understand', 'member', 'abil', 'chan', 'team', 'undertak', 'mani', 'stunt', 'perform', 'charact', 'film', 'shoot', 'scene', 'face', 'obscuredin', 'earli', 'jacki', 'chan', 'began', 'experi', 'elabor', 'stunt', 'action', 'sequenc', 'film', 'young', 'master', 'especi', 'dragon', 'lord', 'featur', 'pyramid', 'fight', 'scene', 'hold', 'record', 'take', 'requir', 'singl', 'scene', 'take', 'final', 'fight', 'scene', 'perform', 'variou', 'stunt', 'includ', 'one', 'backflip', 'loft', 'fall', 'lower', 'ground', 'project', 'saw', 'offici', 'format', 'jacki', 'chan', 'stunt', 'team', 'ad', 'elabor', 'danger', 'stunt', 'fight', 'typic', 'slapstick', 'humor', 'one', 'point', 'chan', 'fall', 'top', 'clock', 'tower', 'seri', 'fabric', 'canopi', 'critic', 'compar', 'comed', 'stunt', 'project', 'buster', 'keaton', 'also', 'known', 'perform', 'stunt', 'although', 'chan', 'watch', 'keaton', 'film', 'year', 'project', 'releas', 'accord', 'chan', 'project', 'evolut', 'action', 'stunt', 'work', 'earlier', 'kung', 'fu', 'comedi', 'film', 'sinc', 'young', 'masterpolic', 'stori', 'contain', 'mani', 'largescal', 'action', 'scene', 'includ', 'open', 'sequenc', 'featur', 'car', 'chase', 'shanti', 'town', 'chan', 'stop', 'doubledeck', 'bu', 'servic', 'revolv', 'climact', 'fight', 'scene', 'shop', 'mall', 'final', 'scene', 'earn', 'film', 'nicknam', 'glass', 'stori', 'crew', 'due', 'huge', 'number', 'pane', 'sugar', 'glass', 'broken', 'stunt', 'last', 'scene', 'chan', 'slide', 'pole', 'sever', 'stori', 'light', 'cover', 'pole', 'heat', 'consider', 'result', 'chan', 'suffer', 'seconddegre', 'burn', 'particularli', 'hand', 'well', 'back', 'injuri', 'disloc', 'pelvi', 'upon', 'land', 'chan', 'perform', 'similarli', 'elabor', 'stunt', 'numer', 'film', 'sever', 'polic', 'stori', 'sequel', 'project', 'part', 'ii', 'armor', 'god', 'seri', 'dragon', 'forev', 'drunken', 'master', 'ii', 'rumbl', 'bronx', 'rush', 'hour', 'seri', 'among', 'other', 'danger', 'natur', 'stunt', 'make', 'difficult', 'get', 'insur', 'especi', 'unit', 'state', 'stunt', 'work', 'contractu', 'limit', 'chan', 'hold', 'guin', 'world', 'record', 'stunt', 'live', 'actor', 'emphasis', 'insur', 'compani', 'underwrit', 'chan', 'product', 'perform', 'stuntschan', 'injur', 'frequent', 'attempt', 'stunt', 'mani', 'shown', 'outtak', 'blooper', 'close', 'credit', 'film', 'came', 'closest', 'death', 'film', 'armour', 'god', 'fell', 'tree', 'fractur', 'skull', 'year', 'disloc', 'pelvi', 'also', 'broken', 'numer', 'part', 'bodi', 'includ', 'finger', 'toe', 'nose', 'cheekbon', 'hip', 'sternum', 'neck', 'ankl', 'rib', 'promot', 'materi', 'rumbl', 'bronx', 'emphasis', 'perform', 'stunt', 'one', 'version', 'movi', 'poster', 'even', 'diagram', 'mani', 'injuri', 'chan', 'creat', 'screen', 'persona', 'respons', 'late', 'bruce', 'lee', 'numer', 'imit', 'appear', 'lee', 'death', 'lee', 'charact', 'typic', 'stern', 'moral', 'upright', 'hero', 'contrast', 'chan', 'play', 'wellmean', 'slightli', 'foolish', 'regular', 'men', 'often', 'merci', 'friend', 'girlfriend', 'famili', 'alway', 'triumph', 'end', 'despit', 'odd', 'addit', 'state', 'deliber', 'style', 'movement', 'opposit', 'lee', 'lee', 'held', 'arm', 'wide', 'chan', 'hold', 'tight', 'bodi', 'lee', 'loo', 'flow', 'chan', 'tight', 'choppi', 'despit', 'success', 'rush', 'hour', 'seri', 'chan', 'state', 'fan', 'sinc', 'neither', 'appreci', 'action', 'scene', 'movi', 'understand', 'american', 'humoramerican', 'filmmak', 'quentin', 'tarantino', 'classifi', 'chan', 'style', 'act', 'filmmak', 'physic', 'comedi', 'consid', 'one', 'greatest', 'genr', 'british', 'filmmak', 'edgar', 'wright', 'describ', 'jacki', 'chan', 'express', 'visual', 'perform', 'everyman', 'persona', 'note', 'contrast', 'action', 'hero', 'bruce', 'lee', 'sylvest', 'stallon', 'clint', 'eastwood', 'arnold', 'schwarzenegg', 'chan', 'present', 'loveabl', 'goofbal', 'underdog', 'overcom', 'odd', 'almost', 'superhuman', 'acrobat', 'stunt', 'fight', 'abilitiesin', 'age', 'chan', 'grew', 'tire', 'typecast', 'action', 'hero', 'prompt', 'act', 'emot', 'latest', 'film', 'new', 'polic', 'stori', 'portray', 'charact', 'suffer', 'alcohol', 'mourn', 'murder', 'colleagu', 'shed', 'imag', 'nice', 'guy', 'chan', 'play', 'antihero', 'first', 'time', 'robbhood', 'star', 'thong', 'burglar', 'gambl', 'problem', 'chan', 'met', 'actor', 'vijay', 'discus', 'stunt', 'film', 'put', 'life', 'risk', 'chan', 'play', 'lowlevel', 'gangster', 'shinjuku', 'incid', 'seriou', 'drama', 'set', 'tokyo', 'unsavori', 'charact', 'legaci', 'chan', 'receiv', 'global', 'recognit', 'film', 'act', 'stunt', 'work', 'accolad', 'includ', 'innov', 'award', 'american', 'choreographi', 'award', 'lifetim', 'achiev', 'award', 'tauru', 'world', 'stunt', 'award', 'star', 'hollywood', 'walk', 'fame', 'hong', 'kong', 'avenu', 'star', 'addit', 'chan', 'also', 'honour', 'place', 'hand', 'footprint', 'grauman', 'chine', 'theatr', 'despit', 'consider', 'box', 'offic', 'success', 'asia', 'chan', 'hollywood', 'film', 'criticis', 'regard', 'action', 'choreographi', 'review', 'rush', 'hour', 'tuxedo', 'shanghai', 'knight', 'note', 'tone', 'chan', 'fight', 'scene', 'cite', 'le', 'intens', 'compar', 'earlier', 'film', 'comed', 'valu', 'film', 'question', 'critic', 'state', 'childish', 'time', 'chan', 'award', 'order', 'british', 'empir', 'mbe', 'silver', 'bauhinia', 'star', 'sb', 'american', 'filmmak', 'quentin', 'tarantino', 'present', 'chan', 'lifetim', 'achiev', 'award', 'mtv', 'movi', 'award', 'tarantino', 'describ', 'chan', 'one', 'best', 'filmmak', 'world', 'ever', 'known', 'one', 'greatest', 'physic', 'comedian', 'sinc', 'sound', 'came', 'film', 'cultur', 'impact', 'film', 'industri', 'numer', 'film', 'around', 'world', 'taken', 'inspir', 'jacki', 'chan', 'fight', 'sequenc', 'action', 'choreographi', 'exampl', 'includ', 'matrix', 'kill', 'bill', 'choreograph', 'former', 'colleagu', 'yuen', 'woop', 'kung', 'fu', 'panda', 'seri', 'also', 'voic', 'monkey', 'raid', 'redempt', 'indonesian', 'cinema', 'kingsman', 'secret', 'servic', 'john', 'wick', 'seri', 'atom', 'blond', 'marvel', 'cinemat', 'univers', 'film', 'black', 'panther', 'shangchi', 'legend', 'ten', 'ring', 'dc', 'extend', 'univers', 'film', 'bird', 'prey', 'netflix', 'film', 'extract', 'british', 'filmmak', 'edgar', 'wright', 'cite', 'chan', 'influenc', 'said', 'matter', 'mani', 'peopl', 'tri', 'rip', 'jacki', 'chan', 'movi', 'there', 'someth', 'cant', 'rip', 'jacki', 'chan', 'tom', 'holland', 'also', 'cite', 'chan', 'influenc', 'sever', 'action', 'scene', 'unchart', 'note', 'chan', 'use', 'surround', 'fight', 'peopl', 'uniqu', 'way', 'popular', 'cultur', 'medium', 'chan', 'subject', 'ash', 'song', 'kung', 'fu', 'heavi', 'veget', 'jacki', 'chan', 'punk', 'rocker', 'leehom', 'wang', 'long', 'live', 'chine', 'peopl', 'well', 'jacki', 'chan', 'frank', 'chicken', 'televis', 'show', 'tim', 'eric', 'awesom', 'show', 'great', 'job', 'celebr', 'deathmatch', 'famili', 'guy', 'cite', 'inspir', 'manga', 'anim', 'dragon', 'ball', 'particularli', 'inspir', 'drunken', 'master', 'fight', 'scene', 'jacki', 'chan', 'movi', 'show', 'pay', 'homag', 'charact', 'alia', 'jacki', 'chun', 'toriyama', 'said', 'young', 'jacki', 'chan', 'mind', 'liveact', 'goku', 'state', 'nobodi', 'could', 'play', 'goku', 'chan', 'fan', 'seri', 'express', 'interest', 'adapt', 'dragon', 'ball', 'liveact', 'film', 'said', 'would', 'requir', 'lot', 'amaz', 'special', 'effect', 'enorm', 'budgetth', 'parkour', 'movement', 'also', 'inspir', 'chana', 'number', 'video', 'game', 'base', 'featur', 'jacki', 'chan', 'film', 'wheel', 'meal', 'call', 'spartan', 'x', 'japan', 'spawn', 'hit', 'beat', 'em', 'arcad', 'game', 'spartan', 'x', 'releas', 'kungfu', 'master', 'western', 'market', 'sequel', 'spartan', 'x', 'nintendo', 'famicom', 'consol', 'spartan', 'x', 'laid', 'foundat', 'beat', 'em', 'genr', 'inspir', 'game', 'includ', 'super', 'mario', 'bro', 'street', 'fighter', 'jacki', 'chan', 'action', 'kung', 'fu', 'releas', 'pcengin', 'nintendo', 'entertain', 'system', 'chan', 'featur', 'arcad', 'game', 'jacki', 'chan', 'kungfu', 'master', 'seri', 'japanes', 'video', 'game', 'releas', 'msx', 'comput', 'poni', 'base', 'sever', 'chan', 'film', 'project', 'project', 'polic', 'stori', 'protector', 'wheel', 'meal', 'game', 'base', 'jacki', 'chan', 'includ', 'jacki', 'chan', 'stuntmast', 'jacki', 'chan', 'adventur', 'jacki', 'chan', 'jmat', 'fit', 'chan', 'also', 'inspir', 'video', 'game', 'charact', 'lei', 'wulong', 'tekken', 'fightingtyp', 'pokémon', 'hitmonchanon', 'june', 'chan', 'respond', 'hoax', 'facebook', 'page', 'creat', 'day', 'earlier', 'alleg', 'die', 'said', 'sever', 'peopl', 'contact', 'congratul', 'recent', 'engag', 'soon', 'thereaft', 'contact', 'ask', 'still', 'aliv', 'post', 'facebook', 'messag', 'comment', 'die', 'would', 'probabl', 'tell', 'worldin', 'madeup', 'word', 'inspir', 'chan', 'descript', 'hair', 'interview', 'commerci', 'duang', 'becam', 'internet', 'viral', 'meme', 'particularli', 'china', 'chine', 'charact', 'word', 'composit', 'two', 'charact', 'chan', 'name', 'public', 'imag', 'jacki', 'chan', 'sponsorship', 'deal', 'mitsubishi', 'motor', 'result', 'appear', 'mitsubishi', 'car', 'number', 'film', 'furthermor', 'mitsubishi', 'launch', 'limit', 'seri', 'evolut', 'car', 'person', 'customis', 'chanchan', 'also', 'primari', 'catalyst', 'creation', 'review', 'aggreg', 'websit', 'rotten', 'tomato', 'whose', 'founder', 'senh', 'duong', 'fan', 'creat', 'websit', 'collect', 'review', 'chan', 'hong', 'kong', 'action', 'movi', 'releas', 'unit', 'state', 'anticip', 'rush', 'hour', 'chan', 'first', 'major', 'hollywood', 'crossov', 'code', 'websit', 'two', 'week', 'site', 'went', 'live', 'shortli', 'releas', 'rush', 'hourchan', 'say', 'alway', 'want', 'role', 'model', 'child', 'remain', 'popular', 'due', 'goodnatur', 'act', 'style', 'gener', 'refus', 'play', 'villain', 'restrain', 'use', 'swear', 'word', 'film', 'persuad', 'director', 'rush', 'hour', 'take', 'fuck', 'script', 'chan', 'greatest', 'regret', 'life', 'receiv', 'proper', 'educ', 'inspir', 'fund', 'educ', 'institut', 'around', 'world', 'fund', 'construct', 'jacki', 'chan', 'scienc', 'centr', 'australian', 'nation', 'univers', 'establish', 'school', 'poor', 'region', 'chinachan', 'spokesperson', 'govern', 'hong', 'kong', 'appear', 'public', 'servic', 'announc', 'clean', 'hong', 'kong', 'commerci', 'urg', 'peopl', 'hong', 'kong', 'consider', 'regard', 'litter', 'problem', 'widespread', 'decad', 'furthermor', 'advertis', 'promot', 'nation', 'gave', 'short', 'explan', 'march', 'volunt', 'nation', 'anthem', 'peopl', 'republ', 'china', 'hong', 'kong', 'disneyland', 'open', 'chan', 'particip', 'open', 'ceremoni', 'unit', 'state', 'chan', 'appear', 'alongsid', 'arnold', 'schwarzenegg', 'govern', 'advert', 'combat', 'copyright', 'infring', 'made', 'anoth', 'public', 'servic', 'announc', 'lo', 'angel', 'counti', 'sheriff', 'lee', 'baca', 'encourag', 'peopl', 'especi', 'asian', 'peopl', 'join', 'lo', 'angel', 'counti', 'sheriff', 'depart', 'cultur', 'honor', 'depict', 'construct', 'begun', 'jacki', 'chan', 'museum', 'shanghai', 'novemb', 'statu', 'chan', 'unveil', 'front', 'known', 'jc', 'film', 'galleri', 'open', 'spring', 'februari', 'chan', 'award', 'honour', 'knight', 'command', 'order', 'territori', 'crown', 'yang', 'dipertuan', 'agong', 'malaysia', 'tuanku', 'abdul', 'halim', 'conjunct', 'countri', 'feder', 'territori', 'day', 'carri', 'titl', 'datuk', 'malaysia', 'polit', 'view', 'controversi', 'handov', 'hong', 'kong', 'unit', 'kingdom', 'china', 'chan', 'polit', 'gradual', 'shift', 'prodemocrat', 'probeij', 'stanc', 'chan', 'perform', 'concert', 'democraci', 'china', 'support', 'democrat', 'movement', 'tiananmen', 'squar', 'protest', 'contrast', 'express', 'desir', 'join', 'chine', 'communist', 'parti', 'accord', 'chan', 'want', 'parti', 'member', 'moral', 'fail', 'make', 'unqualifi', 'chan', 'state', 'see', 'great', 'ccp', 'view', 'deliv', 'say', 'promis', 'le', 'year', 'decadesdur', 'news', 'confer', 'shanghai', 'march', 'chan', 'refer', 'recent', 'conclud', 'republ', 'china', 'presidenti', 'elect', 'taiwan', 'democrat', 'progress', 'parti', 'candid', 'chen', 'shuibian', 'annett', 'lu', 'reelect', 'presid', 'vicepresid', 'biggest', 'joke', 'world', 'taiwanes', 'legisl', 'senior', 'member', 'dpp', 'parri', 'chang', 'call', 'govern', 'taiwan', 'ban', 'around', 'world', 'day', 'polic', 'secur', 'personnel', 'separ', 'chan', 'score', 'protest', 'shout', 'jacki', 'chan', 'get', 'arriv', 'taipei', 'airport', 'june', 'refer', 'particip', 'torch', 'relay', 'summer', 'olymp', 'beij', 'chan', 'spoke', 'demonstr', 'disrupt', 'relay', 'sever', 'time', 'attempt', 'draw', 'attent', 'widerang', 'number', 'grievanc', 'chine', 'govern', 'warn', 'public', 'seeker', 'plan', 'stop', 'carri', 'olymp', 'torch', 'get', 'anywher', 'near', 'chan', 'also', 'argu', 'olymp', 'coverag', 'year', 'would', 'provid', 'anoth', 'way', 'u', 'tell', 'world', 'chine', 'cultur', 'chan', 'name', 'antidrug', 'ambassador', 'chine', 'govern', 'activ', 'take', 'part', 'antidrug', 'campaign', 'support', 'presid', 'hu', 'jintao', 'declar', 'illeg', 'drug', 'erad', 'user', 'punish', 'sever', 'son', 'jayce', 'arrest', 'cannabi', 'use', 'said', 'angri', 'shock', 'heartbroken', 'asham', 'son', 'also', 'remark', 'hope', 'young', 'peopl', 'learn', 'lesson', 'jayce', 'stay', 'far', 'harm', 'drug', 'say', 'jayce', 'accept', 'consequ', 'someth', 'wrongon', 'april', 'panel', 'discus', 'annual', 'boao', 'forum', 'asia', 'question', 'whether', 'broad', 'freedom', 'good', 'thing', 'note', 'strong', 'tension', 'hong', 'kong', 'taiwan', 'said', 'im', 'gradual', 'begin', 'feel', 'chine', 'need', 'control', 'control', 'well', 'want', 'chan', 'comment', 'prompt', 'angri', 'respons', 'sever', 'promin', 'figur', 'taiwan', 'hong', 'kong', 'spokesman', 'later', 'said', 'chan', 'refer', 'freedom', 'entertain', 'industri', 'rather', 'chine', 'societi', 'largein', 'decemb', 'chan', 'caus', 'outrag', 'criticis', 'hong', 'kong', 'citi', 'protest', 'suggest', 'demonstr', 'right', 'hong', 'kong', 'limit', 'month', 'interview', 'phoenix', 'tv', 'chan', 'state', 'unit', 'state', 'corrupt', 'countri', 'world', 'turn', 'anger', 'part', 'onlin', 'commun', 'articl', 'situat', 'chan', 'comment', 'context', 'career', 'life', 'unit', 'state', 'includ', 'embrac', 'american', 'film', 'market', 'seek', 'asylum', 'unit', 'state', 'hong', 'kong', 'triadsfrom', 'chan', 'serv', 'two', 'term', 'member', 'chine', 'peopl', 'polit', 'consult', 'confer', 'repres', 'literatur', 'art', 'sectorin', 'april', 'chan', 'name', 'panama', 'paper', 'chan', 'accus', 'engag', 'illeg', 'activ', 'per', 'se', 'list', 'six', 'differ', 'offshor', 'account', 'like', 'purpos', 'serv', 'tax', 'sheltersin', 'chan', 'criticis', 'hong', 'kong', 'antiextradit', 'bill', 'protest', 'say', 'fivestar', 'red', 'flag', 'respect', 'everywher', 'around', 'world', 'also', 'support', 'nation', 'peopl', 'congress', 'decis', 'hong', 'kong', 'nation', 'secur', 'legisl', 'entrepreneurship', 'philanthropi', 'addit', 'film', 'product', 'distribut', 'compani', 'jce', 'movi', 'limit', 'jacki', 'chan', 'own', 'coown', 'product', 'compani', 'jc', 'group', 'china', 'jacki', 'willi', 'product', 'willi', 'chan', 'jacki', 'jj', 'product', 'chan', 'also', 'put', 'name', 'jacki', 'chan', 'theater', 'intern', 'cinema', 'chain', 'china', 'corun', 'hong', 'kong', 'compani', 'sparkl', 'roll', 'group', 'ltd', 'firstjacki', 'chanyaolai', 'intern', 'cinemaopen', 'februari', 'claim', 'largest', 'cinema', 'complex', 'china', 'screen', 'seat', 'chan', 'express', 'hope', 'size', 'venu', 'would', 'afford', 'young', 'noncommerci', 'director', 'opportun', 'film', 'screen', 'fifteen', 'cinema', 'chain', 'plan', 'throughout', 'beij', 'shanghai', 'guangzhou', 'potenti', 'total', 'cinema', 'throughout', 'countri', 'proposedin', 'chan', 'launch', 'line', 'cloth', 'bear', 'chine', 'dragon', 'logo', 'english', 'word', 'jacki', 'initi', 'jc', 'chan', 'also', 'number', 'brand', 'busi', 'sushi', 'restaur', 'chain', 'jacki', 'kitchen', 'outlet', 'throughout', 'hong', 'kong', 'well', 'seven', 'south', 'korea', 'plan', 'open', 'anoth', 'la', 'vega', 'jacki', 'chan', 'cafe', 'outlet', 'beij', 'singapor', 'philippin', 'ventur', 'includ', 'jacki', 'chan', 'signatur', 'club', 'gym', 'partnership', 'california', 'fit', 'line', 'chocol', 'cooki', 'nutrit', 'oatcak', 'busi', 'percentag', 'profit', 'goe', 'variou', 'chariti', 'includ', 'jacki', 'chan', 'charit', 'foundat', 'chan', 'partner', 'asian', 'le', 'man', 'seri', 'champion', 'david', 'cheng', 'form', 'race', 'team', 'seri', 'fia', 'world', 'endur', 'championship', 'two', 'met', 'march', 'chan', 'told', 'cheng', 'interest', 'motorsport', 'rais', 'possibl', 'start', 'team', 'togeth', 'two', 'form', 'baxi', 'dc', 'race', 'alpin', 'first', 'mainland', 'chinabas', 'oper', 'wec', 'octob', 'lead', 'asian', 'le', 'man', 'seri', 'season', 'team', 'rebrand', 'jacki', 'chan', 'dc', 'race', 'race', 'liveri', 'promot', 'chan', 'movi', 'kung', 'fu', 'yoga', 'hour', 'le', 'man', 'team', 'becam', 'first', 'chine', 'team', 'win', 'class', 'lmpchan', 'unicef', 'goodwil', 'ambassador', 'champion', 'charit', 'work', 'caus', 'campaign', 'conserv', 'anim', 'abus', 'promot', 'disast', 'relief', 'effort', 'flood', 'mainland', 'china', 'indian', 'ocean', 'tsunamiin', 'june', 'cite', 'admir', 'effort', 'made', 'warren', 'buffett', 'bill', 'gate', 'help', 'need', 'chan', 'pledg', 'donat', 'half', 'asset', 'chariti', 'upon', 'death', 'march', 'chan', 'guest', 'honour', 'launch', 'australian', 'prime', 'minist', 'kevin', 'rudd', 'jacki', 'chan', 'scienc', 'centr', 'john', 'curtin', 'school', 'medic', 'research', 'australian', 'nation', 'univers', 'chan', 'also', 'support', 'ambassador', 'save', 'china', 'tiger', 'aim', 'save', 'endang', 'south', 'china', 'tiger', 'breed', 'releas', 'wild', 'follow', 'sichuan', 'earthquak', 'chan', 'donat', 'rmb', 'million', 'help', 'need', 'addit', 'plan', 'make', 'film', 'chine', 'earthquak', 'rais', 'money', 'survivor', 'respons', 'tōhoku', 'earthquak', 'tsunami', 'chan', 'fellow', 'hong', 'kongbas', 'celebr', 'includ', 'american', 'rapper', 'mc', 'jin', 'headlin', 'special', 'threehour', 'chariti', 'concert', 'titl', 'artist', 'love', 'beyond', 'border', 'april', 'help', 'japan', 'disast', 'recoveri', 'effort', 'hour', 'concert', 'rais', 'million', 'januari', 'chan', 'donat', 'help', 'flood', 'victim', 'thailandchan', 'found', 'jacki', 'chan', 'charit', 'foundat', 'offer', 'scholarship', 'activ', 'help', 'hong', 'kong', 'young', 'peopl', 'provid', 'aid', 'victim', 'natur', 'disast', 'ill', 'chan', 'creat', 'dragon', 'heart', 'foundat', 'help', 'child', 'elderli', 'remot', 'area', 'china', 'build', 'school', 'provid', 'book', 'fee', 'uniform', 'child', 'organis', 'expand', 'reach', 'europ', 'foundat', 'also', 'provid', 'elderli', 'donat', 'warm', 'cloth', 'wheelchair', 'item', 'endors', 'one', 'product', 'chan', 'endors', 'china', 'littl', 'tyrant', '小霸王', 'produc', 'subor', 'nintendo', 'entertain', 'system', 'hardwar', 'clone', 'market', 'learn', 'machin', 'circumv', 'china', 'thenban', 'video', 'game', 'consol', 'chan', 'serv', 'brand', 'ambassador', 'kasperski', 'lab', 'antiviru', 'softwar', 'asiather', 'urban', 'legend', 'call', 'jacki', 'chan', 'cur', 'abc', 'news', 'report', 'legend', 'origin', 'slew', 'product', 'sold', 'china', 'bear', 'name', 'smile', 'seal', 'approv', 'proven', 'defect', 'prone', 'explos', 'one', 'case', 'potenti', 'damag', 'consum', 'health', 'led', 'belief', 'product', 'compani', 'endors', 'jacki', 'chan', 'would', 'suffer', 'setback', 'failur', 'fit', 'chain', 'california', 'fit', 'blame', 'cur', 'cur', 'invok', 'evergrand', 'group', 'suffer', 'major', 'loss', 'follow', 'chan', 'promot', 'evergrand', 'spring', 'brand', 'bottl', 'water', 'howev', 'jacki', 'chan', 'also', 'endors', 'number', 'product', 'compani', 'issu', 'filmographi', 'discographi', 'award', 'nomin', 'honour', 'unit', 'kingdom', 'member', 'order', 'british', 'empir', 'mbe', 'feder', 'territori', 'malaysia', 'knight', 'command', 'order', 'territori', 'crown', 'pmw', 'datuk', 'enter', 'walk', 'fame', 'walk', 'fame', 'motion', 'pictur', 'star', 'hollywood', 'boulevard', 'walk', 'fame', 'award', 'name', 'jacki', 'chan', 'jacki', 'chan', 'action', 'movi', 'award', 'held', 'shanghai', 'intern', 'film', 'festiv', 'sinc', 'name', 'jacki', 'chan', 'see', 'also', 'hong', 'kong', 'action', 'cinema', 'refer', 'read', 'extern', 'link', 'offici', 'websit', 'jacki', 'chan', 'imdb', 'jacki', 'chan', 'hong', 'kong', 'movi', 'databas', 'jacki', 'chan', 'allmovi', 'jacki', 'chan', 'rotten', 'tomato']\n"
     ]
    }
   ],
   "source": [
    "# d)\n",
    "# Convert words to lowercase\n",
    "text = text.lower()\n",
    "\n",
    "# Remove numbers\n",
    "import re\n",
    "text = re.sub(r'\\d', '', text)\n",
    "\n",
    "# Punctuation Removal\n",
    "text = re.sub(r'[^\\w\\s]', '', text)\n",
    "\n",
    "# Tokenization\n",
    "\n",
    "text = text.split()\n",
    "\n",
    "# Stop word removal\n",
    "import nltk\n",
    "\n",
    "stopwords = nltk.corpus.stopwords.words('english')\n",
    "\n",
    "\n",
    "def remove_stopwords(text):\n",
    "    output= [i for i in text if i not in stopwords]\n",
    "    return output\n",
    "\n",
    "text =  remove_stopwords(text)\n",
    "\n",
    "# Stemming \n",
    "from nltk.stem.porter import PorterStemmer\n",
    "porter_stemmer = PorterStemmer()\n",
    "\n",
    "def stemming(text):\n",
    "    stem_text = [porter_stemmer.stem(word) for word in text]\n",
    "    return stem_text\n",
    "\n",
    "text = stemming (text)\n",
    "\n",
    "# Lemmatization\n",
    "from nltk.stem import WordNetLemmatizer\n",
    "wordnet_lemmatizer = WordNetLemmatizer()\n",
    "\n",
    "def lemmatizer(text):\n",
    "    lemm_text = [wordnet_lemmatizer.lemmatize(word) for word in text]\n",
    "    return lemm_text\n",
    "\n",
    "text = lemmatizer (text)\n",
    "\n",
    "print (text)"
   ]
  },
  {
   "cell_type": "code",
   "execution_count": 135,
   "metadata": {},
   "outputs": [
    {
     "name": "stdout",
     "output_type": "stream",
     "text": [
      "Most 10: [('chan', 229), ('film', 124), ('jacki', 57), ('hong', 47), ('kong', 45), ('stunt', 31), ('star', 31), ('also', 31), ('releas', 30), ('action', 25)]\n",
      "Rearrest 10: [('allmovi', 1), ('databas', 1), ('imdb', 1), ('link', 1), ('extern', 1), ('read', 1), ('boulevard', 1), ('pictur', 1), ('pmw', 1), ('nomin', 1), ('discographi', 1)]\n"
     ]
    }
   ],
   "source": [
    "# e) \n",
    "from nltk import FreqDist\n",
    "\n",
    "freq_text = FreqDist(text)\n",
    "\n",
    "print('Most 10:',freq_text.most_common(10))\n",
    "\n",
    "rearrest_10 = freq_text.most_common().copy()\n",
    "rearrest_10.reverse()\n",
    "print('Rearrest 10:',rearrest_10[0:11])\n"
   ]
  },
  {
   "cell_type": "code",
   "execution_count": 136,
   "metadata": {},
   "outputs": [
    {
     "data": {
      "text/plain": [
       "<Axes: >"
      ]
     },
     "execution_count": 136,
     "metadata": {},
     "output_type": "execute_result"
    },
    {
     "data": {
      "image/png": "[encoded data removed]",
      "text/plain": [
       "<Figure size 640x480 with 1 Axes>"
      ]
     },
     "metadata": {},
     "output_type": "display_data"
    }
   ],
   "source": [
    "# f)\n",
    "import matplotlib.pyplot as plt\n",
    "import pandas as pd\n",
    "\n",
    "df = pd.Series(dict(freq_text.most_common(30)))\n",
    "df.plot(kind='bar')\n"
   ]
  },
  {
   "cell_type": "code",
   "execution_count": 137,
   "metadata": {},
   "outputs": [
    {
     "data": {
      "text/html": [
       "<div>\n",
       "<style scoped>\n",
       "    .dataframe tbody tr th:only-of-type {\n",
       "        vertical-align: middle;\n",
       "    }\n",
       "\n",
       "    .dataframe tbody tr th {\n",
       "        vertical-align: top;\n",
       "    }\n",
       "\n",
       "    .dataframe thead th {\n",
       "        text-align: right;\n",
       "    }\n",
       "</style>\n",
       "<table border=\"1\" class=\"dataframe\">\n",
       "  <thead>\n",
       "    <tr style=\"text-align: right;\">\n",
       "      <th></th>\n",
       "      <th>words</th>\n",
       "      <th>emo</th>\n",
       "      <th>tk</th>\n",
       "    </tr>\n",
       "  </thead>\n",
       "  <tbody>\n",
       "    <tr>\n",
       "      <th>0</th>\n",
       "      <td>i didnt feel humiliated</td>\n",
       "      <td>sadness</td>\n",
       "      <td>[i, didnt, feel, humiliated]</td>\n",
       "    </tr>\n",
       "    <tr>\n",
       "      <th>1</th>\n",
       "      <td>i can go from feeling so hopeless to so damned...</td>\n",
       "      <td>sadness</td>\n",
       "      <td>[i, can, go, from, feeling, so, hopeless, to, ...</td>\n",
       "    </tr>\n",
       "    <tr>\n",
       "      <th>2</th>\n",
       "      <td>im grabbing a minute to post i feel greedy wrong</td>\n",
       "      <td>anger</td>\n",
       "      <td>[im, grabbing, a, minute, to, post, i, feel, g...</td>\n",
       "    </tr>\n",
       "    <tr>\n",
       "      <th>3</th>\n",
       "      <td>i am ever feeling nostalgic about the fireplac...</td>\n",
       "      <td>love</td>\n",
       "      <td>[i, am, ever, feeling, nostalgic, about, the, ...</td>\n",
       "    </tr>\n",
       "    <tr>\n",
       "      <th>4</th>\n",
       "      <td>i am feeling grouchy</td>\n",
       "      <td>anger</td>\n",
       "      <td>[i, am, feeling, grouchy]</td>\n",
       "    </tr>\n",
       "  </tbody>\n",
       "</table>\n",
       "</div>"
      ],
      "text/plain": [
       "                                               words      emo  \\\n",
       "0                            i didnt feel humiliated  sadness   \n",
       "1  i can go from feeling so hopeless to so damned...  sadness   \n",
       "2   im grabbing a minute to post i feel greedy wrong    anger   \n",
       "3  i am ever feeling nostalgic about the fireplac...     love   \n",
       "4                               i am feeling grouchy    anger   \n",
       "\n",
       "                                                  tk  \n",
       "0                       [i, didnt, feel, humiliated]  \n",
       "1  [i, can, go, from, feeling, so, hopeless, to, ...  \n",
       "2  [im, grabbing, a, minute, to, post, i, feel, g...  \n",
       "3  [i, am, ever, feeling, nostalgic, about, the, ...  \n",
       "4                          [i, am, feeling, grouchy]  "
      ]
     },
     "execution_count": 137,
     "metadata": {},
     "output_type": "execute_result"
    }
   ],
   "source": [
    "# Q2\n",
    "# a)\n",
    "import nltk\n",
    "import re\n",
    "import numpy as np\n",
    "import contractions\n",
    "import nltk\n",
    "\n",
    "train = pd.read_csv('D:/emotions/train.txt')\n",
    "train[['words', 'emo']] = train['words'].str.split(';', expand=True) # modify text to do easier dataframe.\n",
    "\n",
    "from nltk.tokenize import RegexpTokenizer\n",
    "\n",
    "regexp = RegexpTokenizer('\\w+')\n",
    "\n",
    "train['tk']=train['words'].apply(regexp.tokenize)\n",
    "\n",
    "train.head()\n"
   ]
  },
  {
   "cell_type": "code",
   "execution_count": 138,
   "metadata": {},
   "outputs": [
    {
     "name": "stdout",
     "output_type": "stream",
     "text": [
      "By CountVectorizer\n",
      "(16000, 1000)\n",
      "{'didnt': 204, 'feel': 294, 'humiliated': 424, 'feeling': 295, 'hopeless': 411, 'hopeful': 410, 'just': 464, 'im': 433, 'minute': 558, 'post': 648, 'greedy': 357, 'wrong': 990, 'nostalgic': 590, 'know': 474, 'grouchy': 359, 'ive': 458, 'little': 506, 'burdened': 92, 'lately': 482, 'wasnt': 943, 'sure': 834, 'taking': 840, 'times': 871, 'lot': 526, 'like': 499, 'funny': 327, 'confused': 145, 'life': 497, 'jaded': 459, 'year': 994, 'old': 598, 'man': 540, 'years': 995, 'huge': 422, 'romantic': 709, 'make': 537, 'suffering': 824, 'seeing': 731, 'mean': 544, 'running': 714, 'divine': 221, 'experience': 272, 'expect': 270, 'type': 896, 'think': 863, 'time': 870, 'dissatisfied': 216, 'low': 533, 'energy': 256, 'general': 331, 'point': 643, 'possible': 646, 'trying': 894, 'write': 987, 'let': 492, 'feels': 297, 'precious': 651, 'reassured': 685, 'anxiety': 29, 'really': 682, 'embarrassed': 249, 'pretty': 656, 'pathetic': 617, 'started': 796, 'sentimental': 736, 'child': 115, 'began': 59, 'skeptical': 764, 'work': 975, 'irritated': 453, 'rejected': 690, 'doing': 225, 'saying': 725, 'completely': 141, 'overwhelmed': 606, 'help': 394, 'heart': 390, 'god': 345, 'end': 253, 'list': 502, 'things': 862, 'grateful': 355, 'amused': 24, 'delighted': 193, 'able': 1, 'support': 829, 'great': 356, 'glad': 342, 'fucked': 323, 'dont': 227, 'usually': 917, 'eat': 244, 'morning': 571, 'love': 529, 'wish': 964, 'best': 64, 'longer': 516, 'lives': 510, 'fact': 281, 'bitter': 70, 'angry': 26, 'person': 623, 'particularly': 611, 'kind': 470, 'people': 621, 'stressed': 810, 'inhibited': 442, 'picture': 632, 'defeated': 189, 'kinda': 471, 'needs': 580, 'explain': 273, 'body': 77, 'superior': 828, 'dead': 181, 'elegant': 248, 'remember': 696, 'distressed': 219, 'days': 179, 'seen': 732, 'heard': 389, 'read': 675, 'past': 616, 'couple': 158, 'left': 491, 'impressed': 438, 'frustrated': 321, 'id': 427, 'entirely': 262, 'course': 159, 'day': 178, 'imagine': 434, 'real': 679, 'emotionally': 251, 'totally': 880, 'accepted': 5, 'safe': 718, 'acceptable': 4, 'close': 124, 'physical': 629, 'sex': 740, 'won': 968, 'expected': 271, 'content': 149, 'need': 578, 'creative': 165, 'want': 937, 'self': 733, 'step': 800, 'away': 49, 'bit': 68, 'rude': 712, 'writing': 988, 'ask': 41, 'christmas': 119, 'small': 770, 'season': 729, 'words': 974, 'plan': 637, 'share': 744, 'everyday': 266, 'stories': 804, 'hope': 409, 'inspired': 446, 'got': 352, 'festive': 300, 'book': 78, 'brave': 86, 'perfect': 622, 'strongly': 812, 'passionate': 615, 'fun': 326, 'discouraged': 212, 'pay': 618, 'way': 947, 'listless': 505, 'new': 584, 'different': 206, 'lost': 525, 'special': 787, 'mind': 557, 'don': 226, 'worry': 981, 'wanted': 938, 'felt': 299, 'reading': 677, 'said': 719, 'used': 912, 'did': 202, 'tell': 847, 'sad': 716, 'home': 403, 'trip': 885, 'stopped': 803, 'cold': 126, 'hot': 416, 'selfish': 734, 'wrote': 992, 'unsure': 907, 'story': 805, 'look': 518, 'good': 350, 'gorgeous': 351, 'sun': 826, 'fake': 284, 'hate': 379, 'living': 511, 'hes': 397, 'live': 507, 'unwelcome': 908, 'ill': 432, 'leave': 488, 'surprised': 835, 'situations': 763, 'anymore': 31, 'coming': 133, 'yes': 996, 'begin': 60, 'fall': 285, 'mom': 564, 'warm': 941, 'loving': 532, 'smile': 772, 'talk': 842, 'extremely': 276, 'popular': 644, 'gentle': 334, 'place': 636, 'level': 495, 'pressured': 655, 'young': 998, 'beautiful': 56, 'having': 384, 'girls': 339, 'week': 952, 'tortured': 879, 'moving': 574, 'finished': 307, 'amazing': 22, 'posts': 650, 'asked': 42, 'deserve': 196, 'pain': 607, 'parents': 610, 'violent': 924, 'emotions': 252, 'supposed': 833, 'feelings': 296, 'unpleasant': 906, 'suppose': 832, 'truth': 892, 'havent': 383, 'faithful': 283, 'doubt': 230, 'miserable': 560, 'figure': 301, 'family': 286, 'matter': 542, 'goes': 346, 'aching': 6, 'talking': 844, 'didn': 203, 'took': 878, 'pictures': 633, 'unimportant': 904, 'stuff': 818, 'tired': 872, 'ready': 678, 'finding': 304, 'given': 340, 'blamed': 72, 'sit': 760, 'worthwhile': 985, 'money': 567, 'use': 911, 'future': 328, 'important': 437, 'honored': 407, 'talented': 841, 'fully': 325, 'girl': 338, 'woman': 966, 'piece': 634, 'thought': 865, 'miss': 561, 'school': 728, 'rushed': 715, 'happy': 377, 'excited': 268, 'learned': 486, 'trusting': 891, 'relaxed': 693, 'start': 795, 'smug': 773, 'realize': 680, 'ok': 597, 'worthless': 984, 'struggling': 814, 'bed': 58, 'dark': 175, 'terrified': 854, 'meet': 547, 'supportive': 831, 'arms': 37, 'today': 874, 'mood': 570, 'strange': 807, 'entire': 261, 'guess': 363, 'passed': 614, 'car': 98, 'letting': 494, 'wronged': 991, 'understand': 900, 'decided': 185, 'shitty': 748, 'shit': 747, 'paper': 608, 'starting': 797, 'vital': 927, 'hear': 388, 'say': 724, 'theyre': 860, 'crying': 166, 'heartless': 392, 'spend': 788, 'country': 157, 'wont': 972, 'going': 347, 'short': 751, 'months': 569, 'word': 973, 'hard': 378, 'works': 978, 'high': 399, 'ashamed': 40, 'saw': 723, 'kids': 469, 'despite': 198, 'getting': 336, 'calm': 96, 'effort': 247, 'better': 66, 'situation': 762, 'college': 127, 'friend': 317, 'complete': 140, 'soon': 780, 've': 922, 'seriously': 738, 'class': 121, 'stress': 809, 'late': 481, 'horrible': 414, 'cause': 105, 'posting': 649, 'wouldnt': 986, 'face': 280, 'useful': 913, 'group': 361, 'idea': 428, 'ugly': 897, 'wear': 949, 'house': 419, 'slightly': 768, 'definitely': 190, 'buy': 94, 'homesick': 404, 'fabulous': 279, 'eyes': 278, 'touch': 881, 'return': 706, 'vain': 919, 'awful': 51, 'honoured': 408, 'friends': 319, 'apprehensive': 34, 'black': 71, 'reason': 683, 'fearful': 293, 'shaken': 742, 'quite': 672, 'awkward': 52, 'finally': 303, 'especially': 264, 'lonely': 514, 'loved': 530, 'blog': 75, 'img': 435, 'src': 793, 'http': 421, 'eager': 239, 'horny': 413, 'doesn': 223, 'pressure': 654, 'uncomfortable': 899, 'sense': 735, 'son': 777, 'father': 289, 'fantastic': 287, 'confident': 144, 'energetic': 255, 'run': 713, 'outside': 605, 'long': 515, 'walk': 933, 'strong': 811, 'tears': 846, 'thoughts': 866, 'rich': 707, 'space': 785, 'thing': 861, 'maybe': 543, 'shes': 746, 'assured': 45, 'called': 95, 'right': 708, 'utterly': 918, 'question': 669, 'office': 595, 'nice': 586, 'hair': 368, 'rebellious': 686, 'generous': 333, 'sleep': 766, 'deprived': 195, 'sleeping': 767, 'night': 587, 'giving': 341, 'sitting': 761, 'amp': 23, 'lucky': 535, 'woke': 965, 'sick': 754, 'disgusted': 213, 'race': 673, 'couldn': 156, 'knew': 473, 'hated': 380, 'mellow': 550, 'easy': 243, 'beginning': 61, 'told': 875, 'indecisive': 441, 'does': 222, 'resolved': 700, 'artistic': 39, 'line': 501, 'pissed': 635, 'middle': 556, 'big': 67, 'wondering': 971, 'unloved': 905, 'certainly': 107, 'whats': 960, 'personal': 624, 'curious': 167, 'watch': 944, 'sorry': 781, 'door': 229, 'world': 979, 'walking': 935, 'comes': 130, 'jealous': 460, 'insecure': 444, 'trust': 890, 'sweet': 837, 'holiday': 402, 'happiness': 376, 'instead': 447, 'control': 152, 'looking': 520, 'hell': 393, 'needy': 581, 'head': 385, 'intimidated': 450, 'groggy': 358, 'view': 923, 'isnt': 454, 'thats': 858, 'fine': 305, 'hold': 401, 'shocked': 749, 'wonder': 969, 'results': 705, 'fear': 292, 'valued': 921, 'arent': 36, 'relationship': 691, 'changes': 110, 'distracted': 217, 'music': 575, 'invigorated': 451, 'tend': 849, 'shy': 753, 'far': 288, 'lol': 513, 'weird': 957, 'thinking': 864, 'earlier': 240, 'restless': 704, 'weight': 956, 'fit': 308, 'presence': 653, 'complacent': 139, 'vulnerable': 929, 'punished': 666, 'stupid': 819, 'stay': 799, 'simply': 757, 'contented': 150, 'cut': 168, 'comfort': 131, 'working': 977, 'nervous': 583, 'act': 7, 'air': 18, 'carefree': 101, 'offended': 593, 'gone': 348, 'regretful': 689, 'visit': 926, 'supporting': 830, 'hostile': 415, 'boring': 80, 'makes': 538, 'liked': 500, 'glamorous': 343, 'push': 667, 'successful': 822, 'process': 661, 'reluctant': 695, 'come': 129, 'ways': 948, 'blessed': 74, 'abused': 3, 'area': 35, 'water': 946, 'admit': 10, 'exactly': 267, 'moment': 565, 'dull': 237, 'normal': 589, 'irritable': 452, 'innocent': 443, 'resentful': 699, 'emotional': 250, 'worked': 976, 'try': 893, 'disheartened': 214, 'bitchy': 69, 'shake': 741, 'second': 730, 'terrible': 851, 'making': 539, 'certain': 106, 'll': 512, 'delicious': 192, 'favorite': 291, 'continue': 151, 'blank': 73, 'missing': 563, 'simple': 756, 'absolutely': 2, 'comfortable': 132, 'physically': 630, 'sympathetic': 838, 'eye': 277, 'ignored': 431, 'stop': 802, 'theres': 859, 'chance': 108, 'joy': 462, 'dreams': 234, 'true': 888, 'cranky': 160, 'ability': 0, 'students': 817, 'productive': 662, 'tried': 884, 'using': 915, 'care': 99, 'needed': 579, 'peace': 619, 'positive': 645, 'break': 87, 'exhausted': 269, 'guilty': 365, 'baby': 53, 'beloved': 63, 'keen': 465, 'ahead': 17, 'free': 316, 'die': 205, 'attention': 47, 'knowing': 475, 'hours': 418, 'hesitant': 398, 'terribly': 852, 'fond': 310, 'damaged': 172, 'taken': 839, 'non': 588, 'single': 758, 'children': 116, 'cool': 155, 'pull': 665, 'kid': 468, 'pick': 631, 'honest': 405, 'ago': 16, 'lethargic': 493, 'dangerous': 174, 'compassionate': 138, 'doesnt': 224, 'beauty': 57, 'lovely': 531, 'voice': 928, 'disturbed': 220, 'case': 103, 'tomorrow': 876, 'forward': 314, 'beaten': 55, 'husband': 426, 'crappy': 162, 'convinced': 154, 'wearing': 950, 'managed': 541, 'reach': 674, 'human': 423, 'impatient': 436, 'easily': 242, 'annoyed': 27, 'clever': 123, 'written': 989, 'respected': 702, 'relieved': 694, 'title': 873, 'afraid': 12, 'consider': 147, 'mother': 572, 'wanting': 939, 'enjoy': 257, 'desire': 197, 'quickly': 671, 'boyfriend': 83, 'isolated': 455, 'social': 775, 'turn': 895, 'loyal': 534, 'style': 820, 'agitated': 15, 'intelligent': 449, 'insulted': 448, 'light': 498, 'actually': 8, 'women': 967, 'envious': 263, 'youre': 999, 'came': 97, 'looked': 519, 'href': 420, 'friendly': 318, 'hand': 370, 'afternoon': 13, 'rotten': 711, 'shoes': 750, 'longing': 517, 'phone': 627, 'bring': 89, 'pass': 613, 'thankful': 856, 'hoping': 412, 'missed': 562, 'party': 612, 'happen': 372, 'gave': 330, 'disappointed': 210, 'betrayed': 65, 'lose': 522, 'frantic': 315, 'gift': 337, 'broke': 90, 'incredibly': 440, 'weeks': 954, 'believe': 62, 'submissive': 821, 'tender': 850, 'deep': 187, 'sort': 782, 'keeping': 466, 'dream': 233, 'gotten': 353, 'play': 638, 'busy': 93, 'privileged': 657, 'thrilled': 868, 'anger': 25, 'hurt': 425, 'large': 480, 'leaves': 489, 'putting': 668, 'death': 183, 'wasn': 942, 'smart': 771, 'devoted': 201, 'learning': 487, 'sadness': 717, 'focus': 309, 'ones': 600, 'naughty': 576, 'memories': 551, 'sharing': 745, 'weekend': 953, 'probably': 658, 'moments': 566, 'scared': 727, 'terrific': 853, 'honestly': 406, 'caring': 102, 'decide': 184, 'worse': 982, 'art': 38, 'losing': 523, 'welcomed': 958, 'doubtful': 231, 'amazed': 21, 'minutes': 559, 'known': 477, 'lazy': 484, 'comment': 134, 'add': 9, 'clear': 122, 'haven': 382, 'personally': 625, 'depressed': 194, 'near': 577, 'relationships': 692, 'rest': 703, 'anxious': 30, 'job': 461, 'stomach': 801, 'choice': 117, 'choose': 118, 'wait': 930, 'spirit': 791, 'decision': 186, 'wonderful': 970, 'watching': 945, 'series': 737, 'threatened': 867, 'brought': 91, 'upset': 909, 'shouldnt': 752, 'lame': 479, 'determined': 199, 'lively': 509, 'dazed': 180, 'assaulted': 44, 'yesterday': 997, 'inside': 445, 'spent': 790, 'eating': 245, 'worried': 980, 'fairly': 282, 'forget': 313, 'career': 100, 'lots': 527, 'bad': 54, 'uncertain': 898, 'oh': 596, 'super': 827, 'date': 176, 'gloomy': 344, 'change': 109, 'satisfied': 722, 'triumphant': 886, 'dumb': 238, 'knowledge': 476, 'open': 601, 'books': 79, 'went': 959, 'proud': 664, 'game': 329, 'older': 599, 'songs': 779, 'constantly': 148, 'pregnant': 652, 'gets': 335, 'month': 568, 'opportunity': 602, 'gracious': 354, 'asking': 43, 'sarcastic': 720, 'age': 14, 'distraught': 218, 'helpless': 396, 'unfortunate': 901, 'tragic': 882, 'drained': 232, 'grumpy': 362, 'comments': 135, 'truly': 889, 'weather': 951, 'says': 726, 'breath': 88, 'casual': 104, 'sat': 721, 'happened': 373, 'allow': 19, 'skin': 765, 'color': 128, 'playing': 640, 'valuable': 920, 'training': 883, 'wake': 932, 'food': 311, 'messy': 554, 'photos': 628, 'numb': 591, 'uptight': 910, 'stubborn': 815, 'create': 164, 'mad': 536, 'media': 546, 'paranoid': 609, 'half': 369, 'adventurous': 11, 'entertained': 260, 'unhappy': 903, 'pleasant': 641, 'daily': 171, 'conversation': 153, 'issues': 457, 'peaceful': 620, 'joyful': 463, 'melancholy': 549, 'allowed': 20, 'awesome': 50, 'pleased': 642, 'tonight': 877, 'heartbroken': 391, 'team': 845, 'summer': 825, 'suddenly': 823, 'ended': 254, 'looks': 521, 'cute': 169, 'blogging': 76, 'offer': 594, 'deal': 182, 'troubled': 887, 'healthy': 387, 'optimistic': 603, 'lack': 478, 'guy': 366, 'wants': 940, 'health': 386, 'problem': 659, 'feet': 298, 'fault': 290, 'frightened': 320, 'spending': 789, 'room': 710, 'throw': 869, 'discontent': 211, 'happens': 375, 'shaky': 743, 'hit': 400, 'win': 963, 'recently': 687, 'character': 111, 'boy': 82, 'inadequate': 439, 'usual': 916, 'boys': 84, 'guilt': 364, 'red': 688, 'possibly': 647, 'connection': 146, 'lousy': 528, 'damn': 173, 'problems': 660, 'kept': 467, 'suspicious': 836, 'movie': 573, 'characters': 112, 'readers': 676, 'sociable': 774, 'wife': 962, 'stand': 794, 'finish': 306, 'petty': 626, 'fuck': 322, 'sound': 784, 'remorseful': 698, 'loss': 524, 'hands': 371, 'realized': 681, 'evening': 265, 'devastated': 200, 'www': 993, 'dinner': 208, 'project': 663, 'means': 545, 'bothered': 81, 'number': 592, 'men': 552, 'telling': 848, 'meeting': 548, 'brain': 85, 'ecstatic': 246, 'waiting': 931, 'news': 585, 'deeply': 188, 'dirty': 209, 'gonna': 349, 'computer': 142, 'drink': 235, 'helping': 395, 'delicate': 191, 'order': 604, 'express': 274, 'crazy': 163, 'chest': 114, 'remind': 697, 'lie': 496, 'set': 739, 'drive': 236, 'ideas': 429, 'clothes': 125, 'generally': 332, 'guys': 367, 'listening': 504, 'extra': 275, 'crap': 161, 'difficult': 207, 'mention': 553, 'learn': 485, 'ground': 360, 'aware': 48, 'thanks': 857, 'idiotic': 430, 'respect': 701, 'straight': 806, 'charming': 113, 'negative': 582, 'answer': 28, 'questions': 670, 'worth': 983, 'kiss': 472, 'strength': 808, 'silly': 755, 'appreciative': 33, 'attempt': 46, 'spot': 792, 'virtuous': 925, 'reasons': 684, 'company': 137, 'met': 555, 'foolish': 312, 'appreciate': 32, 'happening': 374, 'wanna': 936, 'hateful': 381, 'confidence': 143, 'soul': 783, 'stuck': 816, 'hour': 417, 'doomed': 228, 'listen': 503, 'song': 778, 'talked': 843, 'speak': 786, 'useless': 914, 'film': 302, 'somewhat': 776, 'enjoyed': 258, 'fucking': 324, 'disillusioned': 215, 'slowly': 769, 'lived': 508, 'early': 241, 'daughter': 177, 'state': 798, 'white': 961, 'ungrateful': 902, 'sister': 759, 'later': 483, 'community': 136, 'thank': 855, 'weepy': 955, 'church': 120, 'struggle': 813, 'dad': 170, 'walked': 934, 'issue': 456, 'leaving': 490, 'playful': 639, 'enjoying': 259}\n",
      "By TfidfVectorizer\n",
      "(16000, 1000)\n",
      "{'didnt': 204, 'feel': 294, 'humiliated': 424, 'feeling': 295, 'hopeless': 411, 'hopeful': 410, 'just': 464, 'im': 433, 'minute': 558, 'post': 648, 'greedy': 357, 'wrong': 990, 'nostalgic': 590, 'know': 474, 'grouchy': 359, 'ive': 458, 'little': 506, 'burdened': 92, 'lately': 482, 'wasnt': 943, 'sure': 834, 'taking': 840, 'times': 871, 'lot': 526, 'like': 499, 'funny': 327, 'confused': 145, 'life': 497, 'jaded': 459, 'year': 994, 'old': 598, 'man': 540, 'years': 995, 'huge': 422, 'romantic': 709, 'make': 537, 'suffering': 824, 'seeing': 731, 'mean': 544, 'running': 714, 'divine': 221, 'experience': 272, 'expect': 270, 'type': 896, 'think': 863, 'time': 870, 'dissatisfied': 216, 'low': 533, 'energy': 256, 'general': 331, 'point': 643, 'possible': 646, 'trying': 894, 'write': 987, 'let': 492, 'feels': 297, 'precious': 651, 'reassured': 685, 'anxiety': 29, 'really': 682, 'embarrassed': 249, 'pretty': 656, 'pathetic': 617, 'started': 796, 'sentimental': 736, 'child': 115, 'began': 59, 'skeptical': 764, 'work': 975, 'irritated': 453, 'rejected': 690, 'doing': 225, 'saying': 725, 'completely': 141, 'overwhelmed': 606, 'help': 394, 'heart': 390, 'god': 345, 'end': 253, 'list': 502, 'things': 862, 'grateful': 355, 'amused': 24, 'delighted': 193, 'able': 1, 'support': 829, 'great': 356, 'glad': 342, 'fucked': 323, 'dont': 227, 'usually': 917, 'eat': 244, 'morning': 571, 'love': 529, 'wish': 964, 'best': 64, 'longer': 516, 'lives': 510, 'fact': 281, 'bitter': 70, 'angry': 26, 'person': 623, 'particularly': 611, 'kind': 470, 'people': 621, 'stressed': 810, 'inhibited': 442, 'picture': 632, 'defeated': 189, 'kinda': 471, 'needs': 580, 'explain': 273, 'body': 77, 'superior': 828, 'dead': 181, 'elegant': 248, 'remember': 696, 'distressed': 219, 'days': 179, 'seen': 732, 'heard': 389, 'read': 675, 'past': 616, 'couple': 158, 'left': 491, 'impressed': 438, 'frustrated': 321, 'id': 427, 'entirely': 262, 'course': 159, 'day': 178, 'imagine': 434, 'real': 679, 'emotionally': 251, 'totally': 880, 'accepted': 5, 'safe': 718, 'acceptable': 4, 'close': 124, 'physical': 629, 'sex': 740, 'won': 968, 'expected': 271, 'content': 149, 'need': 578, 'creative': 165, 'want': 937, 'self': 733, 'step': 800, 'away': 49, 'bit': 68, 'rude': 712, 'writing': 988, 'ask': 41, 'christmas': 119, 'small': 770, 'season': 729, 'words': 974, 'plan': 637, 'share': 744, 'everyday': 266, 'stories': 804, 'hope': 409, 'inspired': 446, 'got': 352, 'festive': 300, 'book': 78, 'brave': 86, 'perfect': 622, 'strongly': 812, 'passionate': 615, 'fun': 326, 'discouraged': 212, 'pay': 618, 'way': 947, 'listless': 505, 'new': 584, 'different': 206, 'lost': 525, 'special': 787, 'mind': 557, 'don': 226, 'worry': 981, 'wanted': 938, 'felt': 299, 'reading': 677, 'said': 719, 'used': 912, 'did': 202, 'tell': 847, 'sad': 716, 'home': 403, 'trip': 885, 'stopped': 803, 'cold': 126, 'hot': 416, 'selfish': 734, 'wrote': 992, 'unsure': 907, 'story': 805, 'look': 518, 'good': 350, 'gorgeous': 351, 'sun': 826, 'fake': 284, 'hate': 379, 'living': 511, 'hes': 397, 'live': 507, 'unwelcome': 908, 'ill': 432, 'leave': 488, 'surprised': 835, 'situations': 763, 'anymore': 31, 'coming': 133, 'yes': 996, 'begin': 60, 'fall': 285, 'mom': 564, 'warm': 941, 'loving': 532, 'smile': 772, 'talk': 842, 'extremely': 276, 'popular': 644, 'gentle': 334, 'place': 636, 'level': 495, 'pressured': 655, 'young': 998, 'beautiful': 56, 'having': 384, 'girls': 339, 'week': 952, 'tortured': 879, 'moving': 574, 'finished': 307, 'amazing': 22, 'posts': 650, 'asked': 42, 'deserve': 196, 'pain': 607, 'parents': 610, 'violent': 924, 'emotions': 252, 'supposed': 833, 'feelings': 296, 'unpleasant': 906, 'suppose': 832, 'truth': 892, 'havent': 383, 'faithful': 283, 'doubt': 230, 'miserable': 560, 'figure': 301, 'family': 286, 'matter': 542, 'goes': 346, 'aching': 6, 'talking': 844, 'didn': 203, 'took': 878, 'pictures': 633, 'unimportant': 904, 'stuff': 818, 'tired': 872, 'ready': 678, 'finding': 304, 'given': 340, 'blamed': 72, 'sit': 760, 'worthwhile': 985, 'money': 567, 'use': 911, 'future': 328, 'important': 437, 'honored': 407, 'talented': 841, 'fully': 325, 'girl': 338, 'woman': 966, 'piece': 634, 'thought': 865, 'miss': 561, 'school': 728, 'rushed': 715, 'happy': 377, 'excited': 268, 'learned': 486, 'trusting': 891, 'relaxed': 693, 'start': 795, 'smug': 773, 'realize': 680, 'ok': 597, 'worthless': 984, 'struggling': 814, 'bed': 58, 'dark': 175, 'terrified': 854, 'meet': 547, 'supportive': 831, 'arms': 37, 'today': 874, 'mood': 570, 'strange': 807, 'entire': 261, 'guess': 363, 'passed': 614, 'car': 98, 'letting': 494, 'wronged': 991, 'understand': 900, 'decided': 185, 'shitty': 748, 'shit': 747, 'paper': 608, 'starting': 797, 'vital': 927, 'hear': 388, 'say': 724, 'theyre': 860, 'crying': 166, 'heartless': 392, 'spend': 788, 'country': 157, 'wont': 972, 'going': 347, 'short': 751, 'months': 569, 'word': 973, 'hard': 378, 'works': 978, 'high': 399, 'ashamed': 40, 'saw': 723, 'kids': 469, 'despite': 198, 'getting': 336, 'calm': 96, 'effort': 247, 'better': 66, 'situation': 762, 'college': 127, 'friend': 317, 'complete': 140, 'soon': 780, 've': 922, 'seriously': 738, 'class': 121, 'stress': 809, 'late': 481, 'horrible': 414, 'cause': 105, 'posting': 649, 'wouldnt': 986, 'face': 280, 'useful': 913, 'group': 361, 'idea': 428, 'ugly': 897, 'wear': 949, 'house': 419, 'slightly': 768, 'definitely': 190, 'buy': 94, 'homesick': 404, 'fabulous': 279, 'eyes': 278, 'touch': 881, 'return': 706, 'vain': 919, 'awful': 51, 'honoured': 408, 'friends': 319, 'apprehensive': 34, 'black': 71, 'reason': 683, 'fearful': 293, 'shaken': 742, 'quite': 672, 'awkward': 52, 'finally': 303, 'especially': 264, 'lonely': 514, 'loved': 530, 'blog': 75, 'img': 435, 'src': 793, 'http': 421, 'eager': 239, 'horny': 413, 'doesn': 223, 'pressure': 654, 'uncomfortable': 899, 'sense': 735, 'son': 777, 'father': 289, 'fantastic': 287, 'confident': 144, 'energetic': 255, 'run': 713, 'outside': 605, 'long': 515, 'walk': 933, 'strong': 811, 'tears': 846, 'thoughts': 866, 'rich': 707, 'space': 785, 'thing': 861, 'maybe': 543, 'shes': 746, 'assured': 45, 'called': 95, 'right': 708, 'utterly': 918, 'question': 669, 'office': 595, 'nice': 586, 'hair': 368, 'rebellious': 686, 'generous': 333, 'sleep': 766, 'deprived': 195, 'sleeping': 767, 'night': 587, 'giving': 341, 'sitting': 761, 'amp': 23, 'lucky': 535, 'woke': 965, 'sick': 754, 'disgusted': 213, 'race': 673, 'couldn': 156, 'knew': 473, 'hated': 380, 'mellow': 550, 'easy': 243, 'beginning': 61, 'told': 875, 'indecisive': 441, 'does': 222, 'resolved': 700, 'artistic': 39, 'line': 501, 'pissed': 635, 'middle': 556, 'big': 67, 'wondering': 971, 'unloved': 905, 'certainly': 107, 'whats': 960, 'personal': 624, 'curious': 167, 'watch': 944, 'sorry': 781, 'door': 229, 'world': 979, 'walking': 935, 'comes': 130, 'jealous': 460, 'insecure': 444, 'trust': 890, 'sweet': 837, 'holiday': 402, 'happiness': 376, 'instead': 447, 'control': 152, 'looking': 520, 'hell': 393, 'needy': 581, 'head': 385, 'intimidated': 450, 'groggy': 358, 'view': 923, 'isnt': 454, 'thats': 858, 'fine': 305, 'hold': 401, 'shocked': 749, 'wonder': 969, 'results': 705, 'fear': 292, 'valued': 921, 'arent': 36, 'relationship': 691, 'changes': 110, 'distracted': 217, 'music': 575, 'invigorated': 451, 'tend': 849, 'shy': 753, 'far': 288, 'lol': 513, 'weird': 957, 'thinking': 864, 'earlier': 240, 'restless': 704, 'weight': 956, 'fit': 308, 'presence': 653, 'complacent': 139, 'vulnerable': 929, 'punished': 666, 'stupid': 819, 'stay': 799, 'simply': 757, 'contented': 150, 'cut': 168, 'comfort': 131, 'working': 977, 'nervous': 583, 'act': 7, 'air': 18, 'carefree': 101, 'offended': 593, 'gone': 348, 'regretful': 689, 'visit': 926, 'supporting': 830, 'hostile': 415, 'boring': 80, 'makes': 538, 'liked': 500, 'glamorous': 343, 'push': 667, 'successful': 822, 'process': 661, 'reluctant': 695, 'come': 129, 'ways': 948, 'blessed': 74, 'abused': 3, 'area': 35, 'water': 946, 'admit': 10, 'exactly': 267, 'moment': 565, 'dull': 237, 'normal': 589, 'irritable': 452, 'innocent': 443, 'resentful': 699, 'emotional': 250, 'worked': 976, 'try': 893, 'disheartened': 214, 'bitchy': 69, 'shake': 741, 'second': 730, 'terrible': 851, 'making': 539, 'certain': 106, 'll': 512, 'delicious': 192, 'favorite': 291, 'continue': 151, 'blank': 73, 'missing': 563, 'simple': 756, 'absolutely': 2, 'comfortable': 132, 'physically': 630, 'sympathetic': 838, 'eye': 277, 'ignored': 431, 'stop': 802, 'theres': 859, 'chance': 108, 'joy': 462, 'dreams': 234, 'true': 888, 'cranky': 160, 'ability': 0, 'students': 817, 'productive': 662, 'tried': 884, 'using': 915, 'care': 99, 'needed': 579, 'peace': 619, 'positive': 645, 'break': 87, 'exhausted': 269, 'guilty': 365, 'baby': 53, 'beloved': 63, 'keen': 465, 'ahead': 17, 'free': 316, 'die': 205, 'attention': 47, 'knowing': 475, 'hours': 418, 'hesitant': 398, 'terribly': 852, 'fond': 310, 'damaged': 172, 'taken': 839, 'non': 588, 'single': 758, 'children': 116, 'cool': 155, 'pull': 665, 'kid': 468, 'pick': 631, 'honest': 405, 'ago': 16, 'lethargic': 493, 'dangerous': 174, 'compassionate': 138, 'doesnt': 224, 'beauty': 57, 'lovely': 531, 'voice': 928, 'disturbed': 220, 'case': 103, 'tomorrow': 876, 'forward': 314, 'beaten': 55, 'husband': 426, 'crappy': 162, 'convinced': 154, 'wearing': 950, 'managed': 541, 'reach': 674, 'human': 423, 'impatient': 436, 'easily': 242, 'annoyed': 27, 'clever': 123, 'written': 989, 'respected': 702, 'relieved': 694, 'title': 873, 'afraid': 12, 'consider': 147, 'mother': 572, 'wanting': 939, 'enjoy': 257, 'desire': 197, 'quickly': 671, 'boyfriend': 83, 'isolated': 455, 'social': 775, 'turn': 895, 'loyal': 534, 'style': 820, 'agitated': 15, 'intelligent': 449, 'insulted': 448, 'light': 498, 'actually': 8, 'women': 967, 'envious': 263, 'youre': 999, 'came': 97, 'looked': 519, 'href': 420, 'friendly': 318, 'hand': 370, 'afternoon': 13, 'rotten': 711, 'shoes': 750, 'longing': 517, 'phone': 627, 'bring': 89, 'pass': 613, 'thankful': 856, 'hoping': 412, 'missed': 562, 'party': 612, 'happen': 372, 'gave': 330, 'disappointed': 210, 'betrayed': 65, 'lose': 522, 'frantic': 315, 'gift': 337, 'broke': 90, 'incredibly': 440, 'weeks': 954, 'believe': 62, 'submissive': 821, 'tender': 850, 'deep': 187, 'sort': 782, 'keeping': 466, 'dream': 233, 'gotten': 353, 'play': 638, 'busy': 93, 'privileged': 657, 'thrilled': 868, 'anger': 25, 'hurt': 425, 'large': 480, 'leaves': 489, 'putting': 668, 'death': 183, 'wasn': 942, 'smart': 771, 'devoted': 201, 'learning': 487, 'sadness': 717, 'focus': 309, 'ones': 600, 'naughty': 576, 'memories': 551, 'sharing': 745, 'weekend': 953, 'probably': 658, 'moments': 566, 'scared': 727, 'terrific': 853, 'honestly': 406, 'caring': 102, 'decide': 184, 'worse': 982, 'art': 38, 'losing': 523, 'welcomed': 958, 'doubtful': 231, 'amazed': 21, 'minutes': 559, 'known': 477, 'lazy': 484, 'comment': 134, 'add': 9, 'clear': 122, 'haven': 382, 'personally': 625, 'depressed': 194, 'near': 577, 'relationships': 692, 'rest': 703, 'anxious': 30, 'job': 461, 'stomach': 801, 'choice': 117, 'choose': 118, 'wait': 930, 'spirit': 791, 'decision': 186, 'wonderful': 970, 'watching': 945, 'series': 737, 'threatened': 867, 'brought': 91, 'upset': 909, 'shouldnt': 752, 'lame': 479, 'determined': 199, 'lively': 509, 'dazed': 180, 'assaulted': 44, 'yesterday': 997, 'inside': 445, 'spent': 790, 'eating': 245, 'worried': 980, 'fairly': 282, 'forget': 313, 'career': 100, 'lots': 527, 'bad': 54, 'uncertain': 898, 'oh': 596, 'super': 827, 'date': 176, 'gloomy': 344, 'change': 109, 'satisfied': 722, 'triumphant': 886, 'dumb': 238, 'knowledge': 476, 'open': 601, 'books': 79, 'went': 959, 'proud': 664, 'game': 329, 'older': 599, 'songs': 779, 'constantly': 148, 'pregnant': 652, 'gets': 335, 'month': 568, 'opportunity': 602, 'gracious': 354, 'asking': 43, 'sarcastic': 720, 'age': 14, 'distraught': 218, 'helpless': 396, 'unfortunate': 901, 'tragic': 882, 'drained': 232, 'grumpy': 362, 'comments': 135, 'truly': 889, 'weather': 951, 'says': 726, 'breath': 88, 'casual': 104, 'sat': 721, 'happened': 373, 'allow': 19, 'skin': 765, 'color': 128, 'playing': 640, 'valuable': 920, 'training': 883, 'wake': 932, 'food': 311, 'messy': 554, 'photos': 628, 'numb': 591, 'uptight': 910, 'stubborn': 815, 'create': 164, 'mad': 536, 'media': 546, 'paranoid': 609, 'half': 369, 'adventurous': 11, 'entertained': 260, 'unhappy': 903, 'pleasant': 641, 'daily': 171, 'conversation': 153, 'issues': 457, 'peaceful': 620, 'joyful': 463, 'melancholy': 549, 'allowed': 20, 'awesome': 50, 'pleased': 642, 'tonight': 877, 'heartbroken': 391, 'team': 845, 'summer': 825, 'suddenly': 823, 'ended': 254, 'looks': 521, 'cute': 169, 'blogging': 76, 'offer': 594, 'deal': 182, 'troubled': 887, 'healthy': 387, 'optimistic': 603, 'lack': 478, 'guy': 366, 'wants': 940, 'health': 386, 'problem': 659, 'feet': 298, 'fault': 290, 'frightened': 320, 'spending': 789, 'room': 710, 'throw': 869, 'discontent': 211, 'happens': 375, 'shaky': 743, 'hit': 400, 'win': 963, 'recently': 687, 'character': 111, 'boy': 82, 'inadequate': 439, 'usual': 916, 'boys': 84, 'guilt': 364, 'red': 688, 'possibly': 647, 'connection': 146, 'lousy': 528, 'damn': 173, 'problems': 660, 'kept': 467, 'suspicious': 836, 'movie': 573, 'characters': 112, 'readers': 676, 'sociable': 774, 'wife': 962, 'stand': 794, 'finish': 306, 'petty': 626, 'fuck': 322, 'sound': 784, 'remorseful': 698, 'loss': 524, 'hands': 371, 'realized': 681, 'evening': 265, 'devastated': 200, 'www': 993, 'dinner': 208, 'project': 663, 'means': 545, 'bothered': 81, 'number': 592, 'men': 552, 'telling': 848, 'meeting': 548, 'brain': 85, 'ecstatic': 246, 'waiting': 931, 'news': 585, 'deeply': 188, 'dirty': 209, 'gonna': 349, 'computer': 142, 'drink': 235, 'helping': 395, 'delicate': 191, 'order': 604, 'express': 274, 'crazy': 163, 'chest': 114, 'remind': 697, 'lie': 496, 'set': 739, 'drive': 236, 'ideas': 429, 'clothes': 125, 'generally': 332, 'guys': 367, 'listening': 504, 'extra': 275, 'crap': 161, 'difficult': 207, 'mention': 553, 'learn': 485, 'ground': 360, 'aware': 48, 'thanks': 857, 'idiotic': 430, 'respect': 701, 'straight': 806, 'charming': 113, 'negative': 582, 'answer': 28, 'questions': 670, 'worth': 983, 'kiss': 472, 'strength': 808, 'silly': 755, 'appreciative': 33, 'attempt': 46, 'spot': 792, 'virtuous': 925, 'reasons': 684, 'company': 137, 'met': 555, 'foolish': 312, 'appreciate': 32, 'happening': 374, 'wanna': 936, 'hateful': 381, 'confidence': 143, 'soul': 783, 'stuck': 816, 'hour': 417, 'doomed': 228, 'listen': 503, 'song': 778, 'talked': 843, 'speak': 786, 'useless': 914, 'film': 302, 'somewhat': 776, 'enjoyed': 258, 'fucking': 324, 'disillusioned': 215, 'slowly': 769, 'lived': 508, 'early': 241, 'daughter': 177, 'state': 798, 'white': 961, 'ungrateful': 902, 'sister': 759, 'later': 483, 'community': 136, 'thank': 855, 'weepy': 955, 'church': 120, 'struggle': 813, 'dad': 170, 'walked': 934, 'issue': 456, 'leaving': 490, 'playful': 639, 'enjoying': 259}\n"
     ]
    }
   ],
   "source": [
    "# b)\n",
    "from sklearn.feature_extraction.text import CountVectorizer\n",
    "\n",
    "cv= CountVectorizer(max_features=1000 ,stop_words='english')\n",
    "\n",
    "train_prc =cv.fit_transform(train['words'])\n",
    "\n",
    "print ('By CountVectorizer')\n",
    "print (train_prc.shape)\n",
    "print (cv.vocabulary_)\n",
    "\n",
    "from sklearn.feature_extraction.text import TfidfVectorizer\n",
    "\n",
    "tv = TfidfVectorizer(max_features=1000, stop_words='english')\n",
    "tv.fit_transform(train['words'])\n",
    "vector = tv.transform(train['words'])\n",
    "print ('By TfidfVectorizer')\n",
    "print(vector.toarray().shape)\n",
    "print(tv.vocabulary_)"
   ]
  },
  {
   "cell_type": "code",
   "execution_count": 139,
   "metadata": {},
   "outputs": [
    {
     "name": "stderr",
     "output_type": "stream",
     "text": [
      "c:\\ProgramData\\Miniconda3\\lib\\site-packages\\sklearn\\linear_model\\_logistic.py:458: ConvergenceWarning: lbfgs failed to converge (status=1):\n",
      "STOP: TOTAL NO. of ITERATIONS REACHED LIMIT.\n",
      "\n",
      "Increase the number of iterations (max_iter) or scale the data as shown in:\n",
      "    https://scikit-learn.org/stable/modules/preprocessing.html\n",
      "Please also refer to the documentation for alternative solver options:\n",
      "    https://scikit-learn.org/stable/modules/linear_model.html#logistic-regression\n",
      "  n_iter_i = _check_optimize_result(\n"
     ]
    },
    {
     "name": "stdout",
     "output_type": "stream",
     "text": [
      "From LogisticRegression prediction: ['sadness' 'sadness' 'anger' 'love' 'anger']\n",
      "Real one: ['sadness' 'sadness' 'anger' 'love' 'anger']\n",
      "From Neural Network  prediction: ['sadness' 'sadness' 'anger' 'love' 'anger']\n",
      "Real one: ['sadness' 'sadness' 'anger' 'love' 'anger']\n"
     ]
    },
    {
     "name": "stderr",
     "output_type": "stream",
     "text": [
      "c:\\ProgramData\\Miniconda3\\lib\\site-packages\\sklearn\\neural_network\\_multilayer_perceptron.py:686: ConvergenceWarning: Stochastic Optimizer: Maximum iterations (200) reached and the optimization hasn't converged yet.\n",
      "  warnings.warn(\n"
     ]
    }
   ],
   "source": [
    "# c)\n",
    "import pandas as pd\n",
    "from sklearn.feature_extraction.text import TfidfVectorizer\n",
    "from sklearn.linear_model import LogisticRegression\n",
    "from sklearn.neural_network import MLPClassifier\n",
    "\n",
    "train = pd.read_csv('D:/emotions/train.txt')\n",
    "train[['words', 'emo']] = train['words'].str.split(';', expand=True)\n",
    "X_train= train['words'].values\n",
    "Y_train = train['emo'].values\n",
    "\n",
    "tv = TfidfVectorizer(max_features=1000, stop_words='english')\n",
    "X_train = tv.fit_transform(X_train)\n",
    "\n",
    "model_re = LogisticRegression()\n",
    "model_re.fit(X_train, Y_train)\n",
    "\n",
    "y_pred = model_re.predict(X_train[0:5])\n",
    "\n",
    "print('From LogisticRegression prediction:', y_pred)\n",
    "print ('Real one:', Y_train[0:5])\n",
    "\n",
    "model_nn = MLPClassifier(hidden_layer_sizes=(16, 4), activation='relu', solver='adam') # low hidden_layer_sizes to make it qucik but low accuracy.\n",
    "model_nn.fit(X_train, Y_train)\n",
    "\n",
    "y_pred = model_nn.predict(X_train[0:5])\n",
    "\n",
    "print('From Neural Network  prediction:', y_pred)\n",
    "print ('Real one:', Y_train[0:5])\n"
   ]
  },
  {
   "cell_type": "code",
   "execution_count": 144,
   "metadata": {},
   "outputs": [
    {
     "name": "stdout",
     "output_type": "stream",
     "text": [
      "['fear' 'fear' 'sadness' ... 'sadness' 'joy' 'joy']\n",
      "Accuracy of Neural Network: \n",
      "               precision    recall  f1-score   support\n",
      "\n",
      "       anger       0.11      0.13      0.12       236\n",
      "        fear       0.16      0.12      0.13       301\n",
      "         joy       0.31      0.36      0.33       584\n",
      "        love       0.05      0.07      0.06       111\n",
      "     sadness       0.34      0.28      0.30       702\n",
      "    surprise       0.00      0.00      0.00        66\n",
      "\n",
      "    accuracy                           0.24      2000\n",
      "   macro avg       0.16      0.16      0.16      2000\n",
      "weighted avg       0.25      0.24      0.24      2000\n",
      "\n",
      "Accuracy of Logistic Regression: \n",
      "               precision    recall  f1-score   support\n",
      "\n",
      "       anger       0.08      0.12      0.10       181\n",
      "        fear       0.10      0.11      0.10       202\n",
      "         joy       0.43      0.35      0.39       857\n",
      "        love       0.07      0.14      0.09        76\n",
      "     sadness       0.28      0.25      0.26       661\n",
      "    surprise       0.00      0.00      0.00        23\n",
      "\n",
      "    accuracy                           0.26      2000\n",
      "   macro avg       0.16      0.16      0.16      2000\n",
      "weighted avg       0.30      0.26      0.28      2000\n",
      "\n",
      "Confuison matrix Neural Network: \n",
      " [[ 30  40  76   7  77   6]\n",
      " [ 42  35  92  29  95   8]\n",
      " [ 92  58 212  38 164  20]\n",
      " [ 16  12  43   8  29   3]\n",
      " [ 88  73 244  73 195  29]\n",
      " [  7   6  28   4  21   0]] \n",
      "\n",
      "Confuison matrix Neural Network: \n",
      " [[ 22  33  63   6  55   2]\n",
      " [ 25  22  52  14  81   8]\n",
      " [128  86 301  64 256  22]\n",
      " [ 11   8  27  11  18   1]\n",
      " [ 88  72 242  62 164  33]\n",
      " [  1   3  10   2   7   0]] \n",
      "\n"
     ]
    }
   ],
   "source": [
    "# d)\n",
    "from sklearn.metrics import classification_report\n",
    "from sklearn.metrics import confusion_matrix\n",
    "\n",
    "test = pd.read_csv('D:/emotions/test.txt')\n",
    "test[['words', 'emo']] = test['words'].str.split(';', expand=True)\n",
    "X_test= test['words'].values\n",
    "Y_test = test['emo'].values\n",
    "\n",
    "X_test = tv.fit_transform(X_test)\n",
    "\n",
    "\n",
    "print (model_re.predict(X_test))\n",
    "\n",
    "print ('Accuracy of Neural Network: \\n', classification_report (model_nn.predict(X_test), Y_test))\n",
    "print ('Accuracy of Logistic Regression: \\n', classification_report (model_re.predict(X_test), Y_test))\n",
    "print ('Confuison matrix Neural Network: \\n', confusion_matrix (model_nn.predict(X_test), Y_test),'\\n')\n",
    "print ('Confuison matrix Neural Network: \\n', confusion_matrix (model_re.predict(X_test), Y_test),'\\n')"
   ]
  },
  {
   "cell_type": "code",
   "execution_count": 141,
   "metadata": {},
   "outputs": [
    {
     "ename": "ValueError",
     "evalue": "X has 14 features, but LogisticRegression is expecting 1000 features as input.",
     "output_type": "error",
     "traceback": [
      "\u001b[1;31m---------------------------------------------------------------------------\u001b[0m",
      "\u001b[1;31mValueError\u001b[0m                                Traceback (most recent call last)",
      "Cell \u001b[1;32mIn[141], line 9\u001b[0m\n\u001b[0;32m      5\u001b[0m test_word2 \u001b[39m=\u001b[39m [\u001b[39m\"\u001b[39m\u001b[39mtoday i am really happy\u001b[39m\u001b[39m\"\u001b[39m]\n\u001b[0;32m      6\u001b[0m test_word2 \u001b[39m=\u001b[39m tv\u001b[39m.\u001b[39mfit_transform(test_word2)\n\u001b[1;32m----> 9\u001b[0m y_pred1 \u001b[39m=\u001b[39m model_re\u001b[39m.\u001b[39;49mpredict(test_word1)\n\u001b[0;32m     10\u001b[0m y_pred2 \u001b[39m=\u001b[39m model_re\u001b[39m.\u001b[39mpredict(test_word2)\n\u001b[0;32m     12\u001b[0m \u001b[39mprint\u001b[39m(\u001b[39m'\u001b[39m\u001b[39mFrom LogisticRegression prediction:\u001b[39m\u001b[39m'\u001b[39m, y_pred)\n",
      "File \u001b[1;32mc:\\ProgramData\\Miniconda3\\lib\\site-packages\\sklearn\\linear_model\\_base.py:419\u001b[0m, in \u001b[0;36mLinearClassifierMixin.predict\u001b[1;34m(self, X)\u001b[0m\n\u001b[0;32m    405\u001b[0m \u001b[39m\"\"\"\u001b[39;00m\n\u001b[0;32m    406\u001b[0m \u001b[39mPredict class labels for samples in X.\u001b[39;00m\n\u001b[0;32m    407\u001b[0m \n\u001b[1;32m   (...)\u001b[0m\n\u001b[0;32m    416\u001b[0m \u001b[39m    Vector containing the class labels for each sample.\u001b[39;00m\n\u001b[0;32m    417\u001b[0m \u001b[39m\"\"\"\u001b[39;00m\n\u001b[0;32m    418\u001b[0m xp, _ \u001b[39m=\u001b[39m get_namespace(X)\n\u001b[1;32m--> 419\u001b[0m scores \u001b[39m=\u001b[39m \u001b[39mself\u001b[39;49m\u001b[39m.\u001b[39;49mdecision_function(X)\n\u001b[0;32m    420\u001b[0m \u001b[39mif\u001b[39;00m \u001b[39mlen\u001b[39m(scores\u001b[39m.\u001b[39mshape) \u001b[39m==\u001b[39m \u001b[39m1\u001b[39m:\n\u001b[0;32m    421\u001b[0m     indices \u001b[39m=\u001b[39m xp\u001b[39m.\u001b[39mastype(scores \u001b[39m>\u001b[39m \u001b[39m0\u001b[39m, \u001b[39mint\u001b[39m)\n",
      "File \u001b[1;32mc:\\ProgramData\\Miniconda3\\lib\\site-packages\\sklearn\\linear_model\\_base.py:400\u001b[0m, in \u001b[0;36mLinearClassifierMixin.decision_function\u001b[1;34m(self, X)\u001b[0m\n\u001b[0;32m    397\u001b[0m check_is_fitted(\u001b[39mself\u001b[39m)\n\u001b[0;32m    398\u001b[0m xp, _ \u001b[39m=\u001b[39m get_namespace(X)\n\u001b[1;32m--> 400\u001b[0m X \u001b[39m=\u001b[39m \u001b[39mself\u001b[39;49m\u001b[39m.\u001b[39;49m_validate_data(X, accept_sparse\u001b[39m=\u001b[39;49m\u001b[39m\"\u001b[39;49m\u001b[39mcsr\u001b[39;49m\u001b[39m\"\u001b[39;49m, reset\u001b[39m=\u001b[39;49m\u001b[39mFalse\u001b[39;49;00m)\n\u001b[0;32m    401\u001b[0m scores \u001b[39m=\u001b[39m safe_sparse_dot(X, \u001b[39mself\u001b[39m\u001b[39m.\u001b[39mcoef_\u001b[39m.\u001b[39mT, dense_output\u001b[39m=\u001b[39m\u001b[39mTrue\u001b[39;00m) \u001b[39m+\u001b[39m \u001b[39mself\u001b[39m\u001b[39m.\u001b[39mintercept_\n\u001b[0;32m    402\u001b[0m \u001b[39mreturn\u001b[39;00m xp\u001b[39m.\u001b[39mreshape(scores, \u001b[39m-\u001b[39m\u001b[39m1\u001b[39m) \u001b[39mif\u001b[39;00m scores\u001b[39m.\u001b[39mshape[\u001b[39m1\u001b[39m] \u001b[39m==\u001b[39m \u001b[39m1\u001b[39m \u001b[39melse\u001b[39;00m scores\n",
      "File \u001b[1;32mc:\\ProgramData\\Miniconda3\\lib\\site-packages\\sklearn\\base.py:588\u001b[0m, in \u001b[0;36mBaseEstimator._validate_data\u001b[1;34m(self, X, y, reset, validate_separately, **check_params)\u001b[0m\n\u001b[0;32m    585\u001b[0m     out \u001b[39m=\u001b[39m X, y\n\u001b[0;32m    587\u001b[0m \u001b[39mif\u001b[39;00m \u001b[39mnot\u001b[39;00m no_val_X \u001b[39mand\u001b[39;00m check_params\u001b[39m.\u001b[39mget(\u001b[39m\"\u001b[39m\u001b[39mensure_2d\u001b[39m\u001b[39m\"\u001b[39m, \u001b[39mTrue\u001b[39;00m):\n\u001b[1;32m--> 588\u001b[0m     \u001b[39mself\u001b[39;49m\u001b[39m.\u001b[39;49m_check_n_features(X, reset\u001b[39m=\u001b[39;49mreset)\n\u001b[0;32m    590\u001b[0m \u001b[39mreturn\u001b[39;00m out\n",
      "File \u001b[1;32mc:\\ProgramData\\Miniconda3\\lib\\site-packages\\sklearn\\base.py:389\u001b[0m, in \u001b[0;36mBaseEstimator._check_n_features\u001b[1;34m(self, X, reset)\u001b[0m\n\u001b[0;32m    386\u001b[0m     \u001b[39mreturn\u001b[39;00m\n\u001b[0;32m    388\u001b[0m \u001b[39mif\u001b[39;00m n_features \u001b[39m!=\u001b[39m \u001b[39mself\u001b[39m\u001b[39m.\u001b[39mn_features_in_:\n\u001b[1;32m--> 389\u001b[0m     \u001b[39mraise\u001b[39;00m \u001b[39mValueError\u001b[39;00m(\n\u001b[0;32m    390\u001b[0m         \u001b[39mf\u001b[39m\u001b[39m\"\u001b[39m\u001b[39mX has \u001b[39m\u001b[39m{\u001b[39;00mn_features\u001b[39m}\u001b[39;00m\u001b[39m features, but \u001b[39m\u001b[39m{\u001b[39;00m\u001b[39mself\u001b[39m\u001b[39m.\u001b[39m\u001b[39m__class__\u001b[39m\u001b[39m.\u001b[39m\u001b[39m__name__\u001b[39m\u001b[39m}\u001b[39;00m\u001b[39m \u001b[39m\u001b[39m\"\u001b[39m\n\u001b[0;32m    391\u001b[0m         \u001b[39mf\u001b[39m\u001b[39m\"\u001b[39m\u001b[39mis expecting \u001b[39m\u001b[39m{\u001b[39;00m\u001b[39mself\u001b[39m\u001b[39m.\u001b[39mn_features_in_\u001b[39m}\u001b[39;00m\u001b[39m features as input.\u001b[39m\u001b[39m\"\u001b[39m\n\u001b[0;32m    392\u001b[0m     )\n",
      "\u001b[1;31mValueError\u001b[0m: X has 14 features, but LogisticRegression is expecting 1000 features as input."
     ]
    }
   ],
   "source": [
    "# e) \n",
    "test_word1 = ['i survey my own posts over the last few years and only feel pleased with vague snippets of a few of them only feel that little bits of them capture what its like to be me or someone like me in dublin in the st century']\n",
    "test_word1 = tv.fit_transform(test_word1)\n",
    "\n",
    "test_word2 = [\"today i am really happy\"]\n",
    "test_word2 = tv.fit_transform(test_word2)\n",
    "\n",
    "\n",
    "y_pred1 = model_re.predict(test_word1)\n",
    "y_pred2 = model_re.predict(test_word2)\n",
    "\n",
    "print('From LogisticRegression prediction:', y_pred)\n",
    "\n",
    "print('From Neural Network  prediction:', y_pred)"
   ]
  },
  {
   "cell_type": "code",
   "execution_count": 158,
   "metadata": {},
   "outputs": [
    {
     "name": "stderr",
     "output_type": "stream",
     "text": [
      "c:\\ProgramData\\Miniconda3\\lib\\site-packages\\sklearn\\cluster\\_kmeans.py:870: FutureWarning: The default value of `n_init` will change from 10 to 'auto' in 1.4. Set the value of `n_init` explicitly to suppress the warning\n",
      "  warnings.warn(\n"
     ]
    },
    {
     "data": {
      "image/png": "[encoded data removed]",
      "text/plain": [
       "<Figure size 640x480 with 1 Axes>"
      ]
     },
     "metadata": {},
     "output_type": "display_data"
    }
   ],
   "source": [
    "# f)\n",
    "from sklearn.cluster import KMeans\n",
    "from sklearn import preprocessing\n",
    "import numpy as np\n",
    "le = preprocessing.LabelEncoder()\n",
    "\n",
    "train = pd.read_csv('D:/emotions/train.txt')\n",
    "train[['words', 'emo']] = train['words'].str.split(';', expand=True)\n",
    "\n",
    "train['emo'] = le.fit_transform(train['emo'])\n",
    "\n",
    "X_train= train['words'].values\n",
    "Y_train = train['emo'].values\n",
    "\n",
    "tv = TfidfVectorizer(max_features=1000, stop_words='english')\n",
    "X_train = tv.fit_transform(X_train)\n",
    "\n",
    "import matplotlib.pyplot as plt\n",
    "scores_kmean = []\n",
    "x_number = np.arange (3,11,1)\n",
    "\n",
    "for n_number in range (8):\n",
    "    kmeans = KMeans(n_clusters=3+n_number).fit(X_train)\n",
    "    cluster_labels = kmeans.labels_\n",
    "    scores_kmean.append (kmeans.score(X_train, cluster_labels))\n",
    "\n",
    "y_number = np.array (scores_kmean)\n",
    "\n",
    "plt.plot (x_number, y_number,marker='o', label='Accuracy Score')\n",
    "plt.xlabel ('Cluster size')\n",
    "plt.ylabel ('Accuracy')\n",
    "plt.xticks(x_number, x_number)\n",
    "plt.legend ()\n",
    "plt.show ()"
   ]
  },
  {
   "cell_type": "code",
   "execution_count": 159,
   "metadata": {},
   "outputs": [
    {
     "data": {
      "text/plain": [
       "'8 is the best'"
      ]
     },
     "execution_count": 159,
     "metadata": {},
     "output_type": "execute_result"
    }
   ],
   "source": [
    "# f)\n",
    "'8 is the best'"
   ]
  },
  {
   "cell_type": "code",
   "execution_count": 160,
   "metadata": {},
   "outputs": [
    {
     "name": "stderr",
     "output_type": "stream",
     "text": [
      "c:\\ProgramData\\Miniconda3\\lib\\site-packages\\sklearn\\cluster\\_kmeans.py:870: FutureWarning: The default value of `n_init` will change from 10 to 'auto' in 1.4. Set the value of `n_init` explicitly to suppress the warning\n",
      "  warnings.warn(\n"
     ]
    },
    {
     "data": {
      "text/plain": [
       "array(['fear', 'fear', 'sadness', ..., 'sadness', 'fear', 'joy'],\n",
       "      dtype='<U8')"
      ]
     },
     "execution_count": 160,
     "metadata": {},
     "output_type": "execute_result"
    }
   ],
   "source": [
    "# g)\n",
    "\n",
    "test = pd.read_csv('D:/emotions/test.txt')\n",
    "test[['words', 'emo']] = test['words'].str.split(';', expand=True)\n",
    "\n",
    "test['emo'] = le.fit_transform(test['emo'])\n",
    "\n",
    "X_test= test['words'].values\n",
    "Y_tess = test['emo'].values\n",
    "\n",
    "X_test = tv.fit_transform(X_test)\n",
    "\n",
    "model_kmean = KMeans(n_clusters=8).fit(X_train)\n",
    "\n",
    "model_nn.predict(X_test)"
   ]
  },
  {
   "cell_type": "code",
   "execution_count": 164,
   "metadata": {},
   "outputs": [],
   "source": [
    "# Q3\n",
    "# a)\n",
    "from sklearn.model_selection import train_test_split\n",
    "from nltk.tokenize import RegexpTokenizer\n",
    "regexp = RegexpTokenizer('\\w+')\n",
    "\n",
    "movie_pd = pd.read_csv('D:/movie_data.csv')\n",
    "\n",
    "X_data = movie_pd['review']\n",
    "Y_data = movie_pd['sentiment']\n",
    "X_train, X_test, Y_train, Y_test = train_test_split (X_data.values, Y_data.values, test_size=0.3)"
   ]
  },
  {
   "cell_type": "code",
   "execution_count": null,
   "metadata": {},
   "outputs": [
    {
     "data": {
      "text/plain": [
       "(50000,)"
      ]
     },
     "execution_count": 27,
     "metadata": {},
     "output_type": "execute_result"
    }
   ],
   "source": [
    "# b)\n",
    "\n",
    "import string\n",
    "import nltk\n",
    "from nltk.stem import WordNetLemmatizer\n",
    "import re\n",
    "import numpy as np\n",
    "from sklearn.feature_extraction.text import TfidfVectorizer\n",
    "\n",
    "#defining the function to Preprocess words\n",
    "def word_preprocess(text):\n",
    "    #Convert text to lower scale\n",
    "    prep_text = [x.lower() for x in text]\n",
    "    #Remove punctuation from text\n",
    "    string.punctuation\n",
    "    prep_text=[\"\".join([j for j in i if j not in string.punctuation]) for i in prep_text]\n",
    "    #Tokenize text\n",
    "    prep_text = [re.split('W+',i) for i in prep_text]\n",
    "    #Remove stop words from text\n",
    "    stopwords = nltk.corpus.stopwords.words('english')\n",
    "    prep_text= [[j for j in i if j not in stopwords] for i in prep_text]\n",
    "    #Lemmatize text\n",
    "    wordnet_lemmatizer = WordNetLemmatizer()\n",
    "    prep_text = [[wordnet_lemmatizer.lemmatize(word) for word in i] for i in prep_text]\n",
    "    return np.array(prep_text).flatten()\n",
    "\n",
    "#Apply preprocess function\n",
    "X_data = word_preprocess(movie_pd['review'])\n",
    "\n",
    "X_data.shape"
   ]
  },
  {
   "cell_type": "code",
   "execution_count": null,
   "metadata": {},
   "outputs": [
    {
     "name": "stdout",
     "output_type": "stream",
     "text": [
      "      wasnt  expecting  lot  film  directed  starring  got  comment    rate  \\\n",
      "0  0.196832        0.0  0.0   0.0       0.0       0.0  0.0      0.0  0.0000   \n",
      "1  0.078263        0.0  0.0   0.0       0.0       0.0  0.0      0.0  0.0000   \n",
      "2  0.000000        0.0  0.0   0.0       0.0       0.0  0.0      0.0  0.0852   \n",
      "3  0.000000        0.0  0.0   0.0       0.0       0.0  0.0      0.0  0.0000   \n",
      "4  0.000000        0.0  0.0   0.0       0.0       0.0  0.0      0.0  0.0000   \n",
      "\n",
      "   action  ...       son   mr  common  chemistry  english  literally  \\\n",
      "0     0.0  ...  0.000000  0.0     0.0        0.0      0.0        0.0   \n",
      "1     0.0  ...  0.000000  0.0     0.0        0.0      0.0        0.0   \n",
      "2     0.0  ...  0.000000  0.0     0.0        0.0      0.0        0.0   \n",
      "3     0.0  ...  0.113003  0.0     0.0        0.0      0.0        0.0   \n",
      "4     0.0  ...  0.000000  0.0     0.0        0.0      0.0        0.0   \n",
      "\n",
      "    earlier  near   culture  christmas  \n",
      "0  0.000000   0.0  0.000000        0.0  \n",
      "1  0.000000   0.0  0.000000        0.0  \n",
      "2  0.084289   0.0  0.000000        0.0  \n",
      "3  0.000000   0.0  0.000000        0.0  \n",
      "4  0.000000   0.0  0.151071        0.0  \n",
      "\n",
      "[5 rows x 1000 columns]\n"
     ]
    }
   ],
   "source": [
    "# c)\n",
    "X_train, X_test, Y_train, Y_test = train_test_split (X_data, Y_data.values, test_size=0.3)\n",
    "\n",
    "v = TfidfVectorizer(max_features=1000, stop_words='english',use_idf=True)\n",
    "x_train_tf = v.fit_transform(X_train)\n",
    "\n",
    "print(pd.DataFrame(x_train_tf.toarray(), columns=v.vocabulary_).head())"
   ]
  },
  {
   "cell_type": "code",
   "execution_count": 172,
   "metadata": {},
   "outputs": [
    {
     "name": "stdout",
     "output_type": "stream",
     "text": [
      "  (0, 29)\t0.13393026185733667\n",
      "  (0, 835)\t0.11067334268111256\n",
      "  (0, 289)\t0.13243155199987156\n",
      "  (0, 926)\t0.10662790742326143\n",
      "  (0, 629)\t0.1036335782038941\n",
      "  (0, 524)\t0.07498389441398591\n",
      "  (0, 176)\t0.1050294802520833\n",
      "  (0, 640)\t0.10075126417007921\n",
      "  (0, 528)\t0.09722322299622403\n",
      "  (0, 337)\t0.1269343483859678\n",
      "  (0, 498)\t0.11794318453211415\n",
      "  (0, 133)\t0.07018114061245391\n",
      "  (0, 523)\t0.12383648468049518\n",
      "  (0, 786)\t0.13715580766002658\n",
      "  (0, 724)\t0.12413094735092361\n",
      "  (0, 387)\t0.09516014473644802\n",
      "  (0, 215)\t0.12878474594670294\n",
      "  (0, 549)\t0.12930008954072558\n",
      "  (0, 502)\t0.04902446282049588\n",
      "  (0, 826)\t0.061356705660099826\n",
      "  (0, 900)\t0.0946976064737043\n",
      "  (0, 374)\t0.11668477490132013\n",
      "  (0, 400)\t0.10198031078136381\n",
      "  (0, 107)\t0.1091845063063705\n",
      "  (0, 526)\t0.11221309955098346\n",
      "  :\t:\n",
      "  (49, 744)\t0.08560951923533001\n",
      "  (49, 951)\t0.0589367965715641\n",
      "  (49, 813)\t0.11155486774535493\n",
      "  (49, 561)\t0.08055158915001043\n",
      "  (49, 869)\t0.08088950110868058\n",
      "  (49, 692)\t0.08498685393010796\n",
      "  (49, 474)\t0.06345346561616688\n",
      "  (49, 691)\t0.0526741001106378\n",
      "  (49, 343)\t0.09050244521202046\n",
      "  (49, 524)\t0.0655872104143878\n",
      "  (49, 528)\t0.08503959461765347\n",
      "  (49, 498)\t0.10316301282169615\n",
      "  (49, 133)\t0.06138631865474579\n",
      "  (49, 523)\t0.1083177879889208\n",
      "  (49, 502)\t0.04288091174230164\n",
      "  (49, 826)\t0.053667726862050444\n",
      "  (49, 374)\t0.10206230209057969\n",
      "  (49, 107)\t0.09550193738365358\n",
      "  (49, 441)\t0.07823817557810189\n",
      "  (49, 465)\t0.18960711030401442\n",
      "  (49, 461)\t0.044784797147918554\n",
      "  (49, 739)\t0.09610923328174724\n",
      "  (49, 97)\t0.03672681508104561\n",
      "  (49, 381)\t0.10327592204212735\n",
      "  (49, 15)\t0.08340703666570451\n"
     ]
    }
   ],
   "source": [
    "# d)\n",
    "print (x_train_tf[0:50])"
   ]
  },
  {
   "cell_type": "code",
   "execution_count": 173,
   "metadata": {},
   "outputs": [
    {
     "data": {
      "image/png": "[encoded data removed]",
      "text/plain": [
       "<Figure size 640x480 with 1 Axes>"
      ]
     },
     "metadata": {},
     "output_type": "display_data"
    }
   ],
   "source": [
    "# e)\n",
    "from sklearn.neighbors import KNeighborsClassifier\n",
    "import matplotlib.pyplot as plt\n",
    "import numpy as np\n",
    "\n",
    "knn = KNeighborsClassifier()\n",
    "scores_knn = []\n",
    "x_number = np.arange (1,10,1)\n",
    "\n",
    "x_test_tf = tv.fit_transform(X_test)\n",
    "\n",
    "for n_number in range (9):\n",
    "    knn = KNeighborsClassifier(n_neighbors=n_number+1)\n",
    "    knn.fit (x_train_tf, Y_train)\n",
    "    scores_knn.append (knn.score(x_test_tf[0:250], Y_test[0:250])) # when I use test set to score it, it keep calculating, so I use  first 250 set to show accuracy\n",
    "\n",
    "y_number = np.array (scores_knn)\n",
    "\n",
    "plt.plot (x_number, y_number,marker='o', label='Accuracy')\n",
    "plt.xlabel ('K value')\n",
    "plt.ylabel ('Accuracy')\n",
    "plt.xticks(x_number, x_number)\n",
    "plt.legend ()\n",
    "plt.show ()\n"
   ]
  },
  {
   "cell_type": "code",
   "execution_count": 163,
   "metadata": {},
   "outputs": [
    {
     "name": "stderr",
     "output_type": "stream",
     "text": [
      "c:\\ProgramData\\Miniconda3\\lib\\site-packages\\sklearn\\neural_network\\_multilayer_perceptron.py:686: ConvergenceWarning: Stochastic Optimizer: Maximum iterations (200) reached and the optimization hasn't converged yet.\n",
      "  warnings.warn(\n"
     ]
    },
    {
     "data": {
      "text/html": [
       "<style>#sk-container-id-4 {color: black;background-color: white;}#sk-container-id-4 pre{padding: 0;}#sk-container-id-4 div.sk-toggleable {background-color: white;}#sk-container-id-4 label.sk-toggleable__label {cursor: pointer;display: block;width: 100%;margin-bottom: 0;padding: 0.3em;box-sizing: border-box;text-align: center;}#sk-container-id-4 label.sk-toggleable__label-arrow:before {content: \"▸\";float: left;margin-right: 0.25em;color: #696969;}#sk-container-id-4 label.sk-toggleable__label-arrow:hover:before {color: black;}#sk-container-id-4 div.sk-estimator:hover label.sk-toggleable__label-arrow:before {color: black;}#sk-container-id-4 div.sk-toggleable__content {max-height: 0;max-width: 0;overflow: hidden;text-align: left;background-color: #f0f8ff;}#sk-container-id-4 div.sk-toggleable__content pre {margin: 0.2em;color: black;border-radius: 0.25em;background-color: #f0f8ff;}#sk-container-id-4 input.sk-toggleable__control:checked~div.sk-toggleable__content {max-height: 200px;max-width: 100%;overflow: auto;}#sk-container-id-4 input.sk-toggleable__control:checked~label.sk-toggleable__label-arrow:before {content: \"▾\";}#sk-container-id-4 div.sk-estimator input.sk-toggleable__control:checked~label.sk-toggleable__label {background-color: #d4ebff;}#sk-container-id-4 div.sk-label input.sk-toggleable__control:checked~label.sk-toggleable__label {background-color: #d4ebff;}#sk-container-id-4 input.sk-hidden--visually {border: 0;clip: rect(1px 1px 1px 1px);clip: rect(1px, 1px, 1px, 1px);height: 1px;margin: -1px;overflow: hidden;padding: 0;position: absolute;width: 1px;}#sk-container-id-4 div.sk-estimator {font-family: monospace;background-color: #f0f8ff;border: 1px dotted black;border-radius: 0.25em;box-sizing: border-box;margin-bottom: 0.5em;}#sk-container-id-4 div.sk-estimator:hover {background-color: #d4ebff;}#sk-container-id-4 div.sk-parallel-item::after {content: \"\";width: 100%;border-bottom: 1px solid gray;flex-grow: 1;}#sk-container-id-4 div.sk-label:hover label.sk-toggleable__label {background-color: #d4ebff;}#sk-container-id-4 div.sk-serial::before {content: \"\";position: absolute;border-left: 1px solid gray;box-sizing: border-box;top: 0;bottom: 0;left: 50%;z-index: 0;}#sk-container-id-4 div.sk-serial {display: flex;flex-direction: column;align-items: center;background-color: white;padding-right: 0.2em;padding-left: 0.2em;position: relative;}#sk-container-id-4 div.sk-item {position: relative;z-index: 1;}#sk-container-id-4 div.sk-parallel {display: flex;align-items: stretch;justify-content: center;background-color: white;position: relative;}#sk-container-id-4 div.sk-item::before, #sk-container-id-4 div.sk-parallel-item::before {content: \"\";position: absolute;border-left: 1px solid gray;box-sizing: border-box;top: 0;bottom: 0;left: 50%;z-index: -1;}#sk-container-id-4 div.sk-parallel-item {display: flex;flex-direction: column;z-index: 1;position: relative;background-color: white;}#sk-container-id-4 div.sk-parallel-item:first-child::after {align-self: flex-end;width: 50%;}#sk-container-id-4 div.sk-parallel-item:last-child::after {align-self: flex-start;width: 50%;}#sk-container-id-4 div.sk-parallel-item:only-child::after {width: 0;}#sk-container-id-4 div.sk-dashed-wrapped {border: 1px dashed gray;margin: 0 0.4em 0.5em 0.4em;box-sizing: border-box;padding-bottom: 0.4em;background-color: white;}#sk-container-id-4 div.sk-label label {font-family: monospace;font-weight: bold;display: inline-block;line-height: 1.2em;}#sk-container-id-4 div.sk-label-container {text-align: center;}#sk-container-id-4 div.sk-container {/* jupyter's `normalize.less` sets `[hidden] { display: none; }` but bootstrap.min.css set `[hidden] { display: none !important; }` so we also need the `!important` here to be able to override the default hidden behavior on the sphinx rendered scikit-learn.org. See: https://github.com/scikit-learn/scikit-learn/issues/21755 */display: inline-block !important;position: relative;}#sk-container-id-4 div.sk-text-repr-fallback {display: none;}</style><div id=\"sk-container-id-4\" class=\"sk-top-container\"><div class=\"sk-text-repr-fallback\"><pre>MLPClassifier(hidden_layer_sizes=(16, 4))</pre><b>In a Jupyter environment, please rerun this cell to show the HTML representation or trust the notebook. <br />On GitHub, the HTML representation is unable to render, please try loading this page with nbviewer.org.</b></div><div class=\"sk-container\" hidden><div class=\"sk-item\"><div class=\"sk-estimator sk-toggleable\"><input class=\"sk-toggleable__control sk-hidden--visually\" id=\"sk-estimator-id-4\" type=\"checkbox\" checked><label for=\"sk-estimator-id-4\" class=\"sk-toggleable__label sk-toggleable__label-arrow\">MLPClassifier</label><div class=\"sk-toggleable__content\"><pre>MLPClassifier(hidden_layer_sizes=(16, 4))</pre></div></div></div></div></div>"
      ],
      "text/plain": [
       "MLPClassifier(hidden_layer_sizes=(16, 4))"
      ]
     },
     "execution_count": 163,
     "metadata": {},
     "output_type": "execute_result"
    }
   ],
   "source": [
    "# f)\n",
    "import pathlib\n",
    "import numpy as np\n",
    "import tensorflow as tf\n",
    "import matplotlib.pyplot as plt\n",
    "from tensorflow.keras.preprocessing.image import ImageDataGenerator\n",
    "\n",
    "from sklearn.ensemble import RandomForestClassifier\n",
    "model_rf = RandomForestClassifier(max_depth=1)\n",
    "model_rf.fit(x_train_tf, Y_train)\n",
    "\n",
    "model_re = LogisticRegression()\n",
    "model_re.fit(x_train_tf, Y_train)\n",
    "\n",
    "from tensorflow import keras\n",
    "from tensorflow.keras import layers\n",
    "\n",
    "model_dl = keras.Sequential (\n",
    "    [layers.Input(shape=1000),\n",
    "    layers.Dense(100),\n",
    "    layers.Dense(10),\n",
    "    layers.Dense(1),]\n",
    "    )\n",
    "model_dl.compile ()\n",
    "# model_dl.fit (x_train_tf, Y_train)  !!!\n",
    "\n",
    "# when i use kreas it show indices[2] = [0,289] is out of order. Many sparse ops require sorted indices. So i use previous Neural Network to fit this data.\n",
    "\n",
    "model_nn.fit(x_train_tf, Y_train)"
   ]
  },
  {
   "cell_type": "code",
   "execution_count": 174,
   "metadata": {},
   "outputs": [
    {
     "name": "stdout",
     "output_type": "stream",
     "text": [
      "Confuison matrix knn: \n",
      " [[80 62]\n",
      " [50 58]] \n",
      "\n",
      "Confuison matrix Random Forest: \n",
      " [[84 98]\n",
      " [46 22]] \n",
      "\n",
      "Confuison matrix Logistic Regression: \n",
      " [[72 62]\n",
      " [58 58]] \n",
      "\n",
      "Confuison matrix Deep Neural Network: \n",
      " [[68 64]\n",
      " [62 56]] \n",
      "\n"
     ]
    }
   ],
   "source": [
    "# g)\n",
    "\n",
    "knn = KNeighborsClassifier(n_neighbors=8) # pick best number for this test\n",
    "knn.fit (x_train_tf, Y_train)\n",
    "\n",
    "print ('Confuison matrix knn: \\n', confusion_matrix (knn.predict(x_test_tf[0:250]), Y_test[0:250]),'\\n')\n",
    "print ('Confuison matrix Random Forest: \\n', confusion_matrix (model_rf.predict(x_test_tf[0:250]), Y_test[0:250]),'\\n')\n",
    "print ('Confuison matrix Logistic Regression: \\n', confusion_matrix (model_re.predict(x_test_tf[0:250]), Y_test[0:250]),'\\n')\n",
    "print ('Confuison matrix Deep Neural Network: \\n', confusion_matrix (model_nn.predict(x_test_tf[0:250]), Y_test[0:250]),'\\n')"
   ]
  },
  {
   "cell_type": "code",
   "execution_count": 166,
   "metadata": {},
   "outputs": [
    {
     "data": {
      "text/html": [
       "<div>\n",
       "<style scoped>\n",
       "    .dataframe tbody tr th:only-of-type {\n",
       "        vertical-align: middle;\n",
       "    }\n",
       "\n",
       "    .dataframe tbody tr th {\n",
       "        vertical-align: top;\n",
       "    }\n",
       "\n",
       "    .dataframe thead th {\n",
       "        text-align: right;\n",
       "    }\n",
       "</style>\n",
       "<table border=\"1\" class=\"dataframe\">\n",
       "  <thead>\n",
       "    <tr style=\"text-align: right;\">\n",
       "      <th></th>\n",
       "      <th>IDcaption</th>\n",
       "      <th>ID</th>\n",
       "      <th>caption</th>\n",
       "    </tr>\n",
       "  </thead>\n",
       "  <tbody>\n",
       "    <tr>\n",
       "      <th>0</th>\n",
       "      <td>ImageCLEFmedCaption_2022_train_000001\\tpericar...</td>\n",
       "      <td>ImageCLEFmedCaption_2022_train_000001</td>\n",
       "      <td>pericardial tamponade with clear distinction o...</td>\n",
       "    </tr>\n",
       "    <tr>\n",
       "      <th>1</th>\n",
       "      <td>ImageCLEFmedCaption_2022_train_000002\\tangiogr...</td>\n",
       "      <td>ImageCLEFmedCaption_2022_train_000002</td>\n",
       "      <td>angiography of the aortic arch show delay visu...</td>\n",
       "    </tr>\n",
       "    <tr>\n",
       "      <th>2</th>\n",
       "      <td>ImageCLEFmedCaption_2022_train_000003\\tballoon...</td>\n",
       "      <td>ImageCLEFmedCaption_2022_train_000003</td>\n",
       "      <td>balloonocclude retrograde transvenous oblitera...</td>\n",
       "    </tr>\n",
       "    <tr>\n",
       "      <th>3</th>\n",
       "      <td>ImageCLEFmedCaption_2022_train_000004\\tfilm af...</td>\n",
       "      <td>ImageCLEFmedCaption_2022_train_000004</td>\n",
       "      <td>film after glue embolization show no filling i...</td>\n",
       "    </tr>\n",
       "    <tr>\n",
       "      <th>4</th>\n",
       "      <td>ImageCLEFmedCaption_2022_train_000005\\tperiphe...</td>\n",
       "      <td>ImageCLEFmedCaption_2022_train_000005</td>\n",
       "      <td>peripheral in posteroanterior projection angio...</td>\n",
       "    </tr>\n",
       "  </tbody>\n",
       "</table>\n",
       "</div>"
      ],
      "text/plain": [
       "                                           IDcaption  \\\n",
       "0  ImageCLEFmedCaption_2022_train_000001\\tpericar...   \n",
       "1  ImageCLEFmedCaption_2022_train_000002\\tangiogr...   \n",
       "2  ImageCLEFmedCaption_2022_train_000003\\tballoon...   \n",
       "3  ImageCLEFmedCaption_2022_train_000004\\tfilm af...   \n",
       "4  ImageCLEFmedCaption_2022_train_000005\\tperiphe...   \n",
       "\n",
       "                                      ID  \\\n",
       "0  ImageCLEFmedCaption_2022_train_000001   \n",
       "1  ImageCLEFmedCaption_2022_train_000002   \n",
       "2  ImageCLEFmedCaption_2022_train_000003   \n",
       "3  ImageCLEFmedCaption_2022_train_000004   \n",
       "4  ImageCLEFmedCaption_2022_train_000005   \n",
       "\n",
       "                                             caption  \n",
       "0  pericardial tamponade with clear distinction o...  \n",
       "1  angiography of the aortic arch show delay visu...  \n",
       "2  balloonocclude retrograde transvenous oblitera...  \n",
       "3  film after glue embolization show no filling i...  \n",
       "4  peripheral in posteroanterior projection angio...  "
      ]
     },
     "execution_count": 166,
     "metadata": {},
     "output_type": "execute_result"
    }
   ],
   "source": [
    "# Q4\n",
    "#a)\n",
    "train_img = pd.read_csv('D:/image_caption.txt')\n",
    "train_img[['ID', 'caption']] = train_img['IDcaption'].str.split('\\t', expand=True) # modify text to do easier dataframe.\n",
    "train_img.head()"
   ]
  },
  {
   "cell_type": "code",
   "execution_count": 169,
   "metadata": {},
   "outputs": [
    {
     "data": {
      "text/plain": [
       "array(['pericardial tamponade with clear distinction of epicardial border  and pericardium',\n",
       "       'angiography of the aortic arch show delay visualization of the aberrant right subclavian artery arrow',\n",
       "       'balloonocclude retrograde transvenous obliteration be attempt use a coaxial and double interruption system cytography be perform by insert the catheter into the shunt complete balloon occlusion be not achieve with a  balloon catheter arrow  the  mm balloon be inflate when the guide balloon catheter be fix at the optimum position arrow  follow which stasis of the contrast medium be observe we then perform balloonocclude retrograde transvenous obliteration use a sclerosing agent',\n",
       "       'film after glue embolization show no filling in the pseudoaneurysm and the glue angiocatheter',\n",
       "       'peripheral in posteroanterior projection angiography total occlusion in the left popliteal artery black arrow be observe with distal collateral filling white arrow'],\n",
       "      dtype='<U836')"
      ]
     },
     "execution_count": 169,
     "metadata": {},
     "output_type": "execute_result"
    }
   ],
   "source": [
    "# b)\n",
    "X_data = word_preprocess(train_img['caption'])\n",
    "X_data[0:5]"
   ]
  },
  {
   "cell_type": "code",
   "execution_count": 170,
   "metadata": {},
   "outputs": [
    {
     "name": "stdout",
     "output_type": "stream",
     "text": [
      "Term-Document Matrix:\n",
      "[[0.         0.46979139 0.58028582 0.38408524 0.         0.\n",
      "  0.38408524 0.         0.38408524]\n",
      " [0.         0.6876236  0.         0.28108867 0.         0.53864762\n",
      "  0.28108867 0.         0.28108867]\n",
      " [0.51184851 0.         0.         0.26710379 0.51184851 0.\n",
      "  0.26710379 0.51184851 0.26710379]\n",
      " [0.         0.46979139 0.58028582 0.38408524 0.         0.\n",
      "  0.38408524 0.         0.38408524]]\n",
      "\n",
      "Feature Names:\n",
      "['and' 'document' 'first' 'is' 'one' 'second' 'the' 'third' 'this']\n"
     ]
    }
   ],
   "source": [
    "# c)\n",
    "from sklearn.feature_extraction.text import TfidfVectorizer\n",
    "\n",
    "# Sample documents\n",
    "documents = [\n",
    "    \"This is the first document.\",\n",
    "    \"This document is the second document.\",\n",
    "    \"And this is the third one.\",\n",
    "    \"Is this the first document?\",\n",
    "]\n",
    "\n",
    "# Create the TF-IDF vectorizer\n",
    "vectorizer = TfidfVectorizer()\n",
    "\n",
    "# Fit the vectorizer to the documents and transform them into the term-document matrix\n",
    "tfidf_matrix = vectorizer.fit_transform(documents)\n",
    "\n",
    "# Get the feature names (terms)\n",
    "feature_names = vectorizer.get_feature_names_out()\n",
    "\n",
    "# Convert the matrix to a dense matrix (if needed)\n",
    "tfidf_matrix_dense = tfidf_matrix.toarray()\n",
    "\n",
    "# Print the term-document matrix\n",
    "print(\"Term-Document Matrix:\")\n",
    "print(tfidf_matrix_dense)\n",
    "print()\n",
    "\n",
    "# Print the feature names\n",
    "print(\"Feature Names:\")\n",
    "print(feature_names)\n"
   ]
  },
  {
   "cell_type": "code",
   "execution_count": null,
   "metadata": {},
   "outputs": [],
   "source": []
  }
 ],
 "metadata": {
  "kernelspec": {
   "display_name": "base",
   "language": "python",
   "name": "python3"
  },
  "language_info": {
   "codemirror_mode": {
    "name": "ipython",
    "version": 3
   },
   "file_extension": ".py",
   "mimetype": "text/x-python",
   "name": "python",
   "nbconvert_exporter": "python",
   "pygments_lexer": "ipython3",
   "version": "3.9.16"
  },
  "orig_nbformat": 4
 },
 "nbformat": 4,
 "nbformat_minor": 2
}
