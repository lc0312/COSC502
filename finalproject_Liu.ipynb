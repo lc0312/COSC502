{
 "cells": [
  {
   "cell_type": "code",
   "execution_count": 355,
   "metadata": {},
   "outputs": [],
   "source": [
    "#Q1\n",
    "# a)\n",
    "\n",
    "import wikipedia\n",
    "wiki = wikipedia.page('JackieChan')\n",
    "text = wiki.content\n",
    "\n",
    "#jctext = open ('')"
   ]
  },
  {
   "cell_type": "code",
   "execution_count": 356,
   "metadata": {},
   "outputs": [
    {
     "name": "stdout",
     "output_type": "stream",
     "text": [
      "  (0, 1071)\t58\n",
      "  (0, 409)\t249\n",
      "  (0, 327)\t5\n",
      "  (0, 222)\t7\n",
      "  (0, 15)\t2\n",
      "  (0, 432)\t27\n",
      "  (0, 2133)\t2\n",
      "  (0, 1098)\t2\n",
      "  (0, 1744)\t2\n",
      "  (0, 1211)\t2\n",
      "  (0, 1177)\t2\n",
      "  (0, 288)\t2\n",
      "  (0, 1900)\t476\n",
      "  (0, 659)\t15\n",
      "  (0, 1062)\t28\n",
      "  (0, 988)\t47\n",
      "  (0, 1118)\t48\n",
      "  (0, 130)\t11\n",
      "  (0, 814)\t5\n",
      "  (0, 1240)\t7\n",
      "  (0, 237)\t1\n",
      "  (0, 187)\t218\n",
      "  (0, 1832)\t1\n",
      "  (0, 1116)\t6\n",
      "  (0, 842)\t66\n",
      "  :\t:\n",
      "  (0, 1701)\t1\n",
      "  (0, 313)\t1\n",
      "  (0, 1061)\t1\n",
      "  (0, 743)\t2\n",
      "  (0, 1847)\t1\n",
      "  (0, 1200)\t1\n",
      "  (0, 1506)\t1\n",
      "  (0, 329)\t1\n",
      "  (0, 2049)\t1\n",
      "  (0, 1064)\t1\n",
      "  (0, 817)\t1\n",
      "  (0, 630)\t1\n",
      "  (0, 1324)\t1\n",
      "  (0, 993)\t1\n",
      "  (0, 1453)\t1\n",
      "  (0, 1440)\t1\n",
      "  (0, 100)\t1\n",
      "  (0, 330)\t1\n",
      "  (0, 1570)\t1\n",
      "  (0, 1550)\t1\n",
      "  (0, 763)\t1\n",
      "  (0, 1175)\t1\n",
      "  (0, 1019)\t1\n",
      "  (0, 572)\t1\n",
      "  (0, 167)\t1\n"
     ]
    }
   ],
   "source": [
    "# b)\n",
    "\n",
    "from sklearn.feature_extraction.text import CountVectorizer\n",
    "vectorizer = CountVectorizer()\n",
    "jcvocabulary  = vectorizer.fit_transform([text])\n",
    "print (jcvocabulary)"
   ]
  },
  {
   "cell_type": "code",
   "execution_count": 357,
   "metadata": {},
   "outputs": [
    {
     "name": "stdout",
     "output_type": "stream",
     "text": [
      "['jacki', 'chan', 'born', 'april', 'chine', '成龍', 'jyutp', 'sing', 'lung', 'lit', 'becom', 'dragon', 'hong', 'kong', 'actor', 'filmmak', 'martial', 'artist', 'stuntman', 'known', 'slapstick', 'acrobat', 'fight', 'style', 'comic', 'time', 'innov', 'stunt', 'typic', 'perform', 'chan', 'act', 'sinc', 'perform', 'film', 'one', 'popular', 'action', 'film', 'star', 'timechan', 'one', 'recognis', 'influenti', 'film', 'person', 'world', 'widespread', 'global', 'follow', 'eastern', 'western', 'hemispher', 'receiv', 'fame', 'star', 'hong', 'kong', 'avenu', 'star', 'hollywood', 'walk', 'fame', 'chan', 'referenc', 'variou', 'pop', 'song', 'cartoon', 'film', 'video', 'game', 'operat', 'train', 'vocalist', 'also', 'cantopop', 'mandopop', 'star', 'releas', 'number', 'music', 'album', 'sung', 'mani', 'theme', 'song', 'film', 'star', 'also', 'global', 'known', 'philanthropist', 'name', 'one', 'top', 'charit', 'celebr', 'forb', 'magazin', 'film', 'scholar', 'andrew', 'willi', 'state', 'chan', 'perhap', 'recognis', 'film', 'star', 'world', 'forb', 'estim', 'net', 'worth', 'million', 'secondhighestpaid', 'actor', 'worldchan', 'view', 'hong', 'kong', 'polit', 'gradual', 'shift', 'prodemocrat', 'stanc', 'probeij', 'stanc', 'sinc', 'sinc', 'chan', 'prochines', 'communist', 'parti', 'cpc', 'politician', 'serv', 'two', 'term', 'deleg', 'chine', 'peopl', 'polit', 'consult', 'confer', 'express', 'desir', 'join', 'cpc', 'earli', 'life', 'chan', 'born', 'april', 'british', 'hong', 'kong', 'chan', 'kongsang', 'chine', '陳港生', 'lit', 'chan', 'hong', 'kongborn', 'charl', 'leele', 'chan', 'polit', 'refuge', 'chine', 'civil', 'war', 'circa', 'chan', 'father', 'origin', 'name', 'fang', 'daolong', 'briefli', 'work', 'secret', 'agent', 'lieuten', 'gener', 'dai', 'li', 'chief', 'spi', 'kuomintangrul', 'china', 'fear', 'arrest', 'communist', 'govern', 'chan', 'father', 'fled', 'british', 'hong', 'kong', 'chang', 'surnam', 'fang', 'chan', 'chan', 'wife', 'chan', 'leele', 'surnam', 'chan', 'discov', 'father', 'ident', 'chang', 'chine', 'name', 'fang', 'shilong', '房仕龍', 'late', 'name', 'would', 'name', 'accord', 'kin', 'genealog', 'bookchan', 'spent', 'form', 'year', 'within', 'ground', 'french', 'consul', 'resid', 'victoria', 'peak', 'british', 'hong', 'kong', 'father', 'work', 'cook', 'chan', 'attend', 'nahhwa', 'primari', 'school', 'hong', 'kong', 'island', 'fail', 'first', 'year', 'parent', 'withdrew', 'school', 'father', 'emigr', 'canberra', 'australia', 'work', 'head', 'cook', 'american', 'embassi', 'chan', 'sent', 'china', 'drama', 'academi', 'peke', 'opera', 'school', 'run', 'master', 'yu', 'jimyuen', 'chan', 'train', 'rigor', 'next', 'decad', 'excel', 'martial', 'art', 'acrobat', 'eventu', 'becam', 'part', 'seven', 'littl', 'fortun', 'perform', 'group', 'made', 'school', 'best', 'student', 'gain', 'stage', 'name', 'yuen', 'lo', '元樓', 'homag', 'master', 'chan', 'becam', 'close', 'friend', 'fellow', 'group', 'member', 'sammo', 'hung', 'yuen', 'biao', 'three', 'later', 'becam', 'known', 'three', 'brother', 'three', 'dragon', 'enter', 'film', 'industri', 'chan', 'along', 'sammo', 'hung', 'got', 'opportun', 'train', 'hapkido', 'grand', 'master', 'jin', 'pal', 'kim', 'chan', 'eventu', 'attain', 'black', 'beltchan', 'join', 'parent', 'canberra', 'australia', 'briefli', 'attend', 'dickson', 'colleg', 'work', 'construct', 'worker', 'fellow', 'builder', 'name', 'jack', 'took', 'chan', 'wing', 'thu', 'earn', 'chan', 'nicknam', 'littl', 'jack', 'later', 'shorten', 'jacki', 'stuck', 'ever', 'sinc', 'film', 'career', 'earli', 'small', 'appear', 'began', 'film', 'career', 'appear', 'small', 'role', 'age', 'five', 'child', 'actor', 'age', 'eight', 'appear', 'fellow', 'littl', 'fortun', 'film', 'big', 'littl', 'wong', 'tin', 'bar', 'li', 'lihua', 'play', 'mother', 'follow', 'year', 'young', 'actor', 'appear', 'extra', 'yen', 'chun', 'film', 'liang', 'po', 'chu', 'ying', 'tai', 'small', 'role', 'king', 'hu', 'film', 'come', 'drink', 'appear', 'extra', 'anoth', 'kung', 'fu', 'film', 'touch', 'zen', 'chan', 'sign', 'chu', 'mu', 'great', 'earth', 'film', 'companychan', 'appear', 'bruce', 'lee', 'film', 'fist', 'furi', 'extra', 'stunt', 'doubl', 'japanes', 'villain', 'hiroshi', 'suzuki', 'portray', 'riki', 'hashimoto', 'particularli', 'final', 'fight', 'scene', 'lee', 'kick', 'fli', 'air', 'chan', 'appear', 'anoth', 'bruce', 'lee', 'film', 'enter', 'dragon', 'minor', 'henchman', 'get', 'kill', 'lee', 'charact', 'sammo', 'hung', 'help', 'chan', 'get', 'minor', 'role', 'bruce', 'lee', 'film', 'chan', 'also', 'work', 'martial', 'art', 'choreograph', 'john', 'woo', 'young', 'dragon', 'startup', 'lead', 'role', 'jacki', 'chan', 'receiv', 'telegram', 'willi', 'chan', 'film', 'produc', 'hong', 'kong', 'film', 'industri', 'impress', 'jacki', 'stunt', 'choreographi', 'work', 'willi', 'chan', 'offer', 'act', 'role', 'film', 'direct', 'lo', 'wei', 'lo', 'saw', 'chan', 'perform', 'john', 'woo', 'film', 'hand', 'death', 'plan', 'model', 'bruce', 'lee', 'film', 'new', 'fist', 'furi', 'stage', 'name', 'chang', '成龍', 'liter', 'becom', 'dragon', 'sing', 'lung', 'jyutp', 'rare', 'cheng', 'long', 'pinyin', 'emphasis', 'similar', 'bruce', 'lee', 'whose', 'stage', 'name', 'meant', 'lee', 'littl', 'dragon', 'chine', 'note', 'dragon', 'lee', 'name', 'refer', 'lee', 'birth', 'year', 'dragon', 'zodiac', 'chine', 'dragon', 'film', 'unsuccess', 'chan', 'accustom', 'lee', 'martial', 'art', 'style', 'despit', 'film', 'failur', 'lo', 'wei', 'continu', 'produc', 'film', 'similar', 'theme', 'littl', 'improv', 'box', 'officechan', 'first', 'major', 'breakthrough', 'film', 'snake', 'eagl', 'shadow', 'shot', 'loan', 'season', 'film', 'corpor', 'twopictur', 'deal', 'director', 'yuen', 'woop', 'allow', 'chan', 'complet', 'freedom', 'stunt', 'work', 'film', 'establish', 'comed', 'kung', 'fu', 'genr', 'prove', 'refresh', 'hong', 'kong', 'audienc', 'year', 'chan', 'star', 'drunken', 'master', 'final', 'propel', 'mainstream', 'successupon', 'chan', 'return', 'lo', 'wei', 'studio', 'lo', 'tri', 'replic', 'comed', 'approach', 'drunken', 'master', 'produc', 'also', 'show', 'new', 'featur', 'time', 'jacki', 'stunt', 'director', 'half', 'loaf', 'kung', 'fu', 'spiritu', 'kung', 'fu', 'also', 'gave', 'chan', 'opportun', 'make', 'directori', 'debut', 'fearless', 'hyena', 'willi', 'chan', 'left', 'compani', 'advis', 'jacki', 'decid', 'whether', 'stay', 'lo', 'wei', 'shoot', 'fearless', 'hyena', 'part', 'ii', 'chan', 'broke', 'contract', 'join', 'golden', 'harvest', 'prompt', 'lo', 'blackmail', 'chan', 'triad', 'blame', 'willi', 'star', 'departur', 'disput', 'resolv', 'help', 'fellow', 'actor', 'director', 'jimmi', 'wang', 'yu', 'allow', 'chan', 'stay', 'golden', 'harvest', 'commerci', 'success', 'action', 'comedi', 'genr', 'willi', 'chan', 'becam', 'jacki', 'person', 'manag', 'firm', 'friend', 'remain', 'year', 'instrument', 'launch', 'chan', 'intern', 'career', 'begin', 'first', 'foray', 'american', 'film', 'industri', 'first', 'hollywood', 'film', 'big', 'brawl', 'chan', 'play', 'minor', 'role', 'film', 'cannonbal', 'run', 'gross', 'u', 'million', 'worldwid', 'despit', 'larg', 'ignor', 'north', 'american', 'audienc', 'favour', 'establish', 'american', 'actor', 'burt', 'reynold', 'chan', 'impress', 'outtak', 'shown', 'close', 'credit', 'inspir', 'includ', 'devic', 'futur', 'film', 'commerci', 'failur', 'protector', 'chan', 'temporarili', 'abandon', 'attempt', 'break', 'u', 'market', 'return', 'focu', 'hong', 'kong', 'filmsback', 'hong', 'kong', 'chan', 'film', 'began', 'reach', 'larger', 'audienc', 'east', 'asia', 'earli', 'success', 'lucr', 'japanes', 'market', 'includ', 'drunken', 'master', 'young', 'master', 'dragon', 'lord', 'young', 'master', 'went', 'beat', 'previou', 'box', 'offic', 'record', 'set', 'bruce', 'lee', 'establish', 'chan', 'hong', 'kong', 'cinema', 'top', 'star', 'dragon', 'lord', 'began', 'experi', 'elabor', 'stunt', 'action', 'sequenc', 'includ', 'final', 'fight', 'scene', 'perform', 'variou', 'stunt', 'includ', 'one', 'back', 'flip', 'loft', 'fall', 'lower', 'groundchan', 'produc', 'number', 'action', 'comedi', 'film', 'opera', 'school', 'friend', 'sammo', 'hung', 'yuen', 'biao', 'three', 'costar', 'togeth', 'first', 'time', 'project', 'introduc', 'danger', 'stuntdriven', 'style', 'martial', 'art', 'best', 'action', 'design', 'award', 'third', 'annual', 'hong', 'kong', 'film', 'award', 'follow', 'two', 'year', 'three', 'brother', 'appear', 'wheel', 'meal', 'origin', 'lucki', 'star', 'trilog', 'chan', 'made', 'first', 'polic', 'stori', 'film', 'crime', 'action', 'film', 'chan', 'perform', 'number', 'danger', 'stunt', 'best', 'film', 'hong', 'kong', 'film', 'award', 'chan', 'play', 'asian', 'hawk', 'indiana', 'jonesesqu', 'charact', 'film', 'armour', 'god', 'film', 'chan', 'biggest', 'domest', 'box', 'offic', 'success', 'point', 'gross', 'hk', 'million', 'acclaim', 'film', 'sequel', 'hollywood', 'breakthrough', 'chan', 'star', 'alongsid', 'sammo', 'hung', 'yuen', 'biao', 'last', 'time', 'date', 'film', 'dragon', 'forev', 'hung', 'codirect', 'corey', 'yuen', 'villain', 'film', 'play', 'yuen', 'wah', 'fellow', 'graduat', 'china', 'drama', 'academi', 'late', 'earli', 'chan', 'star', 'number', 'success', 'sequel', 'begin', 'project', 'part', 'ii', 'polic', 'stori', 'award', 'best', 'action', 'choreographi', 'hong', 'kong', 'film', 'award', 'follow', 'armour', 'god', 'ii', 'oper', 'condor', 'polic', 'stori', 'super', 'cop', 'chan', 'best', 'actor', 'award', 'golden', 'hors', 'film', 'festiv', 'chan', 'repris', 'role', 'wong', 'feihung', 'drunken', 'master', 'ii', 'list', 'time', 'magazin', 'alltim', 'movi', 'anoth', 'sequel', 'polic', 'stori', 'first', 'strike', 'brought', 'award', 'domest', 'box', 'offic', 'success', 'chan', 'fare', 'well', 'foreign', 'marketsbi', 'mid', 'popular', 'action', 'movi', 'star', 'asia', 'europ', 'januari', 'film', 'gross', 'hk', 'million', 'u', 'million', 'hong', 'kong', 'billion', 'u', 'million', 'japan', 'sold', 'million', 'box', 'offic', 'admiss', 'franc', 'germani', 'itali', 'spain', 'despit', 'intern', 'success', 'success', 'north', 'america', 'two', 'wide', 'releas', 'lead', 'actor', 'big', 'brawl', 'protector', 'gross', 'u', 'million', 'u', 'million', 'adjust', 'inflat', 'despit', 'thrive', 'north', 'american', 'home', 'video', 'market', 'chan', 'hong', 'kong', 'film', 'midschan', 'rekindl', 'hollywood', 'ambit', 'refus', 'earli', 'offer', 'play', 'villain', 'hollywood', 'film', 'avoid', 'typecast', 'futur', 'role', 'exampl', 'sylvest', 'stallon', 'offer', 'role', 'simon', 'phoenix', 'crimin', 'futurist', 'film', 'demolit', 'man', 'chan', 'declin', 'role', 'taken', 'wesley', 'snipeschan', 'final', 'succeed', 'establish', 'foothold', 'north', 'american', 'market', 'worldwid', 'releas', 'rumbl', 'bronx', 'attain', 'cult', 'follow', 'unit', 'state', 'rare', 'hong', 'kong', 'movi', 'star', 'success', 'rumbl', 'bronx', 'led', 'releas', 'polic', 'stori', 'super', 'cop', 'unit', 'state', 'titl', 'supercop', 'gross', 'total', 'u', 'chan', 'first', 'huge', 'blockbust', 'success', 'came', 'costar', 'chri', 'tucker', 'buddi', 'cop', 'action', 'comedi', 'rush', 'hour', 'gross', 'u', 'million', 'unit', 'state', 'alon', 'film', 'made', 'hollywood', 'star', 'wrote', 'autobiographi', 'collabor', 'jeff', 'yang', 'entitl', 'jacki', 'chan', 'fame', 'hollywood', 'dramatis', 'chan', 'releas', 'final', 'film', 'golden', 'harvest', 'leav', 'golden', 'harvest', 'produc', 'star', 'alongsid', 'shu', 'qi', 'gorgeou', 'romant', 'comedi', 'focus', 'person', 'relationship', 'featur', 'martial', 'art', 'sequenc', 'although', 'chan', 'left', 'golden', 'harvest', 'compani', 'continu', 'produc', 'distribut', 'two', 'film', 'gorgeou', 'accident', 'spi', 'chan', 'help', 'creat', 'playstat', 'game', 'call', 'jacki', 'chan', 'stuntmast', 'lent', 'voic', 'perform', 'motion', 'captur', 'continu', 'hollywood', 'success', 'team', 'owen', 'wilson', 'western', 'action', 'comedi', 'shanghai', 'noon', 'sequel', 'shanghai', 'knight', 'follow', 'also', 'featur', 'first', 'onscreen', 'fight', 'scene', 'donni', 'yen', 'reunit', 'chri', 'tucker', 'rush', 'hour', 'even', 'bigger', 'success', 'origin', 'gross', 'million', 'worldwid', 'chan', 'experi', 'use', 'special', 'effect', 'wirework', 'fight', 'scene', 'next', 'two', 'hollywood', 'film', 'tuxedo', 'medallion', 'success', 'critic', 'commerci', 'team', 'steve', 'coogan', 'around', 'world', 'day', 'loo', 'base', 'jule', 'vern', 'novel', 'name', 'film', 'scholar', 'andrew', 'willi', 'state', 'chan', 'perhap', 'recognis', 'star', 'worlddespit', 'success', 'rush', 'hour', 'shanghai', 'noon', 'film', 'chan', 'becam', 'frustrat', 'hollywood', 'limit', 'rang', 'role', 'lack', 'control', 'filmmak', 'process', 'respons', 'golden', 'harvest', 'withdraw', 'film', 'industri', 'chan', 'start', 'film', 'product', 'compani', 'jce', 'movi', 'limit', 'jacki', 'chan', 'emperor', 'movi', 'limit', 'associ', 'emperor', 'multimedia', 'group', 'emg', 'film', 'sinc', 'featur', 'increas', 'number', 'dramat', 'scene', 'continu', 'succeed', 'box', 'offic', 'exampl', 'includ', 'new', 'polic', 'stori', 'myth', 'hit', 'film', 'robbhood', 'chan', 'next', 'releas', 'third', 'instal', 'rush', 'hour', 'film', 'seri', 'direct', 'brett', 'ratner', 'rush', 'hour', 'august', 'gross', 'u', 'million', 'howev', 'disappoint', 'hong', 'kong', 'gross', 'hk', 'million', 'open', 'weekend', 'present', 'new', 'experi', 'chang', 'act', 'style', 'film', 'forbidden', 'kingdom', 'chan', 'first', 'onscreen', 'collabor', 'fellow', 'chine', 'actor', 'jet', 'li', 'complet', 'august', 'movi', 'releas', 'april', 'movi', 'featur', 'heavi', 'use', 'effect', 'wire', 'chan', 'voic', 'master', 'monkey', 'kung', 'fu', 'panda', 'releas', 'june', 'appear', 'jack', 'black', 'dustin', 'hoffman', 'angelina', 'joli', 'addit', 'assist', 'anthoni', 'szeto', 'advisori', 'capac', 'writerdirector', 'film', 'wushu', 'releas', 'may', 'film', 'star', 'sammo', 'hung', 'wang', 'wenji', 'father', 'sonin', 'novemb', 'chan', 'began', 'film', 'shinjuku', 'incid', 'dramat', 'role', 'featur', 'martial', 'art', 'sequenc', 'director', 'derek', 'yee', 'see', 'chan', 'take', 'role', 'chine', 'immigr', 'japan', 'film', 'releas', 'april', 'accord', 'blog', 'chan', 'discus', 'wish', 'direct', 'film', 'complet', 'shinjuku', 'incid', 'someth', 'done', 'number', 'year', 'film', 'expect', 'third', 'armour', 'god', 'seri', 'work', 'titl', 'armour', 'god', 'iii', 'chine', 'zodiac', 'film', 'releas', 'decemb', 'screen', 'actor', 'guild', 'go', 'strike', 'chan', 'start', 'shoot', 'next', 'hollywood', 'movi', 'spi', 'next', 'door', 'end', 'octob', 'new', 'mexico', 'spi', 'next', 'door', 'chan', 'play', 'undercov', 'agent', 'whose', 'cover', 'blown', 'look', 'child', 'girlfriend', 'littl', 'big', 'soldier', 'chan', 'star', 'alongsid', 'leehom', 'wang', 'soldier', 'war', 'state', 'period', 'china', 'lone', 'survivor', 'armi', 'must', 'bring', 'captur', 'enemi', 'soldier', 'leehom', 'wang', 'capit', 'provinc', 'star', 'jaden', 'smith', 'karat', 'kid', 'remak', 'origin', 'chan', 'first', 'dramat', 'american', 'film', 'play', 'mr', 'han', 'kung', 'fu', 'master', 'mainten', 'man', 'teach', 'jaden', 'smith', 'charact', 'kung', 'fu', 'defend', 'school', 'bulli', 'role', 'karat', 'kid', 'favorit', 'buttkick', 'award', 'nickelodeon', 'kid', 'choic', 'award', 'chan', 'next', 'movi', 'shaolin', 'play', 'support', 'role', 'cook', 'templ', 'instead', 'one', 'major', 'charact', 'th', 'movi', 'releas', 'septemb', 'chan', 'codirector', 'execut', 'produc', 'lead', 'star', 'movi', 'chan', 'direct', 'ten', 'film', 'career', 'first', 'directori', 'work', 'sinc', 'premier', 'north', 'america', 'octoberwhil', 'cann', 'film', 'festiv', 'chan', 'announc', 'retir', 'action', 'film', 'cite', 'get', 'old', 'genr', 'later', 'clarifi', 'would', 'complet', 'retir', 'action', 'film', 'would', 'perform', 'fewer', 'stunt', 'take', 'care', 'bodi', 'morein', 'chan', 'star', 'polic', 'stori', 'reboot', 'polic', 'stori', 'franchis', 'direct', 'ding', 'sheng', 'releas', 'china', 'end', 'chan', 'next', 'film', 'dragon', 'blade', 'releas', 'earli', 'costar', 'hollywood', 'actor', 'john', 'cusack', 'adrien', 'brodi', 'chan', 'award', 'titl', 'datuk', 'malaysia', 'help', 'malaysia', 'boost', 'tourism', 'especi', 'kuala', 'lumpur', 'previous', 'shot', 'film', 'earli', 'chan', 'new', 'film', 'titl', 'kung', 'fu', 'yoga', 'chineseindian', 'project', 'also', 'star', 'disha', 'patani', 'sonu', 'sood', 'amyra', 'dastur', 'releas', 'film', 'reunit', 'chan', 'director', 'stanley', 'tong', 'direct', 'number', 'chan', 'film', 'upon', 'releas', 'film', 'huge', 'success', 'box', 'offic', 'becam', 'th', 'highestgross', 'film', 'china', 'one', 'month', 'releas', 'team', 'johnni', 'knoxvil', 'star', 'product', 'skiptrac', 'chan', 'star', 'actioncomedi', 'railroad', 'tiger', 'actionthril', 'foreign', 'anglochines', 'product', 'also', 'star', 'scienc', 'fiction', 'film', 'bleed', 'steel', 'appear', 'project', 'xtraction', 'alongsid', 'john', 'cena', 'film', 'collect', 'gross', 'hk', 'billion', 'u', 'million', 'hong', 'kong', 'box', 'offic', 'u', 'million', 'south', 'korea', 'billion', 'u', 'million', 'japan', 'europ', 'film', 'collect', 'sold', 'million', 'ticket', 'film', 'gross', 'billion', 'rmb', 'u', 'billion', 'china', 'u', 'billion', 'u', 'billion', 'adjust', 'inflat', 'unit', 'state', 'canada', 'film', 'gross', 'u', 'billion', 'worldwid', 'box', 'offic', 'work', 'music', 'chan', 'vocal', 'lesson', 'whilst', 'peke', 'opera', 'school', 'childhood', 'began', 'produc', 'record', 'profession', 'gone', 'becom', 'success', 'singer', 'hong', 'kong', 'asia', 'releas', 'album', 'sinc', 'perform', 'vocal', 'cantones', 'mandarin', 'japanes', 'taiwanes', 'english', 'often', 'sing', 'theme', 'song', 'film', 'play', 'close', 'credit', 'chan', 'first', 'music', 'record', 'kung', 'fu', 'fight', 'man', 'theme', 'song', 'play', 'close', 'credit', 'young', 'master', 'least', 'record', 'releas', 'soundtrack', 'album', 'film', 'cantones', 'song', 'stori', 'hero', '英雄故事', 'theme', 'song', 'polic', 'stori', 'select', 'royal', 'hong', 'kong', 'polic', 'incorpor', 'recruit', 'advertis', 'chan', 'voic', 'charact', 'shang', 'chine', 'releas', 'walt', 'disney', 'anim', 'featur', 'mulan', 'also', 'perform', 'song', 'ill', 'make', 'man', 'film', 'soundtrack', 'u', 'releas', 'speak', 'voic', 'perform', 'bd', 'wong', 'sing', 'voic', 'done', 'donni', 'osmond', 'also', 'collabor', 'ani', 'difranco', 'unforgettablein', 'chan', 'record', 'releas', 'readi', 'offici', 'oneyear', 'countdown', 'song', 'summer', 'olymp', 'perform', 'ceremoni', 'mark', 'oneyear', 'countdown', 'summer', 'paralymp', 'chan', 'also', 'releas', 'one', 'two', 'offici', 'olymp', 'album', 'offici', 'album', 'beij', 'olymp', 'game', 'jacki', 'chan', 'version', 'featur', 'number', 'special', 'guest', 'appear', 'chan', 'perform', 'hard', 'say', 'goodby', 'along', 'andi', 'lau', 'liu', 'huan', 'wakin', 'emil', 'chau', 'summer', 'olymp', 'close', 'ceremoni', 'academia', 'chan', 'receiv', 'honorari', 'doctor', 'social', 'scienc', 'degre', 'hong', 'kong', 'baptist', 'univers', 'receiv', 'anoth', 'honorari', 'doctor', 'univers', 'cambodia', 'also', 'award', 'honorari', 'professorship', 'savannah', 'colleg', 'art', 'design', 'hong', 'kong', 'chan', 'current', 'faculti', 'member', 'school', 'hotel', 'tourism', 'manag', 'hong', 'kong', 'polytechn', 'univers', 'teach', 'subject', 'tourism', 'manag', 'also', 'serv', 'dean', 'jacki', 'chan', 'film', 'televis', 'academi', 'wuhan', 'institut', 'design', 'scienc', 'person', 'life', 'chan', 'marri', 'joan', 'lin', 'taiwanes', 'actress', 'son', 'singer', 'actor', 'jayce', 'chan', 'born', 'year', 'chan', 'extramarit', 'affair', 'elain', 'ng', 'yilei', 'daughter', 'etta', 'ng', 'chok', 'lam', 'born', 'januari', 'turn', 'scandal', 'within', 'medium', 'although', 'reportedli', 'gave', 'elain', 'hk', 'dollar', 'month', 'live', 'expens', 'hk', 'dollar', 'move', 'shanghai', 'transact', 'later', 'claim', 'nonexist', 'lawyer', 'despit', 'regret', 'result', 'affair', 'chan', 'said', 'commit', 'fault', 'mani', 'men', 'world', 'commit', 'incid', 'elain', 'state', 'would', 'take', 'care', 'daughter', 'without', 'chanchan', 'speak', 'cantones', 'mandarin', 'english', 'american', 'sign', 'languag', 'also', 'speak', 'german', 'korean', 'japanes', 'spanish', 'thai', 'chan', 'avid', 'footbal', 'fan', 'support', 'hong', 'kong', 'nation', 'footbal', 'team', 'england', 'nation', 'footbal', 'team', 'manchest', 'cityh', 'fan', 'italian', 'duo', 'bud', 'spencer', 'terenc', 'hill', 'inspir', 'movi', 'stunt', 'screen', 'persona', 'chan', 'perform', 'stunt', 'throughout', 'film', 'career', 'choreograph', 'jacki', 'chan', 'stunt', 'team', 'team', 'establish', 'chan', 'use', 'subsequ', 'film', 'make', 'choreograph', 'easier', 'given', 'understand', 'member', 'abil', 'chan', 'team', 'undertak', 'mani', 'stunt', 'perform', 'charact', 'film', 'shoot', 'scene', 'face', 'obscuredin', 'earli', 'jacki', 'chan', 'began', 'experi', 'elabor', 'stunt', 'action', 'sequenc', 'film', 'young', 'master', 'especi', 'dragon', 'lord', 'featur', 'pyramid', 'fight', 'scene', 'hold', 'record', 'take', 'requir', 'singl', 'scene', 'take', 'final', 'fight', 'scene', 'perform', 'variou', 'stunt', 'includ', 'one', 'backflip', 'loft', 'fall', 'lower', 'ground', 'project', 'saw', 'offici', 'format', 'jacki', 'chan', 'stunt', 'team', 'ad', 'elabor', 'danger', 'stunt', 'fight', 'typic', 'slapstick', 'humor', 'one', 'point', 'chan', 'fall', 'top', 'clock', 'tower', 'seri', 'fabric', 'canopi', 'critic', 'compar', 'comed', 'stunt', 'project', 'buster', 'keaton', 'also', 'known', 'perform', 'stunt', 'although', 'chan', 'watch', 'keaton', 'film', 'year', 'project', 'releas', 'accord', 'chan', 'project', 'evolut', 'action', 'stunt', 'work', 'earlier', 'kung', 'fu', 'comedi', 'film', 'sinc', 'young', 'masterpolic', 'stori', 'contain', 'mani', 'largescal', 'action', 'scene', 'includ', 'open', 'sequenc', 'featur', 'car', 'chase', 'shanti', 'town', 'chan', 'stop', 'doubledeck', 'bu', 'servic', 'revolv', 'climact', 'fight', 'scene', 'shop', 'mall', 'final', 'scene', 'earn', 'film', 'nicknam', 'glass', 'stori', 'crew', 'due', 'huge', 'number', 'pane', 'sugar', 'glass', 'broken', 'stunt', 'last', 'scene', 'chan', 'slide', 'pole', 'sever', 'stori', 'light', 'cover', 'pole', 'heat', 'consider', 'result', 'chan', 'suffer', 'seconddegre', 'burn', 'particularli', 'hand', 'well', 'back', 'injuri', 'disloc', 'pelvi', 'upon', 'land', 'chan', 'perform', 'similarli', 'elabor', 'stunt', 'numer', 'film', 'sever', 'polic', 'stori', 'sequel', 'project', 'part', 'ii', 'armor', 'god', 'seri', 'dragon', 'forev', 'drunken', 'master', 'ii', 'rumbl', 'bronx', 'rush', 'hour', 'seri', 'among', 'other', 'danger', 'natur', 'stunt', 'make', 'difficult', 'get', 'insur', 'especi', 'unit', 'state', 'stunt', 'work', 'contractu', 'limit', 'chan', 'hold', 'guin', 'world', 'record', 'stunt', 'live', 'actor', 'emphasis', 'insur', 'compani', 'underwrit', 'chan', 'product', 'perform', 'stuntschan', 'injur', 'frequent', 'attempt', 'stunt', 'mani', 'shown', 'outtak', 'blooper', 'close', 'credit', 'film', 'came', 'closest', 'death', 'film', 'armour', 'god', 'fell', 'tree', 'fractur', 'skull', 'year', 'disloc', 'pelvi', 'also', 'broken', 'numer', 'part', 'bodi', 'includ', 'finger', 'toe', 'nose', 'cheekbon', 'hip', 'sternum', 'neck', 'ankl', 'rib', 'promot', 'materi', 'rumbl', 'bronx', 'emphasis', 'perform', 'stunt', 'one', 'version', 'movi', 'poster', 'even', 'diagram', 'mani', 'injuri', 'chan', 'creat', 'screen', 'persona', 'respons', 'late', 'bruce', 'lee', 'numer', 'imit', 'appear', 'lee', 'death', 'lee', 'charact', 'typic', 'stern', 'moral', 'upright', 'hero', 'contrast', 'chan', 'play', 'wellmean', 'slightli', 'foolish', 'regular', 'men', 'often', 'merci', 'friend', 'girlfriend', 'famili', 'alway', 'triumph', 'end', 'despit', 'odd', 'addit', 'state', 'deliber', 'style', 'movement', 'opposit', 'lee', 'lee', 'held', 'arm', 'wide', 'chan', 'hold', 'tight', 'bodi', 'lee', 'loo', 'flow', 'chan', 'tight', 'choppi', 'despit', 'success', 'rush', 'hour', 'seri', 'chan', 'state', 'fan', 'sinc', 'neither', 'appreci', 'action', 'scene', 'movi', 'understand', 'american', 'humoramerican', 'filmmak', 'quentin', 'tarantino', 'classifi', 'chan', 'style', 'act', 'filmmak', 'physic', 'comedi', 'consid', 'one', 'greatest', 'genr', 'british', 'filmmak', 'edgar', 'wright', 'describ', 'jacki', 'chan', 'express', 'visual', 'perform', 'everyman', 'persona', 'note', 'contrast', 'action', 'hero', 'bruce', 'lee', 'sylvest', 'stallon', 'clint', 'eastwood', 'arnold', 'schwarzenegg', 'chan', 'present', 'loveabl', 'goofbal', 'underdog', 'overcom', 'odd', 'almost', 'superhuman', 'acrobat', 'stunt', 'fight', 'abilitiesin', 'age', 'chan', 'grew', 'tire', 'typecast', 'action', 'hero', 'prompt', 'act', 'emot', 'latest', 'film', 'new', 'polic', 'stori', 'portray', 'charact', 'suffer', 'alcohol', 'mourn', 'murder', 'colleagu', 'shed', 'imag', 'nice', 'guy', 'chan', 'play', 'antihero', 'first', 'time', 'robbhood', 'star', 'thong', 'burglar', 'gambl', 'problem', 'chan', 'met', 'actor', 'vijay', 'discus', 'stunt', 'film', 'put', 'life', 'risk', 'chan', 'play', 'lowlevel', 'gangster', 'shinjuku', 'incid', 'seriou', 'drama', 'set', 'tokyo', 'unsavori', 'charact', 'legaci', 'chan', 'receiv', 'global', 'recognit', 'film', 'act', 'stunt', 'work', 'accolad', 'includ', 'innov', 'award', 'american', 'choreographi', 'award', 'lifetim', 'achiev', 'award', 'tauru', 'world', 'stunt', 'award', 'star', 'hollywood', 'walk', 'fame', 'hong', 'kong', 'avenu', 'star', 'addit', 'chan', 'also', 'honour', 'place', 'hand', 'footprint', 'grauman', 'chine', 'theatr', 'despit', 'consider', 'box', 'offic', 'success', 'asia', 'chan', 'hollywood', 'film', 'criticis', 'regard', 'action', 'choreographi', 'review', 'rush', 'hour', 'tuxedo', 'shanghai', 'knight', 'note', 'tone', 'chan', 'fight', 'scene', 'cite', 'le', 'intens', 'compar', 'earlier', 'film', 'comed', 'valu', 'film', 'question', 'critic', 'state', 'childish', 'time', 'chan', 'award', 'order', 'british', 'empir', 'mbe', 'silver', 'bauhinia', 'star', 'sb', 'american', 'filmmak', 'quentin', 'tarantino', 'present', 'chan', 'lifetim', 'achiev', 'award', 'mtv', 'movi', 'award', 'tarantino', 'describ', 'chan', 'one', 'best', 'filmmak', 'world', 'ever', 'known', 'one', 'greatest', 'physic', 'comedian', 'sinc', 'sound', 'came', 'film', 'cultur', 'impact', 'film', 'industri', 'numer', 'film', 'around', 'world', 'taken', 'inspir', 'jacki', 'chan', 'fight', 'sequenc', 'action', 'choreographi', 'exampl', 'includ', 'matrix', 'kill', 'bill', 'choreograph', 'former', 'colleagu', 'yuen', 'woop', 'kung', 'fu', 'panda', 'seri', 'also', 'voic', 'monkey', 'raid', 'redempt', 'indonesian', 'cinema', 'kingsman', 'secret', 'servic', 'john', 'wick', 'seri', 'atom', 'blond', 'marvel', 'cinemat', 'univers', 'film', 'black', 'panther', 'shangchi', 'legend', 'ten', 'ring', 'dc', 'extend', 'univers', 'film', 'bird', 'prey', 'netflix', 'film', 'extract', 'british', 'filmmak', 'edgar', 'wright', 'cite', 'chan', 'influenc', 'said', 'matter', 'mani', 'peopl', 'tri', 'rip', 'jacki', 'chan', 'movi', 'there', 'someth', 'cant', 'rip', 'jacki', 'chan', 'tom', 'holland', 'also', 'cite', 'chan', 'influenc', 'sever', 'action', 'scene', 'unchart', 'note', 'chan', 'use', 'surround', 'fight', 'peopl', 'uniqu', 'way', 'popular', 'cultur', 'medium', 'chan', 'subject', 'ash', 'song', 'kung', 'fu', 'heavi', 'veget', 'jacki', 'chan', 'punk', 'rocker', 'leehom', 'wang', 'long', 'live', 'chine', 'peopl', 'well', 'jacki', 'chan', 'frank', 'chicken', 'televis', 'show', 'tim', 'eric', 'awesom', 'show', 'great', 'job', 'celebr', 'deathmatch', 'famili', 'guy', 'cite', 'inspir', 'manga', 'anim', 'dragon', 'ball', 'particularli', 'inspir', 'drunken', 'master', 'fight', 'scene', 'jacki', 'chan', 'movi', 'show', 'pay', 'homag', 'charact', 'alia', 'jacki', 'chun', 'toriyama', 'said', 'young', 'jacki', 'chan', 'mind', 'liveact', 'goku', 'state', 'nobodi', 'could', 'play', 'goku', 'chan', 'fan', 'seri', 'express', 'interest', 'adapt', 'dragon', 'ball', 'liveact', 'film', 'said', 'would', 'requir', 'lot', 'amaz', 'special', 'effect', 'enorm', 'budgetth', 'parkour', 'movement', 'also', 'inspir', 'chana', 'number', 'video', 'game', 'base', 'featur', 'jacki', 'chan', 'film', 'wheel', 'meal', 'call', 'spartan', 'x', 'japan', 'spawn', 'hit', 'beat', 'em', 'arcad', 'game', 'spartan', 'x', 'releas', 'kungfu', 'master', 'western', 'market', 'sequel', 'spartan', 'x', 'nintendo', 'famicom', 'consol', 'spartan', 'x', 'laid', 'foundat', 'beat', 'em', 'genr', 'inspir', 'game', 'includ', 'super', 'mario', 'bro', 'street', 'fighter', 'jacki', 'chan', 'action', 'kung', 'fu', 'releas', 'pcengin', 'nintendo', 'entertain', 'system', 'chan', 'featur', 'arcad', 'game', 'jacki', 'chan', 'kungfu', 'master', 'seri', 'japanes', 'video', 'game', 'releas', 'msx', 'comput', 'poni', 'base', 'sever', 'chan', 'film', 'project', 'project', 'polic', 'stori', 'protector', 'wheel', 'meal', 'game', 'base', 'jacki', 'chan', 'includ', 'jacki', 'chan', 'stuntmast', 'jacki', 'chan', 'adventur', 'jacki', 'chan', 'jmat', 'fit', 'chan', 'also', 'inspir', 'video', 'game', 'charact', 'lei', 'wulong', 'tekken', 'fightingtyp', 'pokémon', 'hitmonchanon', 'june', 'chan', 'respond', 'hoax', 'facebook', 'page', 'creat', 'day', 'earlier', 'alleg', 'die', 'said', 'sever', 'peopl', 'contact', 'congratul', 'recent', 'engag', 'soon', 'thereaft', 'contact', 'ask', 'still', 'aliv', 'post', 'facebook', 'messag', 'comment', 'die', 'would', 'probabl', 'tell', 'worldin', 'madeup', 'word', 'inspir', 'chan', 'descript', 'hair', 'interview', 'commerci', 'duang', 'becam', 'internet', 'viral', 'meme', 'particularli', 'china', 'chine', 'charact', 'word', 'composit', 'two', 'charact', 'chan', 'name', 'public', 'imag', 'jacki', 'chan', 'sponsorship', 'deal', 'mitsubishi', 'motor', 'result', 'appear', 'mitsubishi', 'car', 'number', 'film', 'furthermor', 'mitsubishi', 'launch', 'limit', 'seri', 'evolut', 'car', 'person', 'customis', 'chanchan', 'also', 'primari', 'catalyst', 'creation', 'review', 'aggreg', 'websit', 'rotten', 'tomato', 'whose', 'founder', 'senh', 'duong', 'fan', 'creat', 'websit', 'collect', 'review', 'chan', 'hong', 'kong', 'action', 'movi', 'releas', 'unit', 'state', 'anticip', 'rush', 'hour', 'chan', 'first', 'major', 'hollywood', 'crossov', 'code', 'websit', 'two', 'week', 'site', 'went', 'live', 'shortli', 'releas', 'rush', 'hourchan', 'say', 'alway', 'want', 'role', 'model', 'child', 'remain', 'popular', 'due', 'goodnatur', 'act', 'style', 'gener', 'refus', 'play', 'villain', 'restrain', 'use', 'swear', 'word', 'film', 'persuad', 'director', 'rush', 'hour', 'take', 'fuck', 'script', 'chan', 'greatest', 'regret', 'life', 'receiv', 'proper', 'educ', 'inspir', 'fund', 'educ', 'institut', 'around', 'world', 'fund', 'construct', 'jacki', 'chan', 'scienc', 'centr', 'australian', 'nation', 'univers', 'establish', 'school', 'poor', 'region', 'chinachan', 'spokesperson', 'govern', 'hong', 'kong', 'appear', 'public', 'servic', 'announc', 'clean', 'hong', 'kong', 'commerci', 'urg', 'peopl', 'hong', 'kong', 'consider', 'regard', 'litter', 'problem', 'widespread', 'decad', 'furthermor', 'advertis', 'promot', 'nation', 'gave', 'short', 'explan', 'march', 'volunt', 'nation', 'anthem', 'peopl', 'republ', 'china', 'hong', 'kong', 'disneyland', 'open', 'chan', 'particip', 'open', 'ceremoni', 'unit', 'state', 'chan', 'appear', 'alongsid', 'arnold', 'schwarzenegg', 'govern', 'advert', 'combat', 'copyright', 'infring', 'made', 'anoth', 'public', 'servic', 'announc', 'lo', 'angel', 'counti', 'sheriff', 'lee', 'baca', 'encourag', 'peopl', 'especi', 'asian', 'peopl', 'join', 'lo', 'angel', 'counti', 'sheriff', 'depart', 'cultur', 'honor', 'depict', 'construct', 'begun', 'jacki', 'chan', 'museum', 'shanghai', 'novemb', 'statu', 'chan', 'unveil', 'front', 'known', 'jc', 'film', 'galleri', 'open', 'spring', 'februari', 'chan', 'award', 'honour', 'knight', 'command', 'order', 'territori', 'crown', 'yang', 'dipertuan', 'agong', 'malaysia', 'tuanku', 'abdul', 'halim', 'conjunct', 'countri', 'feder', 'territori', 'day', 'carri', 'titl', 'datuk', 'malaysia', 'polit', 'view', 'controversi', 'handov', 'hong', 'kong', 'unit', 'kingdom', 'china', 'chan', 'polit', 'gradual', 'shift', 'prodemocrat', 'probeij', 'stanc', 'chan', 'perform', 'concert', 'democraci', 'china', 'support', 'democrat', 'movement', 'tiananmen', 'squar', 'protest', 'contrast', 'express', 'desir', 'join', 'chine', 'communist', 'parti', 'accord', 'chan', 'want', 'parti', 'member', 'moral', 'fail', 'make', 'unqualifi', 'chan', 'state', 'see', 'great', 'ccp', 'view', 'deliv', 'say', 'promis', 'le', 'year', 'decadesdur', 'news', 'confer', 'shanghai', 'march', 'chan', 'refer', 'recent', 'conclud', 'republ', 'china', 'presidenti', 'elect', 'taiwan', 'democrat', 'progress', 'parti', 'candid', 'chen', 'shuibian', 'annett', 'lu', 'reelect', 'presid', 'vicepresid', 'biggest', 'joke', 'world', 'taiwanes', 'legisl', 'senior', 'member', 'dpp', 'parri', 'chang', 'call', 'govern', 'taiwan', 'ban', 'around', 'world', 'day', 'polic', 'secur', 'personnel', 'separ', 'chan', 'score', 'protest', 'shout', 'jacki', 'chan', 'get', 'arriv', 'taipei', 'airport', 'june', 'refer', 'particip', 'torch', 'relay', 'summer', 'olymp', 'beij', 'chan', 'spoke', 'demonstr', 'disrupt', 'relay', 'sever', 'time', 'attempt', 'draw', 'attent', 'widerang', 'number', 'grievanc', 'chine', 'govern', 'warn', 'public', 'seeker', 'plan', 'stop', 'carri', 'olymp', 'torch', 'get', 'anywher', 'near', 'chan', 'also', 'argu', 'olymp', 'coverag', 'year', 'would', 'provid', 'anoth', 'way', 'u', 'tell', 'world', 'chine', 'cultur', 'chan', 'name', 'antidrug', 'ambassador', 'chine', 'govern', 'activ', 'take', 'part', 'antidrug', 'campaign', 'support', 'presid', 'hu', 'jintao', 'declar', 'illeg', 'drug', 'erad', 'user', 'punish', 'sever', 'son', 'jayce', 'arrest', 'cannabi', 'use', 'said', 'angri', 'shock', 'heartbroken', 'asham', 'son', 'also', 'remark', 'hope', 'young', 'peopl', 'learn', 'lesson', 'jayce', 'stay', 'far', 'harm', 'drug', 'say', 'jayce', 'accept', 'consequ', 'someth', 'wrongon', 'april', 'panel', 'discus', 'annual', 'boao', 'forum', 'asia', 'question', 'whether', 'broad', 'freedom', 'good', 'thing', 'note', 'strong', 'tension', 'hong', 'kong', 'taiwan', 'said', 'im', 'gradual', 'begin', 'feel', 'chine', 'need', 'control', 'control', 'well', 'want', 'chan', 'comment', 'prompt', 'angri', 'respons', 'sever', 'promin', 'figur', 'taiwan', 'hong', 'kong', 'spokesman', 'later', 'said', 'chan', 'refer', 'freedom', 'entertain', 'industri', 'rather', 'chine', 'societi', 'largein', 'decemb', 'chan', 'caus', 'outrag', 'criticis', 'hong', 'kong', 'citi', 'protest', 'suggest', 'demonstr', 'right', 'hong', 'kong', 'limit', 'month', 'interview', 'phoenix', 'tv', 'chan', 'state', 'unit', 'state', 'corrupt', 'countri', 'world', 'turn', 'anger', 'part', 'onlin', 'commun', 'articl', 'situat', 'chan', 'comment', 'context', 'career', 'life', 'unit', 'state', 'includ', 'embrac', 'american', 'film', 'market', 'seek', 'asylum', 'unit', 'state', 'hong', 'kong', 'triadsfrom', 'chan', 'serv', 'two', 'term', 'member', 'chine', 'peopl', 'polit', 'consult', 'confer', 'repres', 'literatur', 'art', 'sectorin', 'april', 'chan', 'name', 'panama', 'paper', 'chan', 'accus', 'engag', 'illeg', 'activ', 'per', 'se', 'list', 'six', 'differ', 'offshor', 'account', 'like', 'purpos', 'serv', 'tax', 'sheltersin', 'chan', 'criticis', 'hong', 'kong', 'antiextradit', 'bill', 'protest', 'say', 'fivestar', 'red', 'flag', 'respect', 'everywher', 'around', 'world', 'also', 'support', 'nation', 'peopl', 'congress', 'decis', 'hong', 'kong', 'nation', 'secur', 'legisl', 'entrepreneurship', 'philanthropi', 'addit', 'film', 'product', 'distribut', 'compani', 'jce', 'movi', 'limit', 'jacki', 'chan', 'own', 'coown', 'product', 'compani', 'jc', 'group', 'china', 'jacki', 'willi', 'product', 'willi', 'chan', 'jacki', 'jj', 'product', 'chan', 'also', 'put', 'name', 'jacki', 'chan', 'theater', 'intern', 'cinema', 'chain', 'china', 'corun', 'hong', 'kong', 'compani', 'sparkl', 'roll', 'group', 'ltd', 'firstjacki', 'chanyaolai', 'intern', 'cinemaopen', 'februari', 'claim', 'largest', 'cinema', 'complex', 'china', 'screen', 'seat', 'chan', 'express', 'hope', 'size', 'venu', 'would', 'afford', 'young', 'noncommerci', 'director', 'opportun', 'film', 'screen', 'fifteen', 'cinema', 'chain', 'plan', 'throughout', 'beij', 'shanghai', 'guangzhou', 'potenti', 'total', 'cinema', 'throughout', 'countri', 'proposedin', 'chan', 'launch', 'line', 'cloth', 'bear', 'chine', 'dragon', 'logo', 'english', 'word', 'jacki', 'initi', 'jc', 'chan', 'also', 'number', 'brand', 'busi', 'sushi', 'restaur', 'chain', 'jacki', 'kitchen', 'outlet', 'throughout', 'hong', 'kong', 'well', 'seven', 'south', 'korea', 'plan', 'open', 'anoth', 'la', 'vega', 'jacki', 'chan', 'cafe', 'outlet', 'beij', 'singapor', 'philippin', 'ventur', 'includ', 'jacki', 'chan', 'signatur', 'club', 'gym', 'partnership', 'california', 'fit', 'line', 'chocol', 'cooki', 'nutrit', 'oatcak', 'busi', 'percentag', 'profit', 'goe', 'variou', 'chariti', 'includ', 'jacki', 'chan', 'charit', 'foundat', 'chan', 'partner', 'asian', 'le', 'man', 'seri', 'champion', 'david', 'cheng', 'form', 'race', 'team', 'seri', 'fia', 'world', 'endur', 'championship', 'two', 'met', 'march', 'chan', 'told', 'cheng', 'interest', 'motorsport', 'rais', 'possibl', 'start', 'team', 'togeth', 'two', 'form', 'baxi', 'dc', 'race', 'alpin', 'first', 'mainland', 'chinabas', 'oper', 'wec', 'octob', 'lead', 'asian', 'le', 'man', 'seri', 'season', 'team', 'rebrand', 'jacki', 'chan', 'dc', 'race', 'race', 'liveri', 'promot', 'chan', 'movi', 'kung', 'fu', 'yoga', 'hour', 'le', 'man', 'team', 'becam', 'first', 'chine', 'team', 'win', 'class', 'lmpchan', 'unicef', 'goodwil', 'ambassador', 'champion', 'charit', 'work', 'caus', 'campaign', 'conserv', 'anim', 'abus', 'promot', 'disast', 'relief', 'effort', 'flood', 'mainland', 'china', 'indian', 'ocean', 'tsunamiin', 'june', 'cite', 'admir', 'effort', 'made', 'warren', 'buffett', 'bill', 'gate', 'help', 'need', 'chan', 'pledg', 'donat', 'half', 'asset', 'chariti', 'upon', 'death', 'march', 'chan', 'guest', 'honour', 'launch', 'australian', 'prime', 'minist', 'kevin', 'rudd', 'jacki', 'chan', 'scienc', 'centr', 'john', 'curtin', 'school', 'medic', 'research', 'australian', 'nation', 'univers', 'chan', 'also', 'support', 'ambassador', 'save', 'china', 'tiger', 'aim', 'save', 'endang', 'south', 'china', 'tiger', 'breed', 'releas', 'wild', 'follow', 'sichuan', 'earthquak', 'chan', 'donat', 'rmb', 'million', 'help', 'need', 'addit', 'plan', 'make', 'film', 'chine', 'earthquak', 'rais', 'money', 'survivor', 'respons', 'tōhoku', 'earthquak', 'tsunami', 'chan', 'fellow', 'hong', 'kongbas', 'celebr', 'includ', 'american', 'rapper', 'mc', 'jin', 'headlin', 'special', 'threehour', 'chariti', 'concert', 'titl', 'artist', 'love', 'beyond', 'border', 'april', 'help', 'japan', 'disast', 'recoveri', 'effort', 'hour', 'concert', 'rais', 'million', 'januari', 'chan', 'donat', 'help', 'flood', 'victim', 'thailandchan', 'found', 'jacki', 'chan', 'charit', 'foundat', 'offer', 'scholarship', 'activ', 'help', 'hong', 'kong', 'young', 'peopl', 'provid', 'aid', 'victim', 'natur', 'disast', 'ill', 'chan', 'creat', 'dragon', 'heart', 'foundat', 'help', 'child', 'elderli', 'remot', 'area', 'china', 'build', 'school', 'provid', 'book', 'fee', 'uniform', 'child', 'organis', 'expand', 'reach', 'europ', 'foundat', 'also', 'provid', 'elderli', 'donat', 'warm', 'cloth', 'wheelchair', 'item', 'endors', 'one', 'product', 'chan', 'endors', 'china', 'littl', 'tyrant', '小霸王', 'produc', 'subor', 'nintendo', 'entertain', 'system', 'hardwar', 'clone', 'market', 'learn', 'machin', 'circumv', 'china', 'thenban', 'video', 'game', 'consol', 'chan', 'serv', 'brand', 'ambassador', 'kasperski', 'lab', 'antiviru', 'softwar', 'asiather', 'urban', 'legend', 'call', 'jacki', 'chan', 'cur', 'abc', 'news', 'report', 'legend', 'origin', 'slew', 'product', 'sold', 'china', 'bear', 'name', 'smile', 'seal', 'approv', 'proven', 'defect', 'prone', 'explos', 'one', 'case', 'potenti', 'damag', 'consum', 'health', 'led', 'belief', 'product', 'compani', 'endors', 'jacki', 'chan', 'would', 'suffer', 'setback', 'failur', 'fit', 'chain', 'california', 'fit', 'blame', 'cur', 'cur', 'invok', 'evergrand', 'group', 'suffer', 'major', 'loss', 'follow', 'chan', 'promot', 'evergrand', 'spring', 'brand', 'bottl', 'water', 'howev', 'jacki', 'chan', 'also', 'endors', 'number', 'product', 'compani', 'issu', 'filmographi', 'discographi', 'award', 'nomin', 'honour', 'unit', 'kingdom', 'member', 'order', 'british', 'empir', 'mbe', 'feder', 'territori', 'malaysia', 'knight', 'command', 'order', 'territori', 'crown', 'pmw', 'datuk', 'enter', 'walk', 'fame', 'walk', 'fame', 'motion', 'pictur', 'star', 'hollywood', 'boulevard', 'walk', 'fame', 'award', 'name', 'jacki', 'chan', 'jacki', 'chan', 'action', 'movi', 'award', 'held', 'shanghai', 'intern', 'film', 'festiv', 'sinc', 'name', 'jacki', 'chan', 'see', 'also', 'hong', 'kong', 'action', 'cinema', 'refer', 'read', 'extern', 'link', 'offici', 'websit', 'jacki', 'chan', 'imdb', 'jacki', 'chan', 'hong', 'kong', 'movi', 'databas', 'jacki', 'chan', 'allmovi', 'jacki', 'chan', 'rotten', 'tomato']\n"
     ]
    }
   ],
   "source": [
    "# d)\n",
    "# Convert words to lowercase\n",
    "text = text.lower()\n",
    "\n",
    "# Remove numbers\n",
    "import re\n",
    "text = re.sub(r'\\d', '', text)\n",
    "\n",
    "# Punctuation Removal\n",
    "text = re.sub(r'[^\\w\\s]', '', text)\n",
    "\n",
    "# Tokenization\n",
    "\n",
    "text = text.split()\n",
    "\n",
    "# Stop word removal\n",
    "import nltk\n",
    "\n",
    "stopwords = nltk.corpus.stopwords.words('english')\n",
    "\n",
    "\n",
    "def remove_stopwords(text):\n",
    "    output= [i for i in text if i not in stopwords]\n",
    "    return output\n",
    "\n",
    "text =  remove_stopwords(text)\n",
    "\n",
    "# Stemming \n",
    "from nltk.stem.porter import PorterStemmer\n",
    "porter_stemmer = PorterStemmer()\n",
    "\n",
    "def stemming(text):\n",
    "    stem_text = [porter_stemmer.stem(word) for word in text]\n",
    "    return stem_text\n",
    "\n",
    "text = stemming (text)\n",
    "\n",
    "# Lemmatization\n",
    "from nltk.stem import WordNetLemmatizer\n",
    "wordnet_lemmatizer = WordNetLemmatizer()\n",
    "\n",
    "def lemmatizer(text):\n",
    "    lemm_text = [wordnet_lemmatizer.lemmatize(word) for word in text]\n",
    "    return lemm_text\n",
    "\n",
    "text = lemmatizer (text)\n",
    "\n",
    "print (text)"
   ]
  },
  {
   "cell_type": "code",
   "execution_count": 358,
   "metadata": {},
   "outputs": [
    {
     "name": "stdout",
     "output_type": "stream",
     "text": [
      "Most 10: [('chan', 229), ('film', 124), ('jacki', 57), ('hong', 47), ('kong', 45), ('stunt', 31), ('star', 31), ('also', 31), ('releas', 30), ('action', 25)]\n",
      "Rearrest 10: [('allmovi', 1), ('databas', 1), ('imdb', 1), ('link', 1), ('extern', 1), ('read', 1), ('boulevard', 1), ('pictur', 1), ('pmw', 1), ('nomin', 1), ('discographi', 1)]\n"
     ]
    }
   ],
   "source": [
    "# e) \n",
    "from nltk import FreqDist\n",
    "\n",
    "freq_text = FreqDist(text)\n",
    "\n",
    "print('Most 10:',freq_text.most_common(10))\n",
    "\n",
    "rearrest_10 = freq_text.most_common().copy()\n",
    "rearrest_10.reverse()\n",
    "print('Rearrest 10:',rearrest_10[0:11])\n"
   ]
  },
  {
   "cell_type": "code",
   "execution_count": 359,
   "metadata": {},
   "outputs": [
    {
     "data": {
      "text/plain": [
       "<Axes: >"
      ]
     },
     "execution_count": 359,
     "metadata": {},
     "output_type": "execute_result"
    },
    {
     "data": {
      "image/png": "[encoded data removed]",
      "text/plain": [
       "<Figure size 640x480 with 1 Axes>"
      ]
     },
     "metadata": {},
     "output_type": "display_data"
    }
   ],
   "source": [
    "# f)\n",
    "import matplotlib.pyplot as plt\n",
    "import pandas as pd\n",
    "\n",
    "df = pd.Series(dict(freq_text.most_common(30)))\n",
    "df.plot(kind='bar')\n"
   ]
  },
  {
   "cell_type": "code",
   "execution_count": 428,
   "metadata": {},
   "outputs": [
    {
     "data": {
      "text/html": [
       "<div>\n",
       "<style scoped>\n",
       "    .dataframe tbody tr th:only-of-type {\n",
       "        vertical-align: middle;\n",
       "    }\n",
       "\n",
       "    .dataframe tbody tr th {\n",
       "        vertical-align: top;\n",
       "    }\n",
       "\n",
       "    .dataframe thead th {\n",
       "        text-align: right;\n",
       "    }\n",
       "</style>\n",
       "<table border=\"1\" class=\"dataframe\">\n",
       "  <thead>\n",
       "    <tr style=\"text-align: right;\">\n",
       "      <th></th>\n",
       "      <th>words</th>\n",
       "      <th>emo</th>\n",
       "    </tr>\n",
       "  </thead>\n",
       "  <tbody>\n",
       "    <tr>\n",
       "      <th>0</th>\n",
       "      <td>i didnt feel humiliated</td>\n",
       "      <td>sadness</td>\n",
       "    </tr>\n",
       "    <tr>\n",
       "      <th>1</th>\n",
       "      <td>i can go from feeling so hopeless to so damned...</td>\n",
       "      <td>sadness</td>\n",
       "    </tr>\n",
       "    <tr>\n",
       "      <th>2</th>\n",
       "      <td>im grabbing a minute to post i feel greedy wrong</td>\n",
       "      <td>anger</td>\n",
       "    </tr>\n",
       "    <tr>\n",
       "      <th>3</th>\n",
       "      <td>i am ever feeling nostalgic about the fireplac...</td>\n",
       "      <td>love</td>\n",
       "    </tr>\n",
       "    <tr>\n",
       "      <th>4</th>\n",
       "      <td>i am feeling grouchy</td>\n",
       "      <td>anger</td>\n",
       "    </tr>\n",
       "    <tr>\n",
       "      <th>...</th>\n",
       "      <td>...</td>\n",
       "      <td>...</td>\n",
       "    </tr>\n",
       "    <tr>\n",
       "      <th>15995</th>\n",
       "      <td>i just had a very brief time in the beanbag an...</td>\n",
       "      <td>sadness</td>\n",
       "    </tr>\n",
       "    <tr>\n",
       "      <th>15996</th>\n",
       "      <td>i am now turning and i feel pathetic that i am...</td>\n",
       "      <td>sadness</td>\n",
       "    </tr>\n",
       "    <tr>\n",
       "      <th>15997</th>\n",
       "      <td>i feel strong and good overall</td>\n",
       "      <td>joy</td>\n",
       "    </tr>\n",
       "    <tr>\n",
       "      <th>15998</th>\n",
       "      <td>i feel like this was such a rude comment and i...</td>\n",
       "      <td>anger</td>\n",
       "    </tr>\n",
       "    <tr>\n",
       "      <th>15999</th>\n",
       "      <td>i know a lot but i feel so stupid because i ca...</td>\n",
       "      <td>sadness</td>\n",
       "    </tr>\n",
       "  </tbody>\n",
       "</table>\n",
       "<p>16000 rows × 2 columns</p>\n",
       "</div>"
      ],
      "text/plain": [
       "                                                   words      emo\n",
       "0                                i didnt feel humiliated  sadness\n",
       "1      i can go from feeling so hopeless to so damned...  sadness\n",
       "2       im grabbing a minute to post i feel greedy wrong    anger\n",
       "3      i am ever feeling nostalgic about the fireplac...     love\n",
       "4                                   i am feeling grouchy    anger\n",
       "...                                                  ...      ...\n",
       "15995  i just had a very brief time in the beanbag an...  sadness\n",
       "15996  i am now turning and i feel pathetic that i am...  sadness\n",
       "15997                     i feel strong and good overall      joy\n",
       "15998  i feel like this was such a rude comment and i...    anger\n",
       "15999  i know a lot but i feel so stupid because i ca...  sadness\n",
       "\n",
       "[16000 rows x 2 columns]"
      ]
     },
     "execution_count": 428,
     "metadata": {},
     "output_type": "execute_result"
    }
   ],
   "source": [
    "# Q2\n",
    "# a)\n",
    "train = pd.read_csv('D:/emotions/train.txt')\n",
    "train[['words', 'emo']] = train['words'].str.split(';', expand=True) # modify text to do easier dataframe.\n",
    "\n",
    "train_words = train['words'].values\n",
    "train_words = [str(train_words) for item in train_words]\n",
    "train_emo = train['emo'].values\n",
    "\n",
    "test = pd.read_csv('D:/emotions/test.txt')\n",
    "test = [str(test) for item in test]\n",
    "val = pd.read_csv('D:/emotions/val.txt')\n",
    "val = [str(val) for item in val]\n",
    "\n",
    "train"
   ]
  },
  {
   "cell_type": "code",
   "execution_count": 429,
   "metadata": {},
   "outputs": [
    {
     "name": "stdout",
     "output_type": "stream",
     "text": [
      "By CountVectorizer\n",
      "(16000, 27)\n",
      "{'didnt': 4, 'feel': 5, 'humiliated': 13, 'feeling': 6, 'hopeless': 12, 'damned': 3, 'hopeful': 11, 'just': 15, 'cares': 1, 'awake': 0, 'im': 14, 'grabbing': 9, 'minute': 19, 'post': 22, 'greedy': 10, 'wrong': 26, 'strong': 24, 'good': 8, 'overall': 20, 'like': 17, 'rude': 23, 'comment': 2, 'glad': 7, 'know': 16, 'lot': 18, 'stupid': 25, 'portray': 21}\n",
      "By TfidfVectorizer\n",
      "(16000, 27)\n",
      "{'didnt': 4, 'feel': 5, 'humiliated': 13, 'feeling': 6, 'hopeless': 12, 'damned': 3, 'hopeful': 11, 'just': 15, 'cares': 1, 'awake': 0, 'im': 14, 'grabbing': 9, 'minute': 19, 'post': 22, 'greedy': 10, 'wrong': 26, 'strong': 24, 'good': 8, 'overall': 20, 'like': 17, 'rude': 23, 'comment': 2, 'glad': 7, 'know': 16, 'lot': 18, 'stupid': 25, 'portray': 21}\n"
     ]
    }
   ],
   "source": [
    "# b)\n",
    "from sklearn.feature_extraction.text import CountVectorizer\n",
    "\n",
    "\n",
    "cv= CountVectorizer(stop_words='english')\n",
    "train_prc =cv.fit_transform(train_words)\n",
    "\n",
    "print ('By CountVectorizer')\n",
    "print (train_prc.shape)\n",
    "print (cv.vocabulary_)\n",
    "\n",
    "from sklearn.feature_extraction.text import TfidfVectorizer\n",
    "\n",
    "tv = TfidfVectorizer(stop_words='english')\n",
    "tv.fit_transform(train_words)\n",
    "vector = tv.transform(train_words)\n",
    "print ('By TfidfVectorizer')\n",
    "print(vector.toarray().shape)\n",
    "print(tv.vocabulary_)"
   ]
  },
  {
   "cell_type": "code",
   "execution_count": 368,
   "metadata": {},
   "outputs": [
    {
     "name": "stderr",
     "output_type": "stream",
     "text": [
      "c:\\ProgramData\\Miniconda3\\lib\\site-packages\\sklearn\\linear_model\\_logistic.py:458: ConvergenceWarning: lbfgs failed to converge (status=1):\n",
      "STOP: TOTAL NO. of ITERATIONS REACHED LIMIT.\n",
      "\n",
      "Increase the number of iterations (max_iter) or scale the data as shown in:\n",
      "    https://scikit-learn.org/stable/modules/preprocessing.html\n",
      "Please also refer to the documentation for alternative solver options:\n",
      "    https://scikit-learn.org/stable/modules/linear_model.html#logistic-regression\n",
      "  n_iter_i = _check_optimize_result(\n"
     ]
    },
    {
     "name": "stdout",
     "output_type": "stream",
     "text": [
      "From LogisticRegression prediction: ['sadness' 'sadness' 'anger' 'love' 'anger']\n",
      "Real one: ['sadness' 'sadness' 'anger' 'love' 'anger']\n",
      "From Neural Network  prediction: ['sadness' 'sadness' 'anger' 'love' 'anger']\n",
      "Real one: ['sadness' 'sadness' 'anger' 'love' 'anger']\n"
     ]
    },
    {
     "name": "stderr",
     "output_type": "stream",
     "text": [
      "c:\\ProgramData\\Miniconda3\\lib\\site-packages\\sklearn\\neural_network\\_multilayer_perceptron.py:686: ConvergenceWarning: Stochastic Optimizer: Maximum iterations (200) reached and the optimization hasn't converged yet.\n",
      "  warnings.warn(\n"
     ]
    }
   ],
   "source": [
    "# c)\n",
    "import pandas as pd\n",
    "from sklearn.feature_extraction.text import TfidfVectorizer\n",
    "from sklearn.linear_model import LogisticRegression\n",
    "from sklearn.neural_network import MLPClassifier\n",
    "\n",
    "train = pd.read_csv('D:/emotions/train.txt')\n",
    "train[['words', 'emo']] = train['words'].str.split(';', expand=True)\n",
    "X_train= train['words'].values\n",
    "Y_train = train['emo'].values\n",
    "\n",
    "vt = TfidfVectorizer(stop_words='english')\n",
    "X_train = vt.fit_transform(X_train)\n",
    "\n",
    "model_re = LogisticRegression()\n",
    "model_re.fit(X_train, Y_train)\n",
    "\n",
    "y_pred = model_re.predict(X_train[0:5])\n",
    "\n",
    "print('From LogisticRegression prediction:', y_pred)\n",
    "print ('Real one:', Y_train[0:5])\n",
    "\n",
    "model_nn = MLPClassifier(hidden_layer_sizes=(5, 2), activation='relu', solver='adam') # low hidden_layer_sizes to make it qucik but low accuracy.\n",
    "model_nn.fit(X_train, Y_train)\n",
    "\n",
    "y_pred = model_nn.predict(X_train[0:5])\n",
    "\n",
    "print('From Neural Network  prediction:', y_pred)\n",
    "print ('Real one:', Y_train[0:5])\n"
   ]
  },
  {
   "cell_type": "code",
   "execution_count": 374,
   "metadata": {},
   "outputs": [
    {
     "ename": "ValueError",
     "evalue": "X has 4517 features, but LogisticRegression is expecting 14894 features as input.",
     "output_type": "error",
     "traceback": [
      "\u001b[1;31m---------------------------------------------------------------------------\u001b[0m",
      "\u001b[1;31mValueError\u001b[0m                                Traceback (most recent call last)",
      "Cell \u001b[1;32mIn[374], line 13\u001b[0m\n\u001b[0;32m      8\u001b[0m Y_test \u001b[39m=\u001b[39m test[\u001b[39m'\u001b[39m\u001b[39memo\u001b[39m\u001b[39m'\u001b[39m]\u001b[39m.\u001b[39mvalues\n\u001b[0;32m     10\u001b[0m X_test \u001b[39m=\u001b[39m vt\u001b[39m.\u001b[39mfit_transform(X_test)\n\u001b[1;32m---> 13\u001b[0m \u001b[39mprint\u001b[39m (model_re\u001b[39m.\u001b[39;49mpredict(X_test))\n",
      "File \u001b[1;32mc:\\ProgramData\\Miniconda3\\lib\\site-packages\\sklearn\\linear_model\\_base.py:419\u001b[0m, in \u001b[0;36mLinearClassifierMixin.predict\u001b[1;34m(self, X)\u001b[0m\n\u001b[0;32m    405\u001b[0m \u001b[39m\"\"\"\u001b[39;00m\n\u001b[0;32m    406\u001b[0m \u001b[39mPredict class labels for samples in X.\u001b[39;00m\n\u001b[0;32m    407\u001b[0m \n\u001b[1;32m   (...)\u001b[0m\n\u001b[0;32m    416\u001b[0m \u001b[39m    Vector containing the class labels for each sample.\u001b[39;00m\n\u001b[0;32m    417\u001b[0m \u001b[39m\"\"\"\u001b[39;00m\n\u001b[0;32m    418\u001b[0m xp, _ \u001b[39m=\u001b[39m get_namespace(X)\n\u001b[1;32m--> 419\u001b[0m scores \u001b[39m=\u001b[39m \u001b[39mself\u001b[39;49m\u001b[39m.\u001b[39;49mdecision_function(X)\n\u001b[0;32m    420\u001b[0m \u001b[39mif\u001b[39;00m \u001b[39mlen\u001b[39m(scores\u001b[39m.\u001b[39mshape) \u001b[39m==\u001b[39m \u001b[39m1\u001b[39m:\n\u001b[0;32m    421\u001b[0m     indices \u001b[39m=\u001b[39m xp\u001b[39m.\u001b[39mastype(scores \u001b[39m>\u001b[39m \u001b[39m0\u001b[39m, \u001b[39mint\u001b[39m)\n",
      "File \u001b[1;32mc:\\ProgramData\\Miniconda3\\lib\\site-packages\\sklearn\\linear_model\\_base.py:400\u001b[0m, in \u001b[0;36mLinearClassifierMixin.decision_function\u001b[1;34m(self, X)\u001b[0m\n\u001b[0;32m    397\u001b[0m check_is_fitted(\u001b[39mself\u001b[39m)\n\u001b[0;32m    398\u001b[0m xp, _ \u001b[39m=\u001b[39m get_namespace(X)\n\u001b[1;32m--> 400\u001b[0m X \u001b[39m=\u001b[39m \u001b[39mself\u001b[39;49m\u001b[39m.\u001b[39;49m_validate_data(X, accept_sparse\u001b[39m=\u001b[39;49m\u001b[39m\"\u001b[39;49m\u001b[39mcsr\u001b[39;49m\u001b[39m\"\u001b[39;49m, reset\u001b[39m=\u001b[39;49m\u001b[39mFalse\u001b[39;49;00m)\n\u001b[0;32m    401\u001b[0m scores \u001b[39m=\u001b[39m safe_sparse_dot(X, \u001b[39mself\u001b[39m\u001b[39m.\u001b[39mcoef_\u001b[39m.\u001b[39mT, dense_output\u001b[39m=\u001b[39m\u001b[39mTrue\u001b[39;00m) \u001b[39m+\u001b[39m \u001b[39mself\u001b[39m\u001b[39m.\u001b[39mintercept_\n\u001b[0;32m    402\u001b[0m \u001b[39mreturn\u001b[39;00m xp\u001b[39m.\u001b[39mreshape(scores, \u001b[39m-\u001b[39m\u001b[39m1\u001b[39m) \u001b[39mif\u001b[39;00m scores\u001b[39m.\u001b[39mshape[\u001b[39m1\u001b[39m] \u001b[39m==\u001b[39m \u001b[39m1\u001b[39m \u001b[39melse\u001b[39;00m scores\n",
      "File \u001b[1;32mc:\\ProgramData\\Miniconda3\\lib\\site-packages\\sklearn\\base.py:588\u001b[0m, in \u001b[0;36mBaseEstimator._validate_data\u001b[1;34m(self, X, y, reset, validate_separately, **check_params)\u001b[0m\n\u001b[0;32m    585\u001b[0m     out \u001b[39m=\u001b[39m X, y\n\u001b[0;32m    587\u001b[0m \u001b[39mif\u001b[39;00m \u001b[39mnot\u001b[39;00m no_val_X \u001b[39mand\u001b[39;00m check_params\u001b[39m.\u001b[39mget(\u001b[39m\"\u001b[39m\u001b[39mensure_2d\u001b[39m\u001b[39m\"\u001b[39m, \u001b[39mTrue\u001b[39;00m):\n\u001b[1;32m--> 588\u001b[0m     \u001b[39mself\u001b[39;49m\u001b[39m.\u001b[39;49m_check_n_features(X, reset\u001b[39m=\u001b[39;49mreset)\n\u001b[0;32m    590\u001b[0m \u001b[39mreturn\u001b[39;00m out\n",
      "File \u001b[1;32mc:\\ProgramData\\Miniconda3\\lib\\site-packages\\sklearn\\base.py:389\u001b[0m, in \u001b[0;36mBaseEstimator._check_n_features\u001b[1;34m(self, X, reset)\u001b[0m\n\u001b[0;32m    386\u001b[0m     \u001b[39mreturn\u001b[39;00m\n\u001b[0;32m    388\u001b[0m \u001b[39mif\u001b[39;00m n_features \u001b[39m!=\u001b[39m \u001b[39mself\u001b[39m\u001b[39m.\u001b[39mn_features_in_:\n\u001b[1;32m--> 389\u001b[0m     \u001b[39mraise\u001b[39;00m \u001b[39mValueError\u001b[39;00m(\n\u001b[0;32m    390\u001b[0m         \u001b[39mf\u001b[39m\u001b[39m\"\u001b[39m\u001b[39mX has \u001b[39m\u001b[39m{\u001b[39;00mn_features\u001b[39m}\u001b[39;00m\u001b[39m features, but \u001b[39m\u001b[39m{\u001b[39;00m\u001b[39mself\u001b[39m\u001b[39m.\u001b[39m\u001b[39m__class__\u001b[39m\u001b[39m.\u001b[39m\u001b[39m__name__\u001b[39m\u001b[39m}\u001b[39;00m\u001b[39m \u001b[39m\u001b[39m\"\u001b[39m\n\u001b[0;32m    391\u001b[0m         \u001b[39mf\u001b[39m\u001b[39m\"\u001b[39m\u001b[39mis expecting \u001b[39m\u001b[39m{\u001b[39;00m\u001b[39mself\u001b[39m\u001b[39m.\u001b[39mn_features_in_\u001b[39m}\u001b[39;00m\u001b[39m features as input.\u001b[39m\u001b[39m\"\u001b[39m\n\u001b[0;32m    392\u001b[0m     )\n",
      "\u001b[1;31mValueError\u001b[0m: X has 4517 features, but LogisticRegression is expecting 14894 features as input."
     ]
    }
   ],
   "source": [
    "# d)\n",
    "from sklearn.metrics import classification_report\n",
    "from sklearn.metrics import confusion_matrix\n",
    "\n",
    "test = pd.read_csv('D:/emotions/test.txt')\n",
    "test[['words', 'emo']] = test['words'].str.split(';', expand=True)\n",
    "X_test= test['words'].values\n",
    "Y_test = test['emo'].values\n",
    "\n",
    "X_test = vt.fit_transform(X_test)\n",
    "\n",
    "\n",
    "print (model_re.predict(X_test))\n",
    "\n",
    "#print ('Accuracy of Neural Network: \\n', classification_report (model_nn.predict(X_test), Y_test))\n",
    "#print ('Accuracy of Logistic Regression: \\n', classification_report (model_re.predict(X_test), Y_test))\n",
    "#print ('Confuison matrix: \\n', confusion_matrix (model_re.predict(X_test), Y_test),'\\n')"
   ]
  },
  {
   "cell_type": "code",
   "execution_count": 381,
   "metadata": {},
   "outputs": [
    {
     "ename": "ValueError",
     "evalue": "X has 2 features, but LogisticRegression is expecting 14894 features as input.",
     "output_type": "error",
     "traceback": [
      "\u001b[1;31m---------------------------------------------------------------------------\u001b[0m",
      "\u001b[1;31mValueError\u001b[0m                                Traceback (most recent call last)",
      "Cell \u001b[1;32mIn[381], line 11\u001b[0m\n\u001b[0;32m      7\u001b[0m test_word2 \u001b[39m=\u001b[39m [\u001b[39m'\u001b[39m\u001b[39mtoday i am really happy\u001b[39m\u001b[39m'\u001b[39m,]\n\u001b[0;32m      8\u001b[0m test_word2 \u001b[39m=\u001b[39m vt\u001b[39m.\u001b[39mfit_transform(test_word2)\n\u001b[1;32m---> 11\u001b[0m y_pred1 \u001b[39m=\u001b[39m model_re\u001b[39m.\u001b[39;49mpredict(test_word1)\n\u001b[0;32m     12\u001b[0m y_pred2 \u001b[39m=\u001b[39m model_re\u001b[39m.\u001b[39mpredict(test_word2)\n\u001b[0;32m     14\u001b[0m \u001b[39mprint\u001b[39m(\u001b[39m'\u001b[39m\u001b[39mFrom LogisticRegression prediction:\u001b[39m\u001b[39m'\u001b[39m, y_pred)\n",
      "File \u001b[1;32mc:\\ProgramData\\Miniconda3\\lib\\site-packages\\sklearn\\linear_model\\_base.py:419\u001b[0m, in \u001b[0;36mLinearClassifierMixin.predict\u001b[1;34m(self, X)\u001b[0m\n\u001b[0;32m    405\u001b[0m \u001b[39m\"\"\"\u001b[39;00m\n\u001b[0;32m    406\u001b[0m \u001b[39mPredict class labels for samples in X.\u001b[39;00m\n\u001b[0;32m    407\u001b[0m \n\u001b[1;32m   (...)\u001b[0m\n\u001b[0;32m    416\u001b[0m \u001b[39m    Vector containing the class labels for each sample.\u001b[39;00m\n\u001b[0;32m    417\u001b[0m \u001b[39m\"\"\"\u001b[39;00m\n\u001b[0;32m    418\u001b[0m xp, _ \u001b[39m=\u001b[39m get_namespace(X)\n\u001b[1;32m--> 419\u001b[0m scores \u001b[39m=\u001b[39m \u001b[39mself\u001b[39;49m\u001b[39m.\u001b[39;49mdecision_function(X)\n\u001b[0;32m    420\u001b[0m \u001b[39mif\u001b[39;00m \u001b[39mlen\u001b[39m(scores\u001b[39m.\u001b[39mshape) \u001b[39m==\u001b[39m \u001b[39m1\u001b[39m:\n\u001b[0;32m    421\u001b[0m     indices \u001b[39m=\u001b[39m xp\u001b[39m.\u001b[39mastype(scores \u001b[39m>\u001b[39m \u001b[39m0\u001b[39m, \u001b[39mint\u001b[39m)\n",
      "File \u001b[1;32mc:\\ProgramData\\Miniconda3\\lib\\site-packages\\sklearn\\linear_model\\_base.py:400\u001b[0m, in \u001b[0;36mLinearClassifierMixin.decision_function\u001b[1;34m(self, X)\u001b[0m\n\u001b[0;32m    397\u001b[0m check_is_fitted(\u001b[39mself\u001b[39m)\n\u001b[0;32m    398\u001b[0m xp, _ \u001b[39m=\u001b[39m get_namespace(X)\n\u001b[1;32m--> 400\u001b[0m X \u001b[39m=\u001b[39m \u001b[39mself\u001b[39;49m\u001b[39m.\u001b[39;49m_validate_data(X, accept_sparse\u001b[39m=\u001b[39;49m\u001b[39m\"\u001b[39;49m\u001b[39mcsr\u001b[39;49m\u001b[39m\"\u001b[39;49m, reset\u001b[39m=\u001b[39;49m\u001b[39mFalse\u001b[39;49;00m)\n\u001b[0;32m    401\u001b[0m scores \u001b[39m=\u001b[39m safe_sparse_dot(X, \u001b[39mself\u001b[39m\u001b[39m.\u001b[39mcoef_\u001b[39m.\u001b[39mT, dense_output\u001b[39m=\u001b[39m\u001b[39mTrue\u001b[39;00m) \u001b[39m+\u001b[39m \u001b[39mself\u001b[39m\u001b[39m.\u001b[39mintercept_\n\u001b[0;32m    402\u001b[0m \u001b[39mreturn\u001b[39;00m xp\u001b[39m.\u001b[39mreshape(scores, \u001b[39m-\u001b[39m\u001b[39m1\u001b[39m) \u001b[39mif\u001b[39;00m scores\u001b[39m.\u001b[39mshape[\u001b[39m1\u001b[39m] \u001b[39m==\u001b[39m \u001b[39m1\u001b[39m \u001b[39melse\u001b[39;00m scores\n",
      "File \u001b[1;32mc:\\ProgramData\\Miniconda3\\lib\\site-packages\\sklearn\\base.py:588\u001b[0m, in \u001b[0;36mBaseEstimator._validate_data\u001b[1;34m(self, X, y, reset, validate_separately, **check_params)\u001b[0m\n\u001b[0;32m    585\u001b[0m     out \u001b[39m=\u001b[39m X, y\n\u001b[0;32m    587\u001b[0m \u001b[39mif\u001b[39;00m \u001b[39mnot\u001b[39;00m no_val_X \u001b[39mand\u001b[39;00m check_params\u001b[39m.\u001b[39mget(\u001b[39m\"\u001b[39m\u001b[39mensure_2d\u001b[39m\u001b[39m\"\u001b[39m, \u001b[39mTrue\u001b[39;00m):\n\u001b[1;32m--> 588\u001b[0m     \u001b[39mself\u001b[39;49m\u001b[39m.\u001b[39;49m_check_n_features(X, reset\u001b[39m=\u001b[39;49mreset)\n\u001b[0;32m    590\u001b[0m \u001b[39mreturn\u001b[39;00m out\n",
      "File \u001b[1;32mc:\\ProgramData\\Miniconda3\\lib\\site-packages\\sklearn\\base.py:389\u001b[0m, in \u001b[0;36mBaseEstimator._check_n_features\u001b[1;34m(self, X, reset)\u001b[0m\n\u001b[0;32m    386\u001b[0m     \u001b[39mreturn\u001b[39;00m\n\u001b[0;32m    388\u001b[0m \u001b[39mif\u001b[39;00m n_features \u001b[39m!=\u001b[39m \u001b[39mself\u001b[39m\u001b[39m.\u001b[39mn_features_in_:\n\u001b[1;32m--> 389\u001b[0m     \u001b[39mraise\u001b[39;00m \u001b[39mValueError\u001b[39;00m(\n\u001b[0;32m    390\u001b[0m         \u001b[39mf\u001b[39m\u001b[39m\"\u001b[39m\u001b[39mX has \u001b[39m\u001b[39m{\u001b[39;00mn_features\u001b[39m}\u001b[39;00m\u001b[39m features, but \u001b[39m\u001b[39m{\u001b[39;00m\u001b[39mself\u001b[39m\u001b[39m.\u001b[39m\u001b[39m__class__\u001b[39m\u001b[39m.\u001b[39m\u001b[39m__name__\u001b[39m\u001b[39m}\u001b[39;00m\u001b[39m \u001b[39m\u001b[39m\"\u001b[39m\n\u001b[0;32m    391\u001b[0m         \u001b[39mf\u001b[39m\u001b[39m\"\u001b[39m\u001b[39mis expecting \u001b[39m\u001b[39m{\u001b[39;00m\u001b[39mself\u001b[39m\u001b[39m.\u001b[39mn_features_in_\u001b[39m}\u001b[39;00m\u001b[39m features as input.\u001b[39m\u001b[39m\"\u001b[39m\n\u001b[0;32m    392\u001b[0m     )\n",
      "\u001b[1;31mValueError\u001b[0m: X has 2 features, but LogisticRegression is expecting 14894 features as input."
     ]
    }
   ],
   "source": [
    "# d)\n",
    "\n",
    "\n",
    "test_word1 = ['i feel so sad now',]\n",
    "test_word1 = vt.fit_transform(test_word1)\n",
    "\n",
    "test_word2 = ['today i am really happy',]\n",
    "test_word2 = vt.fit_transform(test_word2)\n",
    "\n",
    "\n",
    "y_pred1 = model_re.predict(test_word1)\n",
    "y_pred2 = model_re.predict(test_word2)\n",
    "\n",
    "print('From LogisticRegression prediction:', y_pred)\n",
    "\n",
    "print('From Neural Network  prediction:', y_pred)\n",
    "\n"
   ]
  },
  {
   "cell_type": "code",
   "execution_count": 375,
   "metadata": {},
   "outputs": [
    {
     "name": "stdout",
     "output_type": "stream",
     "text": [
      "  (0, 6309)\t0.7867657412767967\n",
      "  (0, 4838)\t0.16379156905484632\n",
      "  (0, 3550)\t0.5951235084078971\n"
     ]
    }
   ],
   "source": [
    "print (X_train[0])"
   ]
  },
  {
   "cell_type": "code",
   "execution_count": 385,
   "metadata": {},
   "outputs": [
    {
     "ename": "LookupError",
     "evalue": "\n**********************************************************************\n  Resource \u001b[93mpunkt\u001b[0m not found.\n  Please use the NLTK Downloader to obtain the resource:\n\n  \u001b[31m>>> import nltk\n  >>> nltk.download('punkt')\n  \u001b[0m\n  For more information see: https://www.nltk.org/data.html\n\n  Attempted to load \u001b[93mtokenizers/punkt/english.pickle\u001b[0m\n\n  Searched in:\n    - 'C:\\\\Users\\\\try/nltk_data'\n    - 'c:\\\\ProgramData\\\\Miniconda3\\\\nltk_data'\n    - 'c:\\\\ProgramData\\\\Miniconda3\\\\share\\\\nltk_data'\n    - 'c:\\\\ProgramData\\\\Miniconda3\\\\lib\\\\nltk_data'\n    - 'C:\\\\Users\\\\try\\\\AppData\\\\Roaming\\\\nltk_data'\n    - 'C:\\\\nltk_data'\n    - 'D:\\\\nltk_data'\n    - 'E:\\\\nltk_data'\n    - ''\n**********************************************************************\n",
     "output_type": "error",
     "traceback": [
      "\u001b[1;31m---------------------------------------------------------------------------\u001b[0m",
      "\u001b[1;31mLookupError\u001b[0m                               Traceback (most recent call last)",
      "Cell \u001b[1;32mIn[385], line 11\u001b[0m\n\u001b[0;32m      8\u001b[0m df \u001b[39m=\u001b[39m pd\u001b[39m.\u001b[39mDataFrame(data)\n\u001b[0;32m     10\u001b[0m \u001b[39m# Tokenize the text in the DataFrame\u001b[39;00m\n\u001b[1;32m---> 11\u001b[0m df[\u001b[39m'\u001b[39m\u001b[39mTokenized_Text\u001b[39m\u001b[39m'\u001b[39m] \u001b[39m=\u001b[39m df[\u001b[39m'\u001b[39;49m\u001b[39mText\u001b[39;49m\u001b[39m'\u001b[39;49m]\u001b[39m.\u001b[39;49mapply(word_tokenize)\n\u001b[0;32m     13\u001b[0m \u001b[39m# Display the DataFrame with tokenized text\u001b[39;00m\n\u001b[0;32m     14\u001b[0m \u001b[39mprint\u001b[39m(df)\n",
      "File \u001b[1;32mc:\\ProgramData\\Miniconda3\\lib\\site-packages\\pandas\\core\\series.py:4771\u001b[0m, in \u001b[0;36mSeries.apply\u001b[1;34m(self, func, convert_dtype, args, **kwargs)\u001b[0m\n\u001b[0;32m   4661\u001b[0m \u001b[39mdef\u001b[39;00m \u001b[39mapply\u001b[39m(\n\u001b[0;32m   4662\u001b[0m     \u001b[39mself\u001b[39m,\n\u001b[0;32m   4663\u001b[0m     func: AggFuncType,\n\u001b[1;32m   (...)\u001b[0m\n\u001b[0;32m   4666\u001b[0m     \u001b[39m*\u001b[39m\u001b[39m*\u001b[39mkwargs,\n\u001b[0;32m   4667\u001b[0m ) \u001b[39m-\u001b[39m\u001b[39m>\u001b[39m DataFrame \u001b[39m|\u001b[39m Series:\n\u001b[0;32m   4668\u001b[0m     \u001b[39m\"\"\"\u001b[39;00m\n\u001b[0;32m   4669\u001b[0m \u001b[39m    Invoke function on values of Series.\u001b[39;00m\n\u001b[0;32m   4670\u001b[0m \n\u001b[1;32m   (...)\u001b[0m\n\u001b[0;32m   4769\u001b[0m \u001b[39m    dtype: float64\u001b[39;00m\n\u001b[0;32m   4770\u001b[0m \u001b[39m    \"\"\"\u001b[39;00m\n\u001b[1;32m-> 4771\u001b[0m     \u001b[39mreturn\u001b[39;00m SeriesApply(\u001b[39mself\u001b[39;49m, func, convert_dtype, args, kwargs)\u001b[39m.\u001b[39;49mapply()\n",
      "File \u001b[1;32mc:\\ProgramData\\Miniconda3\\lib\\site-packages\\pandas\\core\\apply.py:1123\u001b[0m, in \u001b[0;36mSeriesApply.apply\u001b[1;34m(self)\u001b[0m\n\u001b[0;32m   1120\u001b[0m     \u001b[39mreturn\u001b[39;00m \u001b[39mself\u001b[39m\u001b[39m.\u001b[39mapply_str()\n\u001b[0;32m   1122\u001b[0m \u001b[39m# self.f is Callable\u001b[39;00m\n\u001b[1;32m-> 1123\u001b[0m \u001b[39mreturn\u001b[39;00m \u001b[39mself\u001b[39;49m\u001b[39m.\u001b[39;49mapply_standard()\n",
      "File \u001b[1;32mc:\\ProgramData\\Miniconda3\\lib\\site-packages\\pandas\\core\\apply.py:1174\u001b[0m, in \u001b[0;36mSeriesApply.apply_standard\u001b[1;34m(self)\u001b[0m\n\u001b[0;32m   1172\u001b[0m     \u001b[39melse\u001b[39;00m:\n\u001b[0;32m   1173\u001b[0m         values \u001b[39m=\u001b[39m obj\u001b[39m.\u001b[39mastype(\u001b[39mobject\u001b[39m)\u001b[39m.\u001b[39m_values\n\u001b[1;32m-> 1174\u001b[0m         mapped \u001b[39m=\u001b[39m lib\u001b[39m.\u001b[39;49mmap_infer(\n\u001b[0;32m   1175\u001b[0m             values,\n\u001b[0;32m   1176\u001b[0m             f,\n\u001b[0;32m   1177\u001b[0m             convert\u001b[39m=\u001b[39;49m\u001b[39mself\u001b[39;49m\u001b[39m.\u001b[39;49mconvert_dtype,\n\u001b[0;32m   1178\u001b[0m         )\n\u001b[0;32m   1180\u001b[0m \u001b[39mif\u001b[39;00m \u001b[39mlen\u001b[39m(mapped) \u001b[39mand\u001b[39;00m \u001b[39misinstance\u001b[39m(mapped[\u001b[39m0\u001b[39m], ABCSeries):\n\u001b[0;32m   1181\u001b[0m     \u001b[39m# GH#43986 Need to do list(mapped) in order to get treated as nested\u001b[39;00m\n\u001b[0;32m   1182\u001b[0m     \u001b[39m#  See also GH#25959 regarding EA support\u001b[39;00m\n\u001b[0;32m   1183\u001b[0m     \u001b[39mreturn\u001b[39;00m obj\u001b[39m.\u001b[39m_constructor_expanddim(\u001b[39mlist\u001b[39m(mapped), index\u001b[39m=\u001b[39mobj\u001b[39m.\u001b[39mindex)\n",
      "File \u001b[1;32mc:\\ProgramData\\Miniconda3\\lib\\site-packages\\pandas\\_libs\\lib.pyx:2924\u001b[0m, in \u001b[0;36mpandas._libs.lib.map_infer\u001b[1;34m()\u001b[0m\n",
      "File \u001b[1;32mc:\\ProgramData\\Miniconda3\\lib\\site-packages\\nltk\\tokenize\\__init__.py:129\u001b[0m, in \u001b[0;36mword_tokenize\u001b[1;34m(text, language, preserve_line)\u001b[0m\n\u001b[0;32m    114\u001b[0m \u001b[39mdef\u001b[39;00m \u001b[39mword_tokenize\u001b[39m(text, language\u001b[39m=\u001b[39m\u001b[39m\"\u001b[39m\u001b[39menglish\u001b[39m\u001b[39m\"\u001b[39m, preserve_line\u001b[39m=\u001b[39m\u001b[39mFalse\u001b[39;00m):\n\u001b[0;32m    115\u001b[0m     \u001b[39m\"\"\"\u001b[39;00m\n\u001b[0;32m    116\u001b[0m \u001b[39m    Return a tokenized copy of *text*,\u001b[39;00m\n\u001b[0;32m    117\u001b[0m \u001b[39m    using NLTK's recommended word tokenizer\u001b[39;00m\n\u001b[1;32m   (...)\u001b[0m\n\u001b[0;32m    127\u001b[0m \u001b[39m    :type preserve_line: bool\u001b[39;00m\n\u001b[0;32m    128\u001b[0m \u001b[39m    \"\"\"\u001b[39;00m\n\u001b[1;32m--> 129\u001b[0m     sentences \u001b[39m=\u001b[39m [text] \u001b[39mif\u001b[39;00m preserve_line \u001b[39melse\u001b[39;00m sent_tokenize(text, language)\n\u001b[0;32m    130\u001b[0m     \u001b[39mreturn\u001b[39;00m [\n\u001b[0;32m    131\u001b[0m         token \u001b[39mfor\u001b[39;00m sent \u001b[39min\u001b[39;00m sentences \u001b[39mfor\u001b[39;00m token \u001b[39min\u001b[39;00m _treebank_word_tokenizer\u001b[39m.\u001b[39mtokenize(sent)\n\u001b[0;32m    132\u001b[0m     ]\n",
      "File \u001b[1;32mc:\\ProgramData\\Miniconda3\\lib\\site-packages\\nltk\\tokenize\\__init__.py:106\u001b[0m, in \u001b[0;36msent_tokenize\u001b[1;34m(text, language)\u001b[0m\n\u001b[0;32m     96\u001b[0m \u001b[39mdef\u001b[39;00m \u001b[39msent_tokenize\u001b[39m(text, language\u001b[39m=\u001b[39m\u001b[39m\"\u001b[39m\u001b[39menglish\u001b[39m\u001b[39m\"\u001b[39m):\n\u001b[0;32m     97\u001b[0m     \u001b[39m\"\"\"\u001b[39;00m\n\u001b[0;32m     98\u001b[0m \u001b[39m    Return a sentence-tokenized copy of *text*,\u001b[39;00m\n\u001b[0;32m     99\u001b[0m \u001b[39m    using NLTK's recommended sentence tokenizer\u001b[39;00m\n\u001b[1;32m   (...)\u001b[0m\n\u001b[0;32m    104\u001b[0m \u001b[39m    :param language: the model name in the Punkt corpus\u001b[39;00m\n\u001b[0;32m    105\u001b[0m \u001b[39m    \"\"\"\u001b[39;00m\n\u001b[1;32m--> 106\u001b[0m     tokenizer \u001b[39m=\u001b[39m load(\u001b[39mf\u001b[39;49m\u001b[39m\"\u001b[39;49m\u001b[39mtokenizers/punkt/\u001b[39;49m\u001b[39m{\u001b[39;49;00mlanguage\u001b[39m}\u001b[39;49;00m\u001b[39m.pickle\u001b[39;49m\u001b[39m\"\u001b[39;49m)\n\u001b[0;32m    107\u001b[0m     \u001b[39mreturn\u001b[39;00m tokenizer\u001b[39m.\u001b[39mtokenize(text)\n",
      "File \u001b[1;32mc:\\ProgramData\\Miniconda3\\lib\\site-packages\\nltk\\data.py:750\u001b[0m, in \u001b[0;36mload\u001b[1;34m(resource_url, format, cache, verbose, logic_parser, fstruct_reader, encoding)\u001b[0m\n\u001b[0;32m    747\u001b[0m     \u001b[39mprint\u001b[39m(\u001b[39mf\u001b[39m\u001b[39m\"\u001b[39m\u001b[39m<<Loading \u001b[39m\u001b[39m{\u001b[39;00mresource_url\u001b[39m}\u001b[39;00m\u001b[39m>>\u001b[39m\u001b[39m\"\u001b[39m)\n\u001b[0;32m    749\u001b[0m \u001b[39m# Load the resource.\u001b[39;00m\n\u001b[1;32m--> 750\u001b[0m opened_resource \u001b[39m=\u001b[39m _open(resource_url)\n\u001b[0;32m    752\u001b[0m \u001b[39mif\u001b[39;00m \u001b[39mformat\u001b[39m \u001b[39m==\u001b[39m \u001b[39m\"\u001b[39m\u001b[39mraw\u001b[39m\u001b[39m\"\u001b[39m:\n\u001b[0;32m    753\u001b[0m     resource_val \u001b[39m=\u001b[39m opened_resource\u001b[39m.\u001b[39mread()\n",
      "File \u001b[1;32mc:\\ProgramData\\Miniconda3\\lib\\site-packages\\nltk\\data.py:876\u001b[0m, in \u001b[0;36m_open\u001b[1;34m(resource_url)\u001b[0m\n\u001b[0;32m    873\u001b[0m protocol, path_ \u001b[39m=\u001b[39m split_resource_url(resource_url)\n\u001b[0;32m    875\u001b[0m \u001b[39mif\u001b[39;00m protocol \u001b[39mis\u001b[39;00m \u001b[39mNone\u001b[39;00m \u001b[39mor\u001b[39;00m protocol\u001b[39m.\u001b[39mlower() \u001b[39m==\u001b[39m \u001b[39m\"\u001b[39m\u001b[39mnltk\u001b[39m\u001b[39m\"\u001b[39m:\n\u001b[1;32m--> 876\u001b[0m     \u001b[39mreturn\u001b[39;00m find(path_, path \u001b[39m+\u001b[39;49m [\u001b[39m\"\u001b[39;49m\u001b[39m\"\u001b[39;49m])\u001b[39m.\u001b[39mopen()\n\u001b[0;32m    877\u001b[0m \u001b[39melif\u001b[39;00m protocol\u001b[39m.\u001b[39mlower() \u001b[39m==\u001b[39m \u001b[39m\"\u001b[39m\u001b[39mfile\u001b[39m\u001b[39m\"\u001b[39m:\n\u001b[0;32m    878\u001b[0m     \u001b[39m# urllib might not use mode='rb', so handle this one ourselves:\u001b[39;00m\n\u001b[0;32m    879\u001b[0m     \u001b[39mreturn\u001b[39;00m find(path_, [\u001b[39m\"\u001b[39m\u001b[39m\"\u001b[39m])\u001b[39m.\u001b[39mopen()\n",
      "File \u001b[1;32mc:\\ProgramData\\Miniconda3\\lib\\site-packages\\nltk\\data.py:583\u001b[0m, in \u001b[0;36mfind\u001b[1;34m(resource_name, paths)\u001b[0m\n\u001b[0;32m    581\u001b[0m sep \u001b[39m=\u001b[39m \u001b[39m\"\u001b[39m\u001b[39m*\u001b[39m\u001b[39m\"\u001b[39m \u001b[39m*\u001b[39m \u001b[39m70\u001b[39m\n\u001b[0;32m    582\u001b[0m resource_not_found \u001b[39m=\u001b[39m \u001b[39mf\u001b[39m\u001b[39m\"\u001b[39m\u001b[39m\\n\u001b[39;00m\u001b[39m{\u001b[39;00msep\u001b[39m}\u001b[39;00m\u001b[39m\\n\u001b[39;00m\u001b[39m{\u001b[39;00mmsg\u001b[39m}\u001b[39;00m\u001b[39m\\n\u001b[39;00m\u001b[39m{\u001b[39;00msep\u001b[39m}\u001b[39;00m\u001b[39m\\n\u001b[39;00m\u001b[39m\"\u001b[39m\n\u001b[1;32m--> 583\u001b[0m \u001b[39mraise\u001b[39;00m \u001b[39mLookupError\u001b[39;00m(resource_not_found)\n",
      "\u001b[1;31mLookupError\u001b[0m: \n**********************************************************************\n  Resource \u001b[93mpunkt\u001b[0m not found.\n  Please use the NLTK Downloader to obtain the resource:\n\n  \u001b[31m>>> import nltk\n  >>> nltk.download('punkt')\n  \u001b[0m\n  For more information see: https://www.nltk.org/data.html\n\n  Attempted to load \u001b[93mtokenizers/punkt/english.pickle\u001b[0m\n\n  Searched in:\n    - 'C:\\\\Users\\\\try/nltk_data'\n    - 'c:\\\\ProgramData\\\\Miniconda3\\\\nltk_data'\n    - 'c:\\\\ProgramData\\\\Miniconda3\\\\share\\\\nltk_data'\n    - 'c:\\\\ProgramData\\\\Miniconda3\\\\lib\\\\nltk_data'\n    - 'C:\\\\Users\\\\try\\\\AppData\\\\Roaming\\\\nltk_data'\n    - 'C:\\\\nltk_data'\n    - 'D:\\\\nltk_data'\n    - 'E:\\\\nltk_data'\n    - ''\n**********************************************************************\n"
     ]
    }
   ],
   "source": [
    "import pandas as pd\n",
    "from nltk.tokenize import word_tokenize\n",
    "\n",
    "# Create a sample DataFrame\n",
    "data = {'Text': ['This is the first sentence.',\n",
    "                 'Here comes the second sentence.',\n",
    "                 'And finally, the third sentence.']}\n",
    "df = pd.DataFrame(data)\n",
    "\n",
    "# Tokenize the text in the DataFrame\n",
    "df['Tokenized_Text'] = df['Text'].apply(word_tokenize)\n",
    "\n",
    "# Display the DataFrame with tokenized text\n",
    "print(df)"
   ]
  }
 ],
 "metadata": {
  "kernelspec": {
   "display_name": "base",
   "language": "python",
   "name": "python3"
  },
  "language_info": {
   "codemirror_mode": {
    "name": "ipython",
    "version": 3
   },
   "file_extension": ".py",
   "mimetype": "text/x-python",
   "name": "python",
   "nbconvert_exporter": "python",
   "pygments_lexer": "ipython3",
   "version": "3.9.16"
  },
  "orig_nbformat": 4
 },
 "nbformat": 4,
 "nbformat_minor": 2
}
