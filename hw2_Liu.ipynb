{
 "cells": [
  {
   "cell_type": "code",
   "execution_count": 58,
   "metadata": {},
   "outputs": [],
   "source": [
    "# Question 1\n",
    "import pandas as pd\n",
    "\n",
    "score = [\n",
    "    [83, 92, 71],\n",
    "    [81, 73, 66],\n",
    "    [87, 85, 79],\n",
    "    [93, 87, 88],\n",
    "    [85, 96, 83],\n",
    "    [77, 82, 88],\n",
    "    [65, 67, 65],\n",
    "    [75, 82, 91],\n",
    "    [75, 68, 84],\n",
    "    [86, 86, 96]\n",
    "    ]\n"
   ]
  },
  {
   "cell_type": "code",
   "execution_count": 59,
   "metadata": {},
   "outputs": [
    {
     "name": "stdout",
     "output_type": "stream",
     "text": [
      "dictionary: \n",
      "    Mid_1  Mid_2  Final\n",
      "0     83     92     71\n",
      "1     81     73     66\n",
      "2     87     85     79\n",
      "3     93     87     88\n",
      "4     85     96     83\n",
      "5     77     82     88\n",
      "6     65     67     65\n",
      "7     75     82     91\n",
      "8     75     68     84\n",
      "9     86     86     96\n",
      "tuple: \n",
      "    Mid_1  Mid_2  Final\n",
      "0     83     92     71\n",
      "1     81     73     66\n",
      "2     87     85     79\n",
      "3     93     87     88\n",
      "4     85     96     83\n",
      "5     77     82     88\n",
      "6     65     67     65\n",
      "7     75     82     91\n",
      "8     75     68     84\n",
      "9     86     86     96\n",
      "list of dictionaries \n",
      "    Mid_1  Mid_2  Final\n",
      "0     83     92     71\n",
      "1     81     73     66\n",
      "2     87     85     79\n",
      "3     93     87     88\n",
      "4     85     96     83\n",
      "5     77     82     88\n",
      "6     65     67     65\n",
      "7     75     82     91\n",
      "8     75     68     84\n",
      "9     86     86     96\n"
     ]
    }
   ],
   "source": [
    "#1. Create DataFrames using  dictionary, tuple list and list of dictionaries. \n",
    "# dictionary\n",
    "\n",
    "score_dic = { \n",
    "    'Mid_1': [83, 81, 87, 93, 85, 77, 65, 75, 75, 86],\n",
    "    'Mid_2': [92, 73, 85, 87, 96, 82, 67, 82, 68, 86],\n",
    "    'Final': [71, 66, 79, 88, 83, 88, 65, 91, 84, 96] }\n",
    "\n",
    "df_dic = pd.DataFrame(score_dic)\n",
    "print ('dictionary:', \"\\n\",df_dic)\n",
    "\n",
    "# tuple\n",
    "\n",
    "score_tup = [\n",
    "    score[0],\n",
    "    score[1],\n",
    "    score[2],\n",
    "    score[3],\n",
    "    score[4],\n",
    "    score[5],\n",
    "    score[6],\n",
    "    score[7],\n",
    "    score[8],\n",
    "    score[9]\n",
    "]\n",
    "\n",
    "df_tup = pd.DataFrame (data=score_tup, columns= ['Mid_1', 'Mid_2', 'Final'] )\n",
    "print ('tuple:', \"\\n\",df_tup)\n",
    "\n",
    "\n",
    "# list of dictionaries\n",
    "\n",
    "score_lod = [\n",
    "    {'Mid_1':83, 'Mid_2': 92,'Final': 71 },\n",
    "    {'Mid_1':81, 'Mid_2': 73,'Final': 66 },\n",
    "    {'Mid_1':87, 'Mid_2': 85,'Final': 79 },\n",
    "    {'Mid_1':93, 'Mid_2': 87,'Final': 88 },\n",
    "    {'Mid_1':85, 'Mid_2': 96,'Final': 83 },\n",
    "    {'Mid_1':77, 'Mid_2': 82,'Final': 88 },\n",
    "    {'Mid_1':65, 'Mid_2': 67,'Final': 65 },\n",
    "    {'Mid_1':75, 'Mid_2': 82,'Final': 91 },\n",
    "    {'Mid_1':75, 'Mid_2': 68,'Final': 84 },\n",
    "    {'Mid_1':86, 'Mid_2': 86,'Final': 96 },\n",
    "    ]\n",
    "   \n",
    "\n",
    "df_lod = pd.DataFrame (data=score_lod, columns=['Mid_1', 'Mid_2', 'Final'])\n",
    "print ('list of dictionaries', \"\\n\", df_lod)"
   ]
  },
  {
   "cell_type": "code",
   "execution_count": 66,
   "metadata": {},
   "outputs": [],
   "source": [
    "# 2. Write the Dataframe in both csv and xlxs files. \n",
    "df_dic.to_csv (r'C:\\Users\\ozturklab\\Desktop\\Chao_Liu_Nanowire\\hw_2.csv',index=False)\n",
    "df_tup.to_excel (r'C:\\Users\\ozturklab\\Desktop\\Chao_Liu_Nanowire\\hw_2.xlsx',index=False)\n"
   ]
  },
  {
   "cell_type": "code",
   "execution_count": 67,
   "metadata": {},
   "outputs": [
    {
     "name": "stdout",
     "output_type": "stream",
     "text": [
      "   Mid_1  Mid_2  Final\n",
      "0     83     92     71\n",
      "1     81     73     66\n",
      "2     87     85     79\n",
      "3     93     87     88\n",
      "4     85     96     83\n",
      "5     77     82     88\n",
      "6     65     67     65\n",
      "7     75     82     91\n",
      "8     75     68     84\n",
      "9     86     86     96\n"
     ]
    }
   ],
   "source": [
    "# 3. Read the csv and xlxs files again (created in previous step) as a Dataframe object.  \n",
    "df_csv = pd.read_csv (r'C:\\Users\\ozturklab\\Desktop\\Chao_Liu_Nanowire\\hw_2.csv')\n",
    "df_excel = pd.read_excel (r'C:\\Users\\ozturklab\\Desktop\\Chao_Liu_Nanowire\\hw_2.xlsx')\n",
    "print (df_csv)"
   ]
  },
  {
   "cell_type": "code",
   "execution_count": 78,
   "metadata": {},
   "outputs": [
    {
     "name": "stdout",
     "output_type": "stream",
     "text": [
      "Mean column:\n",
      "Mid_1    80.7\n",
      "Mid_2    81.8\n",
      "Final    81.1\n",
      "dtype: float64\n",
      "Mean row:\n",
      "0    82.000000\n",
      "1    73.333333\n",
      "2    83.666667\n",
      "3    89.333333\n",
      "4    88.000000\n",
      "5    82.333333\n",
      "6    65.666667\n",
      "7    82.666667\n",
      "8    75.666667\n",
      "9    89.333333\n",
      "dtype: float64\n"
     ]
    }
   ],
   "source": [
    "# 4. Calculate the average of the grades in each column and each row.  \n",
    "print ('Mean column:')\n",
    "print (df_csv.mean (axis=0))\n",
    "\n",
    "print ('Mean row:')\n",
    "print (df_csv.mean (axis=1))"
   ]
  },
  {
   "cell_type": "code",
   "execution_count": 80,
   "metadata": {},
   "outputs": [
    {
     "name": "stdout",
     "output_type": "stream",
     "text": [
      "Max:\n",
      "Mid_1    93\n",
      "Mid_2    96\n",
      "Final    96\n",
      "dtype: int64\n",
      "Min:\n",
      "Mid_1    65\n",
      "Mid_2    67\n",
      "Final    65\n",
      "dtype: int64\n"
     ]
    }
   ],
   "source": [
    "# 5.  Calculate the maximum and minimum scores for Midterm1, Midterm 2 and Final. \n",
    "print ('Max:')\n",
    "print (df_csv.max())\n",
    "\n",
    "print ('Min:')\n",
    "print (df_csv.min())"
   ]
  },
  {
   "cell_type": "code",
   "execution_count": null,
   "metadata": {},
   "outputs": [],
   "source": [
    "# 6. Calculate the average of the grade of the first two and last two students.  \n",
    "\n",
    " "
   ]
  }
 ],
 "metadata": {
  "kernelspec": {
   "display_name": "base",
   "language": "python",
   "name": "python3"
  },
  "language_info": {
   "codemirror_mode": {
    "name": "ipython",
    "version": 3
   },
   "file_extension": ".py",
   "mimetype": "text/x-python",
   "name": "python",
   "nbconvert_exporter": "python",
   "pygments_lexer": "ipython3",
   "version": "3.9.13"
  },
  "orig_nbformat": 4,
  "vscode": {
   "interpreter": {
    "hash": "a15feae295b001fc15270283fa36248672e027f078e6cdc93717cb56e23b139d"
   }
  }
 },
 "nbformat": 4,
 "nbformat_minor": 2
}
