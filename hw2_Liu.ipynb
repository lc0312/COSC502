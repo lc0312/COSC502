{
 "cells": [
  {
   "cell_type": "code",
   "execution_count": 161,
   "metadata": {},
   "outputs": [],
   "source": [
    "# Question 1\n",
    "import pandas as pd\n",
    "\n",
    "score = [\n",
    "    [83, 92, 71],\n",
    "    [81, 73, 66],\n",
    "    [87, 85, 79],\n",
    "    [93, 87, 88],\n",
    "    [85, 96, 83],\n",
    "    [77, 82, 88],\n",
    "    [65, 67, 65],\n",
    "    [75, 82, 91],\n",
    "    [75, 68, 84],\n",
    "    [86, 86, 96]\n",
    "    ]\n"
   ]
  },
  {
   "cell_type": "code",
   "execution_count": 162,
   "metadata": {},
   "outputs": [
    {
     "name": "stdout",
     "output_type": "stream",
     "text": [
      "dictionary: \n",
      "    Mid_1  Mid_2  Final\n",
      "0     83     92     71\n",
      "1     81     73     66\n",
      "2     87     85     79\n",
      "3     93     87     88\n",
      "4     85     96     83\n",
      "5     77     82     88\n",
      "6     65     67     65\n",
      "7     75     82     91\n",
      "8     75     68     84\n",
      "9     86     86     96\n",
      "tuple: \n",
      "    Mid_1  Mid_2  Final\n",
      "0     83     92     71\n",
      "1     81     73     66\n",
      "2     87     85     79\n",
      "3     93     87     88\n",
      "4     85     96     83\n",
      "5     77     82     88\n",
      "6     65     67     65\n",
      "7     75     82     91\n",
      "8     75     68     84\n",
      "9     86     86     96\n",
      "list of dictionaries \n",
      "    Mid_1  Mid_2  Final\n",
      "0     83     92     71\n",
      "1     81     73     66\n",
      "2     87     85     79\n",
      "3     93     87     88\n",
      "4     85     96     83\n",
      "5     77     82     88\n",
      "6     65     67     65\n",
      "7     75     82     91\n",
      "8     75     68     84\n",
      "9     86     86     96\n"
     ]
    }
   ],
   "source": [
    "#1. Create DataFrames using  dictionary, tuple list and list of dictionaries. \n",
    "# dictionary\n",
    "\n",
    "score_dic = { \n",
    "    'Mid_1': [83, 81, 87, 93, 85, 77, 65, 75, 75, 86],\n",
    "    'Mid_2': [92, 73, 85, 87, 96, 82, 67, 82, 68, 86],\n",
    "    'Final': [71, 66, 79, 88, 83, 88, 65, 91, 84, 96] }\n",
    "\n",
    "df_dic = pd.DataFrame(score_dic)\n",
    "print ('dictionary:', \"\\n\",df_dic)\n",
    "\n",
    "# tuple\n",
    "\n",
    "score_tup = [\n",
    "    score[0],\n",
    "    score[1],\n",
    "    score[2],\n",
    "    score[3],\n",
    "    score[4],\n",
    "    score[5],\n",
    "    score[6],\n",
    "    score[7],\n",
    "    score[8],\n",
    "    score[9]\n",
    "]\n",
    "\n",
    "df_tup = pd.DataFrame (data=score_tup, columns= ['Mid_1', 'Mid_2', 'Final'] )\n",
    "print ('tuple:', \"\\n\",df_tup)\n",
    "\n",
    "\n",
    "# list of dictionaries\n",
    "\n",
    "score_lod = [\n",
    "    {'Mid_1':83, 'Mid_2': 92,'Final': 71 },\n",
    "    {'Mid_1':81, 'Mid_2': 73,'Final': 66 },\n",
    "    {'Mid_1':87, 'Mid_2': 85,'Final': 79 },\n",
    "    {'Mid_1':93, 'Mid_2': 87,'Final': 88 },\n",
    "    {'Mid_1':85, 'Mid_2': 96,'Final': 83 },\n",
    "    {'Mid_1':77, 'Mid_2': 82,'Final': 88 },\n",
    "    {'Mid_1':65, 'Mid_2': 67,'Final': 65 },\n",
    "    {'Mid_1':75, 'Mid_2': 82,'Final': 91 },\n",
    "    {'Mid_1':75, 'Mid_2': 68,'Final': 84 },\n",
    "    {'Mid_1':86, 'Mid_2': 86,'Final': 96 },\n",
    "    ]\n",
    "   \n",
    "\n",
    "df_lod = pd.DataFrame (data=score_lod, columns=['Mid_1', 'Mid_2', 'Final'])\n",
    "print ('list of dictionaries', \"\\n\", df_lod)"
   ]
  },
  {
   "cell_type": "code",
   "execution_count": 163,
   "metadata": {},
   "outputs": [],
   "source": [
    "# 2. Write the Dataframe in both csv and xlxs files. \n",
    "df_lod.to_csv (r'D:\\Morgan\\COSC502\\hw_2.csv',index=False)\n",
    "df_tup.to_excel (r'D:\\Morgan\\COSC502\\hw_2.xlsx',index=False)\n"
   ]
  },
  {
   "cell_type": "code",
   "execution_count": 164,
   "metadata": {},
   "outputs": [
    {
     "name": "stdout",
     "output_type": "stream",
     "text": [
      "   Mid_1  Mid_2  Final\n",
      "0     83     92     71\n",
      "1     81     73     66\n",
      "2     87     85     79\n",
      "3     93     87     88\n",
      "4     85     96     83\n",
      "5     77     82     88\n",
      "6     65     67     65\n",
      "7     75     82     91\n",
      "8     75     68     84\n",
      "9     86     86     96\n"
     ]
    }
   ],
   "source": [
    "# 3. Read the csv and xlxs files again (created in previous step) as a Dataframe object.  \n",
    "df_csv = pd.read_csv (r'D:\\Morgan\\COSC502\\hw_2.csv')\n",
    "df_excel = pd.read_excel (r'D:\\Morgan\\COSC502\\hw_2.xlsx')\n",
    "print (df_csv)"
   ]
  },
  {
   "cell_type": "code",
   "execution_count": 165,
   "metadata": {},
   "outputs": [
    {
     "name": "stdout",
     "output_type": "stream",
     "text": [
      "Mean column:\n",
      "Mid_1    80.7\n",
      "Mid_2    81.8\n",
      "Final    81.1\n",
      "dtype: float64\n",
      "Mean row:\n",
      "0    82.000000\n",
      "1    73.333333\n",
      "2    83.666667\n",
      "3    89.333333\n",
      "4    88.000000\n",
      "5    82.333333\n",
      "6    65.666667\n",
      "7    82.666667\n",
      "8    75.666667\n",
      "9    89.333333\n",
      "dtype: float64\n"
     ]
    }
   ],
   "source": [
    "# 4. Calculate the average of the grades in each column and each row.  \n",
    "print ('Mean column:')\n",
    "print (df_csv.mean (axis=0))\n",
    "\n",
    "print ('Mean row:')\n",
    "print (df_csv.mean (axis=1))"
   ]
  },
  {
   "cell_type": "code",
   "execution_count": 166,
   "metadata": {},
   "outputs": [
    {
     "name": "stdout",
     "output_type": "stream",
     "text": [
      "Max:\n",
      "Mid_1    93\n",
      "Mid_2    96\n",
      "Final    96\n",
      "dtype: int64\n",
      "Min:\n",
      "Mid_1    65\n",
      "Mid_2    67\n",
      "Final    65\n",
      "dtype: int64\n"
     ]
    }
   ],
   "source": [
    "# 5.  Calculate the maximum and minimum scores for Midterm1, Midterm 2 and Final. \n",
    "print ('Max:')\n",
    "print (df_csv.max())\n",
    "\n",
    "print ('Min:')\n",
    "print (df_csv.min())"
   ]
  },
  {
   "cell_type": "code",
   "execution_count": 167,
   "metadata": {},
   "outputs": [
    {
     "name": "stdout",
     "output_type": "stream",
     "text": [
      "First 2\n",
      "0    82.000000\n",
      "1    73.333333\n",
      "dtype: float64\n",
      "Last 2\n",
      "8    75.666667\n",
      "9    89.333333\n",
      "dtype: float64\n"
     ]
    }
   ],
   "source": [
    "# 6. Calculate the average of the grade of the first two and last two students.  \n",
    "print ('First 2')\n",
    "print (df_csv.head(2).mean(axis=1))\n",
    "\n",
    "print ('Last 2')\n",
    "print (df_csv.tail(2).mean(axis=1))"
   ]
  },
  {
   "cell_type": "code",
   "execution_count": 168,
   "metadata": {},
   "outputs": [
    {
     "name": "stdout",
     "output_type": "stream",
     "text": [
      "0    87.5\n",
      "1    77.0\n",
      "2    86.0\n",
      "3    90.0\n",
      "4    90.5\n",
      "5    79.5\n",
      "6    66.0\n",
      "7    78.5\n",
      "8    71.5\n",
      "9    86.0\n",
      "dtype: float64\n"
     ]
    }
   ],
   "source": [
    "# 7.  Calculate the average of Midterm 1 and Midterm 2 grades of the first 10 students.  \n",
    "\n",
    "print (df_csv.iloc[0:10,0:2].mean(axis=1))"
   ]
  },
  {
   "cell_type": "code",
   "execution_count": 169,
   "metadata": {},
   "outputs": [
    {
     "name": "stdout",
     "output_type": "stream",
     "text": [
      "Mid_1\n",
      "75.33333333333333\n",
      "Final\n",
      "74.66666666666667\n"
     ]
    },
    {
     "name": "stderr",
     "output_type": "stream",
     "text": [
      "C:\\Users\\try\\AppData\\Local\\Temp\\ipykernel_8012\\1830199215.py:4: SettingWithCopyWarning: \n",
      "A value is trying to be set on a copy of a slice from a DataFrame\n",
      "\n",
      "See the caveats in the documentation: https://pandas.pydata.org/pandas-docs/stable/user_guide/indexing.html#returning-a-view-versus-a-copy\n",
      "  df_8.loc [df_8['Mid_1']<70,'Mid_1'] =70\n",
      "C:\\Users\\try\\AppData\\Local\\Temp\\ipykernel_8012\\1830199215.py:5: SettingWithCopyWarning: \n",
      "A value is trying to be set on a copy of a slice from a DataFrame\n",
      "\n",
      "See the caveats in the documentation: https://pandas.pydata.org/pandas-docs/stable/user_guide/indexing.html#returning-a-view-versus-a-copy\n",
      "  df_8.loc [df_8['Mid_2']<70,'Mid_2'] =70\n",
      "C:\\Users\\try\\AppData\\Local\\Temp\\ipykernel_8012\\1830199215.py:6: SettingWithCopyWarning: \n",
      "A value is trying to be set on a copy of a slice from a DataFrame\n",
      "\n",
      "See the caveats in the documentation: https://pandas.pydata.org/pandas-docs/stable/user_guide/indexing.html#returning-a-view-versus-a-copy\n",
      "  df_8.loc [df_8['Final']<70,'Final'] =70\n"
     ]
    }
   ],
   "source": [
    "# 8. Change any score <70 to 70 and calculate the average of the grades in Midterm1 and Final only for every alternate student. \n",
    "df_8 = df_csv.loc [(df_csv['Mid_1']<70) | (df_csv['Mid_2']<70) | (df_csv['Final']<70)] \n",
    "\n",
    "df_8.loc [df_8['Mid_1']<70,'Mid_1'] =70\n",
    "df_8.loc [df_8['Mid_2']<70,'Mid_2'] =70\n",
    "df_8.loc [df_8['Final']<70,'Final'] =70\n",
    "\n",
    "print (\"Mid_1\")\n",
    "print (df_8.mean(axis=0)[0])\n",
    "\n",
    "print (\"Final\")\n",
    "print (df_8.mean(axis=0)[2])"
   ]
  },
  {
   "cell_type": "code",
   "execution_count": 184,
   "metadata": {},
   "outputs": [
    {
     "name": "stdout",
     "output_type": "stream",
     "text": [
      "   Mid_1  Mid_2  Final\n",
      "0     83     92     71\n",
      "1     81     73     66\n",
      "2     87     85     79\n",
      "3     93     87     88\n",
      "4     85     96     83\n",
      "5     77     82     88\n",
      "6     65     67     65\n",
      "7     75     82     91\n",
      "8     75     68     84\n",
      "9     86     86     96\n",
      "For exam\n",
      "           Mid_1      Mid_2      Final\n",
      "count  10.000000  10.000000  10.000000\n",
      "mean   80.700000  81.800000  81.100000\n",
      "std     7.944949   9.704524  10.650509\n",
      "min    65.000000  67.000000  65.000000\n",
      "25%    75.500000  75.250000  73.000000\n",
      "50%    82.000000  83.500000  83.500000\n",
      "75%    85.750000  86.750000  88.000000\n",
      "max    93.000000  96.000000  96.000000\n",
      "For student\n",
      "   count       mean        std   min   25%   50%   75%   max\n",
      "0    3.0  82.000000  10.535654  71.0  77.0  83.0  87.5  92.0\n",
      "1    3.0  73.333333   7.505553  66.0  69.5  73.0  77.0  81.0\n",
      "2    3.0  83.666667   4.163332  79.0  82.0  85.0  86.0  87.0\n",
      "3    3.0  89.333333   3.214550  87.0  87.5  88.0  90.5  93.0\n",
      "4    3.0  88.000000   7.000000  83.0  84.0  85.0  90.5  96.0\n",
      "5    3.0  82.333333   5.507571  77.0  79.5  82.0  85.0  88.0\n",
      "6    3.0  65.666667   1.154701  65.0  65.0  65.0  66.0  67.0\n",
      "7    3.0  82.666667   8.020806  75.0  78.5  82.0  86.5  91.0\n",
      "8    3.0  75.666667   8.020806  68.0  71.5  75.0  79.5  84.0\n",
      "9    3.0  89.333333   5.773503  86.0  86.0  86.0  91.0  96.0\n"
     ]
    }
   ],
   "source": [
    "# 9. Print the table (DataFrame) and show the statistics both exam and student wise. \n",
    "print (df_csv)\n",
    "\n",
    "print ('For exam')\n",
    "print (df_csv.describe())\n",
    "\n",
    "print ('For student')\n",
    "print (df_csv.apply(pd.DataFrame.describe,axis=1))"
   ]
  },
  {
   "cell_type": "code",
   "execution_count": 200,
   "metadata": {},
   "outputs": [
    {
     "name": "stdout",
     "output_type": "stream",
     "text": [
      "Mid_1    3\n",
      "Mid_2    4\n",
      "Final    9\n",
      "dtype: int64\n",
      "Final\n",
      "Mid_1    86\n",
      "Mid_2    86\n",
      "Final    96\n",
      "Name: 9, dtype: int64\n",
      "Total\n",
      "Mid_1    93\n",
      "Mid_2    87\n",
      "Final    88\n",
      "Name: 3, dtype: int64\n"
     ]
    }
   ],
   "source": [
    "# 10. Print the student who has the highest score in the Final and student who has the highest total score (Mid 1+ Mid2 + Final). \n",
    "print (df_csv.idxmax())\n",
    "\n",
    "print ('Final')\n",
    "print (df_csv.loc[9])\n",
    "\n",
    "print ('Total')\n",
    "print (df_csv.loc[df_csv.sum(axis=1).idxmax()])"
   ]
  },
  {
   "cell_type": "code",
   "execution_count": null,
   "metadata": {},
   "outputs": [],
   "source": [
    "# Question 2"
   ]
  },
  {
   "cell_type": "code",
   "execution_count": null,
   "metadata": {},
   "outputs": [],
   "source": []
  }
 ],
 "metadata": {
  "kernelspec": {
   "display_name": "base",
   "language": "python",
   "name": "python3"
  },
  "language_info": {
   "codemirror_mode": {
    "name": "ipython",
    "version": 3
   },
   "file_extension": ".py",
   "mimetype": "text/x-python",
   "name": "python",
   "nbconvert_exporter": "python",
   "pygments_lexer": "ipython3",
   "version": "3.9.16"
  },
  "orig_nbformat": 4,
  "vscode": {
   "interpreter": {
    "hash": "19d1d53a962d236aa061289c2ac16dc8e6d9648c89fe79f459ae9a3493bc67b4"
   }
  }
 },
 "nbformat": 4,
 "nbformat_minor": 2
}
