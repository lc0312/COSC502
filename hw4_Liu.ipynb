{
 "cells": [
  {
   "cell_type": "code",
   "execution_count": 113,
   "metadata": {},
   "outputs": [
    {
     "data": {
      "text/html": [
       "<div>\n",
       "<style scoped>\n",
       "    .dataframe tbody tr th:only-of-type {\n",
       "        vertical-align: middle;\n",
       "    }\n",
       "\n",
       "    .dataframe tbody tr th {\n",
       "        vertical-align: top;\n",
       "    }\n",
       "\n",
       "    .dataframe thead th {\n",
       "        text-align: right;\n",
       "    }\n",
       "</style>\n",
       "<table border=\"1\" class=\"dataframe\">\n",
       "  <thead>\n",
       "    <tr style=\"text-align: right;\">\n",
       "      <th></th>\n",
       "      <th>price</th>\n",
       "      <th>area</th>\n",
       "      <th>bedrooms</th>\n",
       "      <th>bathrooms</th>\n",
       "      <th>stories</th>\n",
       "      <th>mainroad</th>\n",
       "      <th>guestroom</th>\n",
       "      <th>basement</th>\n",
       "      <th>hotwaterheating</th>\n",
       "      <th>airconditioning</th>\n",
       "      <th>parking</th>\n",
       "      <th>prefarea</th>\n",
       "      <th>furnishingstatus</th>\n",
       "    </tr>\n",
       "  </thead>\n",
       "  <tbody>\n",
       "    <tr>\n",
       "      <th>0</th>\n",
       "      <td>13300000</td>\n",
       "      <td>7420</td>\n",
       "      <td>4</td>\n",
       "      <td>2</td>\n",
       "      <td>3</td>\n",
       "      <td>yes</td>\n",
       "      <td>no</td>\n",
       "      <td>no</td>\n",
       "      <td>no</td>\n",
       "      <td>yes</td>\n",
       "      <td>2</td>\n",
       "      <td>yes</td>\n",
       "      <td>furnished</td>\n",
       "    </tr>\n",
       "    <tr>\n",
       "      <th>1</th>\n",
       "      <td>12250000</td>\n",
       "      <td>8960</td>\n",
       "      <td>4</td>\n",
       "      <td>4</td>\n",
       "      <td>4</td>\n",
       "      <td>yes</td>\n",
       "      <td>no</td>\n",
       "      <td>no</td>\n",
       "      <td>no</td>\n",
       "      <td>yes</td>\n",
       "      <td>3</td>\n",
       "      <td>no</td>\n",
       "      <td>furnished</td>\n",
       "    </tr>\n",
       "    <tr>\n",
       "      <th>2</th>\n",
       "      <td>12250000</td>\n",
       "      <td>9960</td>\n",
       "      <td>3</td>\n",
       "      <td>2</td>\n",
       "      <td>2</td>\n",
       "      <td>yes</td>\n",
       "      <td>no</td>\n",
       "      <td>yes</td>\n",
       "      <td>no</td>\n",
       "      <td>no</td>\n",
       "      <td>2</td>\n",
       "      <td>yes</td>\n",
       "      <td>semi-furnished</td>\n",
       "    </tr>\n",
       "    <tr>\n",
       "      <th>3</th>\n",
       "      <td>12215000</td>\n",
       "      <td>7500</td>\n",
       "      <td>4</td>\n",
       "      <td>2</td>\n",
       "      <td>2</td>\n",
       "      <td>yes</td>\n",
       "      <td>no</td>\n",
       "      <td>yes</td>\n",
       "      <td>no</td>\n",
       "      <td>yes</td>\n",
       "      <td>3</td>\n",
       "      <td>yes</td>\n",
       "      <td>furnished</td>\n",
       "    </tr>\n",
       "    <tr>\n",
       "      <th>4</th>\n",
       "      <td>11410000</td>\n",
       "      <td>7420</td>\n",
       "      <td>4</td>\n",
       "      <td>1</td>\n",
       "      <td>2</td>\n",
       "      <td>yes</td>\n",
       "      <td>yes</td>\n",
       "      <td>yes</td>\n",
       "      <td>no</td>\n",
       "      <td>yes</td>\n",
       "      <td>2</td>\n",
       "      <td>no</td>\n",
       "      <td>furnished</td>\n",
       "    </tr>\n",
       "  </tbody>\n",
       "</table>\n",
       "</div>"
      ],
      "text/plain": [
       "      price  area  bedrooms  bathrooms  stories mainroad guestroom basement  \\\n",
       "0  13300000  7420         4          2        3      yes        no       no   \n",
       "1  12250000  8960         4          4        4      yes        no       no   \n",
       "2  12250000  9960         3          2        2      yes        no      yes   \n",
       "3  12215000  7500         4          2        2      yes        no      yes   \n",
       "4  11410000  7420         4          1        2      yes       yes      yes   \n",
       "\n",
       "  hotwaterheating airconditioning  parking prefarea furnishingstatus  \n",
       "0              no             yes        2      yes        furnished  \n",
       "1              no             yes        3       no        furnished  \n",
       "2              no              no        2      yes   semi-furnished  \n",
       "3              no             yes        3      yes        furnished  \n",
       "4              no             yes        2       no        furnished  "
      ]
     },
     "execution_count": 113,
     "metadata": {},
     "output_type": "execute_result"
    }
   ],
   "source": [
    "import pandas as pd\n",
    "\n",
    "# Q1\n",
    "# a) Read the csv file (Housing.csv in Canvas) in Pandas Dataframe\n",
    "\n",
    "url = url = 'https://github.com/lc0312/COSC502/blob/main/Housing.csv?raw=true'\n",
    "house_df = pd.read_csv(url)\n",
    "house_df.head(5)"
   ]
  },
  {
   "cell_type": "code",
   "execution_count": 114,
   "metadata": {},
   "outputs": [
    {
     "name": "stdout",
     "output_type": "stream",
     "text": [
      "   area  bedrooms  bathrooms  stories  furnished  semi-furnished  unfurnished\n",
      "0  7420         4          2        3          1               0            0\n",
      "1  8960         4          4        4          1               0            0\n",
      "2  9960         3          2        2          0               1            0\n",
      "3  7500         4          2        2          1               0            0\n",
      "4  7420         4          1        2          1               0            0\n"
     ]
    }
   ],
   "source": [
    "# b) Store price as an dependent variable (Y) and area, bedrooms, bathrooms, stories, and furnishingstatus as independent variables (X)\n",
    "\n",
    "Y_data = house_df['price']\n",
    "X_data = house_df[['area','bedrooms','bathrooms','stories','furnishingstatus']]\n",
    "\n",
    "X_dummies = pd.get_dummies (X_data.furnishingstatus) # create dummies for furnishingstatus\n",
    "\n",
    "X_data = pd.concat ([X_data, X_dummies], axis='columns')  # add dummies to dataframe\n",
    "X_data = X_data.drop(columns = 'furnishingstatus') # delete old furnishingstatus\n",
    "\n",
    "print (X_data.head(5)) \n"
   ]
  },
  {
   "cell_type": "code",
   "execution_count": 115,
   "metadata": {},
   "outputs": [],
   "source": [
    "# c) Create a training (80%) and test set (20%) from the above dataset.\n",
    "from sklearn.model_selection import train_test_split\n",
    "\n",
    "X_train, X_test, Y_train, Y_test = train_test_split (X_data, Y_data, test_size=0.2)\n"
   ]
  },
  {
   "cell_type": "code",
   "execution_count": 116,
   "metadata": {},
   "outputs": [
    {
     "name": "stdout",
     "output_type": "stream",
     "text": [
      "Intercept: 220851.97972032148\n",
      "Coefficients: [ 3.36980113e+02  1.13535907e+05  1.16961117e+06  5.21530243e+05\n",
      "  2.55386184e+05  1.28756247e+05 -3.84142432e+05]\n"
     ]
    }
   ],
   "source": [
    "# d) Use sklearn library to perform Regression in the training dataset.\n",
    "from sklearn import linear_model\n",
    "\n",
    "regres = linear_model.LinearRegression()\n",
    "regres.fit (X_train, Y_train)\n",
    "\n",
    "print ('Intercept:', regres.intercept_)\n",
    "print ('Coefficients:', regres.coef_)"
   ]
  },
  {
   "cell_type": "code",
   "execution_count": 117,
   "metadata": {},
   "outputs": [
    {
     "name": "stdout",
     "output_type": "stream",
     "text": [
      "Price is: [6876463.48148912]\n"
     ]
    },
    {
     "name": "stderr",
     "output_type": "stream",
     "text": [
      "c:\\ProgramData\\Miniconda3\\lib\\site-packages\\sklearn\\base.py:420: UserWarning: X does not have valid feature names, but LinearRegression was fitted with feature names\n",
      "  warnings.warn(\n"
     ]
    }
   ],
   "source": [
    "# e) Predict the price of a house with following: area = 4850 square feet, bedrooms = 3 bathrooms =3, stories =2 and semi-furnished.\n",
    "\n",
    "print ('Price is:', regres.predict([[4850,3,3,2,0,1,0]])) # use those number for X test"
   ]
  },
  {
   "cell_type": "code",
   "execution_count": 118,
   "metadata": {},
   "outputs": [
    {
     "name": "stderr",
     "output_type": "stream",
     "text": [
      "C:\\Users\\try\\AppData\\Local\\Temp\\ipykernel_11620\\3246627184.py:9: FutureWarning: The behavior of `series[i:j]` with an integer-dtype index is deprecated. In a future version, this will be treated as *label-based* indexing, consistent with e.g. `series[i]` lookups. To retain the old behavior, use `series.iloc[i:j]`. To get the future behavior, use `series.loc[i:j]`.\n",
      "  plt.bar (x_plot-0.2, Y_test[0:11], 0.4, label='Actual', color='blue')\n"
     ]
    },
    {
     "data": {
      "image/png": "[encoded data removed]",
      "text/plain": [
       "<Figure size 640x480 with 1 Axes>"
      ]
     },
     "metadata": {},
     "output_type": "display_data"
    }
   ],
   "source": [
    "# f) Predict the prices of all the houses in the test set and compare the predicted values and actual values (you may generate a side-by-side graph for first 10 test samples)\n",
    "import matplotlib.pyplot as plt\n",
    "import numpy as np\n",
    "\n",
    "Y_predict = regres.predict (X_test)\n",
    "x_plot = np.arange(11)\n",
    "\n",
    "plt.bar (x_plot+0.2, Y_predict[0:11], 0.4, label='Prediction', color='red')\n",
    "plt.bar (x_plot-0.2, Y_test[0:11], 0.4, label='Actual', color='blue')\n",
    "\n",
    "plt.title ('Price compare')\n",
    "plt.ylabel ('Price')\n",
    "plt.xticks(x_plot,x_plot)\n",
    "plt.legend()\n",
    "plt.show()\n"
   ]
  },
  {
   "cell_type": "code",
   "execution_count": 119,
   "metadata": {},
   "outputs": [
    {
     "name": "stdout",
     "output_type": "stream",
     "text": [
      "Mean squared error: 1747535608447.694\n",
      "Root mean squared error: 1321943.8749234758\n",
      "Squared error: 190481381320798.66\n"
     ]
    }
   ],
   "source": [
    "# g) While testing, calculate the Squared error, Mean squared error, and Root mean squared error \n",
    "from sklearn import metrics\n",
    "\n",
    "MSE = metrics.mean_squared_error (Y_predict, Y_test)\n",
    "RMSE = metrics.mean_squared_error (Y_predict, Y_test, squared=False)\n",
    "SE = MSE * (Y_test.shape[0])\n",
    "\n",
    "print ('Mean squared error:', MSE)\n",
    "print ('Root mean squared error:', RMSE)\n",
    "print ('Squared error:', SE) # becasue thre is no function to get seuqred error, so use n*MSE to get SE, same value.\n"
   ]
  },
  {
   "cell_type": "code",
   "execution_count": 120,
   "metadata": {},
   "outputs": [
    {
     "name": "stdout",
     "output_type": "stream",
     "text": [
      "        ID  Age  Experience  Income  ZIP Code  Family  CCAvg  Education  \\\n",
      "0        1   25           1      49     91107       4    1.6          1   \n",
      "1        2   45          19      34     90089       3    1.5          1   \n",
      "2        3   39          15      11     94720       1    1.0          1   \n",
      "3        4   35           9     100     94112       1    2.7          2   \n",
      "4        5   35           8      45     91330       4    1.0          2   \n",
      "...    ...  ...         ...     ...       ...     ...    ...        ...   \n",
      "4995  4996   29           3      40     92697       1    1.9          3   \n",
      "4996  4997   30           4      15     92037       4    0.4          1   \n",
      "4997  4998   63          39      24     93023       2    0.3          3   \n",
      "4998  4999   65          40      49     90034       3    0.5          2   \n",
      "4999  5000   28           4      83     92612       3    0.8          1   \n",
      "\n",
      "      Mortgage  Personal Loan  Securities Account  CD Account  Online  \\\n",
      "0            0              0                   1           0       0   \n",
      "1            0              0                   1           0       0   \n",
      "2            0              0                   0           0       0   \n",
      "3            0              0                   0           0       0   \n",
      "4            0              0                   0           0       0   \n",
      "...        ...            ...                 ...         ...     ...   \n",
      "4995         0              0                   0           0       1   \n",
      "4996        85              0                   0           0       1   \n",
      "4997         0              0                   0           0       0   \n",
      "4998         0              0                   0           0       1   \n",
      "4999         0              0                   0           0       1   \n",
      "\n",
      "      CreditCard  \n",
      "0              0  \n",
      "1              0  \n",
      "2              0  \n",
      "3              0  \n",
      "4              1  \n",
      "...          ...  \n",
      "4995           0  \n",
      "4996           0  \n",
      "4997           0  \n",
      "4998           0  \n",
      "4999           1  \n",
      "\n",
      "[5000 rows x 14 columns]\n"
     ]
    }
   ],
   "source": [
    "# Q2\n",
    "# a) Read the csv file (Bank.csv in Canvas) and provide summary of the DataFrame byprinting the object\n",
    "\n",
    "url = 'https://github.com/lc0312/COSC502/blob/main/Bank.csv?raw=true'\n",
    "bank_df = pd.read_csv(url)\n",
    "print (bank_df)"
   ]
  },
  {
   "cell_type": "code",
   "execution_count": 121,
   "metadata": {},
   "outputs": [],
   "source": [
    "# b) Consider the ‘Personal Loan’ as class (Y) variable and Age, Experience, Income, and Education as independent (X) variable.\n",
    "\n",
    "Y_data = bank_df['Personal Loan']\n",
    "X_data = bank_df[['Age','Experience','Income','Education']]"
   ]
  },
  {
   "cell_type": "code",
   "execution_count": 122,
   "metadata": {},
   "outputs": [],
   "source": [
    "# c) Create a training (80%) and test set (20%) from the dataset.\n",
    "\n",
    "X_train, X_test, Y_train, Y_test = train_test_split (X_data.values, Y_data.values, test_size=0.2)"
   ]
  },
  {
   "cell_type": "code",
   "execution_count": 128,
   "metadata": {},
   "outputs": [
    {
     "name": "stdout",
     "output_type": "stream",
     "text": [
      "First 10 in prediction: [0 0 0 0 0 0 0 0 0 1 0]\n",
      "First 10 in real: [0 0 0 0 0 0 0 0 0 0 0]\n"
     ]
    }
   ],
   "source": [
    "# d) Use Logistic Regression model in the training dataset and Evaluate in the test set\n",
    "\n",
    "logi_reg = linear_model.LogisticRegression ()\n",
    "logi_reg.fit (X_train, Y_train)\n",
    "\n",
    "Y_predict = logi_reg.predict (X_test)\n",
    "\n",
    "print ('First 10 in prediction:', Y_predict[0:11])\n",
    "print ('First 10 in real:', Y_test[0:11])"
   ]
  },
  {
   "cell_type": "code",
   "execution_count": null,
   "metadata": {},
   "outputs": [],
   "source": [
    "# e) Show your test result as Accuracy, F1 score and Confusion matrix.\n",
    "\n"
   ]
  }
 ],
 "metadata": {
  "kernelspec": {
   "display_name": "base",
   "language": "python",
   "name": "python3"
  },
  "language_info": {
   "codemirror_mode": {
    "name": "ipython",
    "version": 3
   },
   "file_extension": ".py",
   "mimetype": "text/x-python",
   "name": "python",
   "nbconvert_exporter": "python",
   "pygments_lexer": "ipython3",
   "version": "3.9.16"
  },
  "orig_nbformat": 4,
  "vscode": {
   "interpreter": {
    "hash": "19d1d53a962d236aa061289c2ac16dc8e6d9648c89fe79f459ae9a3493bc67b4"
   }
  }
 },
 "nbformat": 4,
 "nbformat_minor": 2
}
