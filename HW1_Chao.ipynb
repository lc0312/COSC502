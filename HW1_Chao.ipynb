{
 "cells": [
  {
   "cell_type": "code",
   "execution_count": 1032,
   "metadata": {},
   "outputs": [
    {
     "name": "stdout",
     "output_type": "stream",
     "text": [
      "[[64 92 65]\n",
      " [60 72 85]\n",
      " [70 65 80]\n",
      " [75 77 71]\n",
      " [99 67 99]\n",
      " [75 98 79]\n",
      " [95 88 69]\n",
      " [62 82 81]\n",
      " [88 64 65]\n",
      " [67 68 90]\n",
      " [93 94 64]\n",
      " [66 95 72]\n",
      " [88 93 92]\n",
      " [81 71 66]\n",
      " [82 75 74]\n",
      " [78 65 69]\n",
      " [83 85 85]\n",
      " [83 97 85]\n",
      " [72 74 65]\n",
      " [65 83 62]]\n"
     ]
    }
   ],
   "source": [
    "import numpy as np\n",
    "\n",
    "rand_score = 60 + 40*np.random.rand (20,3)\n",
    "rand_score = rand_score.astype (int)\n",
    "\n",
    "print (rand_score)\n"
   ]
  },
  {
   "cell_type": "code",
   "execution_count": 1033,
   "metadata": {},
   "outputs": [
    {
     "name": "stdout",
     "output_type": "stream",
     "text": [
      "[77.3  80.25 75.9 ]\n",
      "[73.66666667 72.33333333 71.66666667 74.33333333 88.33333333 84.\n",
      " 84.         75.         72.33333333 75.         83.66666667 77.66666667\n",
      " 91.         72.66666667 77.         70.66666667 84.33333333 88.33333333\n",
      " 70.33333333 70.        ]\n"
     ]
    }
   ],
   "source": [
    "# Question 1\n",
    "\n",
    "# a)\n",
    "ave_column = np.mean (rand_score, axis=0)\n",
    "ave_row = np.mean (rand_score, axis=1)\n",
    "print (ave_column)\n",
    "print (ave_row)"
   ]
  },
  {
   "cell_type": "code",
   "execution_count": 1034,
   "metadata": {},
   "outputs": [
    {
     "name": "stdout",
     "output_type": "stream",
     "text": [
      "[60 64 62]\n"
     ]
    }
   ],
   "source": [
    "# b)\n",
    "max_score = np.max (rand_score, axis=0)\n",
    "min_score = np.min (rand_score, axis=0)\n",
    "print (min_score)"
   ]
  },
  {
   "cell_type": "code",
   "execution_count": 1035,
   "metadata": {},
   "outputs": [
    {
     "name": "stdout",
     "output_type": "stream",
     "text": [
      "[73.66666667 72.33333333]\n",
      "[70.33333333 70.        ]\n"
     ]
    }
   ],
   "source": [
    "# c)\n",
    "ave_first_two = np.mean (rand_score[0:2], axis=1)\n",
    "ave_last_two = np.mean (rand_score[18:20], axis=1)\n",
    "\n",
    "print (ave_first_two)\n",
    "print (ave_last_two)"
   ]
  },
  {
   "cell_type": "code",
   "execution_count": 1036,
   "metadata": {},
   "outputs": [
    {
     "name": "stdout",
     "output_type": "stream",
     "text": [
      "[78.  66.  67.5 76.  83.  86.5 91.5 72.  76.  67.5]\n"
     ]
    }
   ],
   "source": [
    "# d)\n",
    "ave_Mid_first10 = np.mean (rand_score[0:10,0:2], axis=1)\n",
    "print (ave_Mid_first10)"
   ]
  },
  {
   "cell_type": "code",
   "execution_count": 1037,
   "metadata": {},
   "outputs": [
    {
     "name": "stdout",
     "output_type": "stream",
     "text": [
      "Students row are: [ 0  1  2  4  6  7  8  9 10 11 13 15 18 19]\n",
      "[78.28571429 76.21428571]\n"
     ]
    }
   ],
   "source": [
    "# e)\n",
    "import collections\n",
    "list_70 = np.where (rand_score < 70)\n",
    "row_number = np.unique(list_70[0])\n",
    "print ('Students row are:',row_number)\n",
    "\n",
    "rand_score[rand_score <70] = 70\n",
    "\n",
    "alt_student = []\n",
    "\n",
    "for i in (row_number):\n",
    "    alt_student.append (rand_score[i,0:3:2])\n",
    "\n",
    "alt_student = np.array(alt_student)\n",
    "ave_alt = np.mean (alt_student,axis=0)\n",
    "\n",
    "print (ave_alt)"
   ]
  },
  {
   "cell_type": "code",
   "execution_count": 1038,
   "metadata": {},
   "outputs": [
    {
     "name": "stdout",
     "output_type": "stream",
     "text": [
      "[76.6 76.6 74.  74.  90.3 83.5 82.9 78.  75.4 78. ]\n"
     ]
    }
   ],
   "source": [
    "# f)\n",
    "weight_matrix = np.zeros((3,3))\n",
    "np.fill_diagonal (weight_matrix,[0.3,0.3,0.4])\n",
    "\n",
    "sum_total_10 = np.dot(rand_score[0:10], weight_matrix).sum(axis=1)\n",
    "\n",
    "print (sum_total_10)"
   ]
  },
  {
   "cell_type": "code",
   "execution_count": 1039,
   "metadata": {},
   "outputs": [
    {
     "name": "stdout",
     "output_type": "stream",
     "text": [
      "[[ 77.   101.2   66.5 ]\n",
      " [ 77.    79.2   80.75]\n",
      " [ 77.    77.    76.  ]\n",
      " [ 82.5   84.7   67.45]\n",
      " [108.9   77.    94.05]\n",
      " [ 82.5  107.8   75.05]\n",
      " [104.5   96.8   66.5 ]\n",
      " [ 77.    90.2   76.95]\n",
      " [ 96.8   77.    66.5 ]\n",
      " [ 77.    77.    85.5 ]\n",
      " [102.3  103.4   66.5 ]\n",
      " [ 77.   104.5   68.4 ]\n",
      " [ 96.8  102.3   87.4 ]\n",
      " [ 89.1   78.1   66.5 ]\n",
      " [ 90.2   82.5   70.3 ]\n",
      " [ 85.8   77.    66.5 ]\n",
      " [ 91.3   93.5   80.75]\n",
      " [ 91.3  106.7   80.75]\n",
      " [ 79.2   81.4   66.5 ]\n",
      " [ 77.    91.3   66.5 ]]\n"
     ]
    }
   ],
   "source": [
    "# g)\n",
    "\n",
    "weight_matrix = np.zeros((3,3))\n",
    "np.fill_diagonal (weight_matrix,[1.1, 1.1, 0.95])\n",
    "upodated_total = np.dot(rand_score, weight_matrix)\n",
    "\n",
    "print (upodated_total)"
   ]
  },
  {
   "cell_type": "code",
   "execution_count": 1040,
   "metadata": {},
   "outputs": [],
   "source": [
    "# Question 2\n",
    "# a)\n",
    "\n",
    "def median_and_mode (x):\n",
    "    median = np.median (x)\n",
    "    \n",
    "    mode = np.bincount(x.flat).argmax()\n",
    "\n",
    "    print ('Median is:', median)\n",
    "    print ('Mode is:', mode)\n"
   ]
  },
  {
   "cell_type": "code",
   "execution_count": 1041,
   "metadata": {},
   "outputs": [
    {
     "name": "stdout",
     "output_type": "stream",
     "text": [
      "Median is: 2.0\n",
      "Mode is: 2\n",
      "Median is: 3.0\n",
      "Mode is: 3\n",
      "Median is: 3.5\n",
      "Mode is: 3\n"
     ]
    }
   ],
   "source": [
    "# b)\n",
    "\n",
    "x1 = np.array ([[1,2,2,2,3,5],[2,4,2,2,7,8]])\n",
    "x2 = np.array ([[1,1,3],[3,3,7],[8,8,7]])\n",
    "x3 = np.array ([[2,3,3,3,3], [1,4,4,5,8], [3,4,6,3,5],[3,3,6,6,11]])\n",
    "\n",
    "median_and_mode (x1)\n",
    "median_and_mode (x2)\n",
    "median_and_mode (x3)"
   ]
  },
  {
   "cell_type": "code",
   "execution_count": 1042,
   "metadata": {},
   "outputs": [],
   "source": [
    "# c)\n",
    "def median_and_mode_axis (x, axis):\n",
    "    if axis == \"row\":\n",
    "        for i in range (x.shape[0]):\n",
    "            median = np.median (x[i])\n",
    "            print ('Median in row',i, 'is:', median)\n",
    "            mode = np.bincount(x[i]).argmax()\n",
    "            print ('Mode in row',i, 'is:', mode)\n",
    "        \n",
    "    if axis == \"column\":\n",
    "        for i in range (x.shape[1]):\n",
    "            median = np.median (x[:,i])\n",
    "            print ('Median in column',i, 'is:', median)\n",
    "            mode = np.bincount(x[:,i]).argmax()\n",
    "            print ('Mode in column',i, 'is:', mode)\n",
    "\n",
    "\n"
   ]
  },
  {
   "cell_type": "code",
   "execution_count": 1043,
   "metadata": {},
   "outputs": [
    {
     "name": "stdout",
     "output_type": "stream",
     "text": [
      "Median in row 0 is: 1.0\n",
      "Mode in row 0 is: 1\n",
      "Median in row 1 is: 3.0\n",
      "Mode in row 1 is: 3\n",
      "Median in row 2 is: 8.0\n",
      "Mode in row 2 is: 8\n"
     ]
    }
   ],
   "source": [
    "median_and_mode_axis(x2, axis='row')"
   ]
  },
  {
   "cell_type": "code",
   "execution_count": 1044,
   "metadata": {},
   "outputs": [
    {
     "name": "stdout",
     "output_type": "stream",
     "text": [
      "Median in column 0 is: 3.0\n",
      "Mode in column 0 is: 1\n",
      "Median in column 1 is: 3.0\n",
      "Mode in column 1 is: 1\n",
      "Median in column 2 is: 7.0\n",
      "Mode in column 2 is: 7\n"
     ]
    }
   ],
   "source": [
    "median_and_mode_axis(x2, axis='column')"
   ]
  },
  {
   "cell_type": "code",
   "execution_count": 1063,
   "metadata": {},
   "outputs": [],
   "source": [
    "# Question 3\n",
    "\n",
    "empty_matrix = np.array ([['?','?','?'],['?','?','?'],['?','?','?']])\n",
    "\n",
    "steps = 0\n",
    "\n",
    "def TTT_game (x, y):\n",
    "    \n",
    "    global steps\n",
    "    if steps ==8:\n",
    "        print ('Draw')\n",
    "        \n",
    "    if (steps%2) ==0:\n",
    "        if empty_matrix [x][y] == '?':\n",
    "            empty_matrix [x][y] = 'X'\n",
    "            steps+=1\n",
    "            print (empty_matrix)\n",
    "\n",
    "            for i in range (3):\n",
    "                if np.sum (np.char.count(empty_matrix[i], 'X')) ==3 or np.sum (np.char.count(empty_matrix[:,i], 'X')) ==3 or np.sum (np.char.count(np.diag(empty_matrix), 'X')) ==3 or np.sum (np.char.count(np.diag(np.fliplr(empty_matrix)),'X')) ==3:\n",
    "                    print ('First Player Win, Start New One')\n",
    "                    \n",
    "            else:   print ('No One Win, Continue Please')\n",
    "        else:\n",
    "            print ('Try Another Place')\n",
    "\n",
    "\n",
    "    else:\n",
    "        if empty_matrix[x][y] == '?':\n",
    "            empty_matrix[x][y] = 'O'\n",
    "            steps+=1\n",
    "            print (empty_matrix)\n",
    "\n",
    "            for i in range (3):\n",
    "                if np.sum (np.char.count(empty_matrix[i], 'O')) == 3 or np.sum (np.char.count(empty_matrix[:,i], 'O')) == 3 or np.sum (np.char.count(np.diag(empty_matrix), 'O')) == 3 or np.sum (np.char.count(np.diag(np.fliplr(empty_matrix)),'O')) ==3:\n",
    "                    print ('Second Player Win, Start New One')\n",
    "                    \n",
    "            else:   print ('No One Win, Continue Please')\n",
    "        else:\n",
    "            print ('Try Another Place')\n",
    "\n",
    "\n",
    "  "
   ]
  },
  {
   "cell_type": "code",
   "execution_count": 1064,
   "metadata": {},
   "outputs": [
    {
     "name": "stdout",
     "output_type": "stream",
     "text": [
      "[['?' '?' '?']\n",
      " ['?' '?' '?']\n",
      " ['?' '?' '?']]\n"
     ]
    }
   ],
   "source": [
    "print (empty_matrix)"
   ]
  },
  {
   "cell_type": "code",
   "execution_count": 1065,
   "metadata": {},
   "outputs": [
    {
     "name": "stdout",
     "output_type": "stream",
     "text": [
      "[['?' '?' '?']\n",
      " ['?' 'X' '?']\n",
      " ['?' '?' '?']]\n",
      "No One Win, Continue Please\n"
     ]
    }
   ],
   "source": [
    "TTT_game (1,1)"
   ]
  },
  {
   "cell_type": "code",
   "execution_count": 1066,
   "metadata": {},
   "outputs": [
    {
     "name": "stdout",
     "output_type": "stream",
     "text": [
      "[['O' '?' '?']\n",
      " ['?' 'X' '?']\n",
      " ['?' '?' '?']]\n",
      "No One Win, Continue Please\n"
     ]
    }
   ],
   "source": [
    "TTT_game (0,0)"
   ]
  }
 ],
 "metadata": {
  "kernelspec": {
   "display_name": "base",
   "language": "python",
   "name": "python3"
  },
  "language_info": {
   "codemirror_mode": {
    "name": "ipython",
    "version": 3
   },
   "file_extension": ".py",
   "mimetype": "text/x-python",
   "name": "python",
   "nbconvert_exporter": "python",
   "pygments_lexer": "ipython3",
   "version": "3.9.16"
  },
  "orig_nbformat": 4,
  "vscode": {
   "interpreter": {
    "hash": "19d1d53a962d236aa061289c2ac16dc8e6d9648c89fe79f459ae9a3493bc67b4"
   }
  }
 },
 "nbformat": 4,
 "nbformat_minor": 2
}
