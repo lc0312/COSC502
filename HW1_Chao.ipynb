{
 "cells": [
  {
   "cell_type": "code",
   "execution_count": 16,
   "metadata": {},
   "outputs": [
    {
     "name": "stdout",
     "output_type": "stream",
     "text": [
      "[[88 78 61]\n",
      " [92 77 71]\n",
      " [87 68 65]\n",
      " [75 65 64]\n",
      " [62 93 82]\n",
      " [87 75 92]\n",
      " [81 93 79]\n",
      " [79 68 73]\n",
      " [79 88 94]\n",
      " [64 72 73]\n",
      " [93 70 78]\n",
      " [98 74 98]\n",
      " [66 74 96]\n",
      " [75 94 66]\n",
      " [76 94 72]\n",
      " [66 83 77]\n",
      " [79 77 72]\n",
      " [84 90 61]\n",
      " [70 93 72]\n",
      " [77 90 84]]\n"
     ]
    }
   ],
   "source": [
    "import numpy as np\n",
    "\n",
    "rand_score = 60 + 40*np.random.rand (20,3)\n",
    "rand_score = rand_score.astype (int)\n",
    "\n",
    "print (rand_score)\n"
   ]
  },
  {
   "cell_type": "code",
   "execution_count": 17,
   "metadata": {},
   "outputs": [
    {
     "name": "stdout",
     "output_type": "stream",
     "text": [
      "[78.9 80.8 76.5]\n",
      "[75.66666667 80.         73.33333333 68.         79.         84.66666667\n",
      " 84.33333333 73.33333333 87.         69.66666667 80.33333333 90.\n",
      " 78.66666667 78.33333333 80.66666667 75.33333333 76.         78.33333333\n",
      " 78.33333333 83.66666667]\n"
     ]
    }
   ],
   "source": [
    "# Question 1\n",
    "\n",
    "# a)\n",
    "ave_column = np.mean (rand_score, axis=0)\n",
    "ave_row = np.mean (rand_score, axis=1)\n",
    "print (ave_column)\n",
    "print (ave_row)"
   ]
  },
  {
   "cell_type": "code",
   "execution_count": 18,
   "metadata": {},
   "outputs": [
    {
     "name": "stdout",
     "output_type": "stream",
     "text": [
      "[62 65 61]\n"
     ]
    }
   ],
   "source": [
    "# b)\n",
    "max_score = np.max (rand_score, axis=0)\n",
    "min_score = np.min (rand_score, axis=0)\n",
    "print (min_score)"
   ]
  },
  {
   "cell_type": "code",
   "execution_count": 19,
   "metadata": {},
   "outputs": [
    {
     "name": "stdout",
     "output_type": "stream",
     "text": [
      "[75.66666667 80.        ]\n",
      "[78.33333333 83.66666667]\n"
     ]
    }
   ],
   "source": [
    "# c)\n",
    "ave_first_two = np.mean (rand_score[0:2], axis=1)\n",
    "ave_last_two = np.mean (rand_score[18:20], axis=1)\n",
    "\n",
    "print (ave_first_two)\n",
    "print (ave_last_two)"
   ]
  },
  {
   "cell_type": "code",
   "execution_count": 20,
   "metadata": {},
   "outputs": [
    {
     "name": "stdout",
     "output_type": "stream",
     "text": [
      "[83.  84.5 77.5 70.  77.5 81.  87.  73.5 83.5 68. ]\n"
     ]
    }
   ],
   "source": [
    "# d)\n",
    "ave_Mid_first10 = np.mean (rand_score[0:10,0:2], axis=1)\n",
    "print (ave_Mid_first10)"
   ]
  },
  {
   "cell_type": "code",
   "execution_count": 21,
   "metadata": {},
   "outputs": [
    {
     "name": "stdout",
     "output_type": "stream",
     "text": [
      "Students row are: [ 0  2  3  4  7  9 12 13 15 17]\n",
      "[76.8 75.1]\n"
     ]
    }
   ],
   "source": [
    "# e)\n",
    "import collections\n",
    "list_70 = np.where (rand_score < 70)\n",
    "row_number = np.unique(list_70[0])\n",
    "print ('Students row are:',row_number)\n",
    "\n",
    "rand_score[rand_score <70] = 70\n",
    "\n",
    "alt_student = []\n",
    "\n",
    "for i in (row_number):\n",
    "    alt_student.append (rand_score[i,0:3:2])\n",
    "\n",
    "alt_student = np.array(alt_student)\n",
    "ave_alt = np.mean (alt_student,axis=0)\n",
    "\n",
    "print (ave_alt)"
   ]
  },
  {
   "cell_type": "code",
   "execution_count": 22,
   "metadata": {},
   "outputs": [
    {
     "name": "stdout",
     "output_type": "stream",
     "text": [
      "[77.8 79.1 75.1 71.5 81.7 85.4 83.8 73.9 87.7 71.8]\n"
     ]
    }
   ],
   "source": [
    "# f)\n",
    "weight_matrix = np.zeros((3,3))\n",
    "np.fill_diagonal (weight_matrix,[0.3,0.3,0.4])\n",
    "\n",
    "sum_total_10 = np.dot(rand_score[0:10], weight_matrix).sum(axis=1)\n",
    "\n",
    "print (sum_total_10)"
   ]
  },
  {
   "cell_type": "code",
   "execution_count": 23,
   "metadata": {},
   "outputs": [
    {
     "name": "stdout",
     "output_type": "stream",
     "text": [
      "[[ 96.8   85.8   66.5 ]\n",
      " [101.2   84.7   67.45]\n",
      " [ 95.7   77.    66.5 ]\n",
      " [ 82.5   77.    66.5 ]\n",
      " [ 77.   102.3   77.9 ]\n",
      " [ 95.7   82.5   87.4 ]\n",
      " [ 89.1  102.3   75.05]\n",
      " [ 86.9   77.    69.35]\n",
      " [ 86.9   96.8   89.3 ]\n",
      " [ 77.    79.2   69.35]\n",
      " [102.3   77.    74.1 ]\n",
      " [107.8   81.4   93.1 ]\n",
      " [ 77.    81.4   91.2 ]\n",
      " [ 82.5  103.4   66.5 ]\n",
      " [ 83.6  103.4   68.4 ]\n",
      " [ 77.    91.3   73.15]\n",
      " [ 86.9   84.7   68.4 ]\n",
      " [ 92.4   99.    66.5 ]\n",
      " [ 77.   102.3   68.4 ]\n",
      " [ 84.7   99.    79.8 ]]\n"
     ]
    }
   ],
   "source": [
    "# g)\n",
    "\n",
    "weight_matrix = np.zeros((3,3))\n",
    "np.fill_diagonal (weight_matrix,[1.1, 1.1, 0.95])\n",
    "upodated_total = np.dot(rand_score, weight_matrix)\n",
    "\n",
    "print (upodated_total)"
   ]
  },
  {
   "cell_type": "code",
   "execution_count": 46,
   "metadata": {},
   "outputs": [
    {
     "name": "stdout",
     "output_type": "stream",
     "text": [
      "Median is: 2.0\n",
      "Mode is: 1\n",
      "None\n"
     ]
    }
   ],
   "source": [
    "# Question 2\n",
    "# a)\n",
    "x = np.array([[7, 1, 1, 1], [1,3,3,3]])\n",
    "\n",
    "def median_and_mode (x):\n",
    "    median = np.median (x)\n",
    "    mode = np.bincount(x.flat).argmax()\n",
    "\n",
    "    print ('Median is:', median)\n",
    "    print ('Mode is:', mode)\n",
    "\n",
    "print (median_and_mode(x))\n"
   ]
  }
 ],
 "metadata": {
  "kernelspec": {
   "display_name": "base",
   "language": "python",
   "name": "python3"
  },
  "language_info": {
   "codemirror_mode": {
    "name": "ipython",
    "version": 3
   },
   "file_extension": ".py",
   "mimetype": "text/x-python",
   "name": "python",
   "nbconvert_exporter": "python",
   "pygments_lexer": "ipython3",
   "version": "3.9.13"
  },
  "orig_nbformat": 4,
  "vscode": {
   "interpreter": {
    "hash": "a15feae295b001fc15270283fa36248672e027f078e6cdc93717cb56e23b139d"
   }
  }
 },
 "nbformat": 4,
 "nbformat_minor": 2
}
