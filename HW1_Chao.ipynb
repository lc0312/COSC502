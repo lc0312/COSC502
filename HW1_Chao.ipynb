{
 "cells": [
  {
   "cell_type": "code",
   "execution_count": 113,
   "metadata": {},
   "outputs": [
    {
     "name": "stdout",
     "output_type": "stream",
     "text": [
      "[[79 73 99]\n",
      " [68 60 78]\n",
      " [88 75 65]\n",
      " [92 79 78]\n",
      " [70 97 88]\n",
      " [60 70 75]\n",
      " [74 68 68]\n",
      " [90 70 72]\n",
      " [92 71 92]\n",
      " [74 73 71]\n",
      " [91 64 89]\n",
      " [92 98 69]\n",
      " [94 74 79]\n",
      " [90 60 69]\n",
      " [69 71 69]\n",
      " [70 80 66]\n",
      " [98 70 69]\n",
      " [61 81 93]\n",
      " [68 76 61]\n",
      " [85 84 83]]\n"
     ]
    }
   ],
   "source": [
    "import numpy as np\n",
    "\n",
    "rand_score = 60 + 40*np.random.rand (20,3)\n",
    "rand_score = rand_score.astype (int)\n",
    "\n",
    "print (rand_score)\n"
   ]
  },
  {
   "cell_type": "code",
   "execution_count": 114,
   "metadata": {},
   "outputs": [
    {
     "name": "stdout",
     "output_type": "stream",
     "text": [
      "[80.25 74.7  76.65]\n",
      "[83.66666667 68.66666667 76.         83.         85.         68.33333333\n",
      " 70.         77.33333333 85.         72.66666667 81.33333333 86.33333333\n",
      " 82.33333333 73.         69.66666667 72.         79.         78.33333333\n",
      " 68.33333333 84.        ]\n"
     ]
    }
   ],
   "source": [
    "# Q1 \n",
    "\n",
    "# a)\n",
    "ave_column = np.mean (rand_score, axis=0)\n",
    "ave_row = np.mean (rand_score, axis=1)\n",
    "print (ave_column)\n",
    "print (ave_row)\n",
    "\n"
   ]
  },
  {
   "cell_type": "code",
   "execution_count": 115,
   "metadata": {},
   "outputs": [
    {
     "name": "stdout",
     "output_type": "stream",
     "text": [
      "[60 60 61]\n"
     ]
    }
   ],
   "source": [
    "# b)\n",
    "max_score = np.max (rand_score, axis=0)\n",
    "min_score = np.min (rand_score, axis=0)\n",
    "print (min_score)"
   ]
  },
  {
   "cell_type": "code",
   "execution_count": 116,
   "metadata": {},
   "outputs": [
    {
     "name": "stdout",
     "output_type": "stream",
     "text": [
      "[83.66666667 68.66666667]\n",
      "[68.33333333 84.        ]\n"
     ]
    }
   ],
   "source": [
    "# c)\n",
    "ave_first_two = np.mean (rand_score[0:2], axis=1)\n",
    "ave_last_two = np.mean (rand_score[18:20], axis=1)\n",
    "\n",
    "print (ave_first_two)\n",
    "print (ave_last_two)"
   ]
  },
  {
   "cell_type": "code",
   "execution_count": 117,
   "metadata": {},
   "outputs": [
    {
     "name": "stdout",
     "output_type": "stream",
     "text": [
      "[76.  64.  81.5 85.5 83.5 65.  71.  80.  81.5 73.5]\n"
     ]
    }
   ],
   "source": [
    "# d)\n",
    "ave_Mid_first10 = np.mean (rand_score[0:10,0:2], axis=1)\n",
    "print (ave_Mid_first10)"
   ]
  },
  {
   "cell_type": "code",
   "execution_count": 118,
   "metadata": {},
   "outputs": [
    {
     "name": "stdout",
     "output_type": "stream",
     "text": [
      "Students row are: [ 1  2  5  6 10 11 13 14 15 16 17 18]\n",
      "[79.41666667 74.58333333]\n"
     ]
    }
   ],
   "source": [
    "# e)\n",
    "import collections\n",
    "list_70 = np.where (rand_score < 70)\n",
    "row_number = np.unique(list_70[0])\n",
    "print ('Students row are:',row_number)\n",
    "\n",
    "rand_score[rand_score <70] = 70\n",
    "\n",
    "alt_student = []\n",
    "\n",
    "for i in (row_number):\n",
    "    alt_student.append (rand_score[i,0:3:2])\n",
    "\n",
    "alt_student = np.array(alt_student)\n",
    "ave_alt = np.mean (alt_student,axis=0)\n",
    "\n",
    "print (ave_alt)"
   ]
  },
  {
   "cell_type": "code",
   "execution_count": 119,
   "metadata": {},
   "outputs": [
    {
     "name": "stdout",
     "output_type": "stream",
     "text": [
      "[85.2 73.2 76.9 82.5 85.3 72.  71.2 76.8 85.7 72.5]\n"
     ]
    }
   ],
   "source": [
    "# f)\n",
    "weight_matrix = np.zeros((3,3))\n",
    "np.fill_diagonal (weight_matrix,[0.3,0.3,0.4])\n",
    "\n",
    "sum_total_10 = np.dot(rand_score[0:10], weight_matrix).sum(axis=1)\n",
    "\n",
    "print (sum_total_10)\n"
   ]
  },
  {
   "cell_type": "code",
   "execution_count": 120,
   "metadata": {},
   "outputs": [
    {
     "name": "stdout",
     "output_type": "stream",
     "text": [
      "[[ 86.9   80.3   94.05]\n",
      " [ 77.    77.    74.1 ]\n",
      " [ 96.8   82.5   66.5 ]\n",
      " [101.2   86.9   74.1 ]\n",
      " [ 77.   106.7   83.6 ]\n",
      " [ 77.    77.    71.25]\n",
      " [ 81.4   77.    66.5 ]\n",
      " [ 99.    77.    68.4 ]\n",
      " [101.2   78.1   87.4 ]\n",
      " [ 81.4   80.3   67.45]\n",
      " [100.1   77.    84.55]\n",
      " [101.2  107.8   66.5 ]\n",
      " [103.4   81.4   75.05]\n",
      " [ 99.    77.    66.5 ]\n",
      " [ 77.    78.1   66.5 ]\n",
      " [ 77.    88.    66.5 ]\n",
      " [107.8   77.    66.5 ]\n",
      " [ 77.    89.1   88.35]\n",
      " [ 77.    83.6   66.5 ]\n",
      " [ 93.5   92.4   78.85]]\n"
     ]
    }
   ],
   "source": [
    "# g)\n",
    "\n",
    "weight_matrix = np.zeros((3,3))\n",
    "np.fill_diagonal (weight_matrix,[1.1, 1.1, 0.95])\n",
    "upodated_total = np.dot(rand_score, weight_matrix)\n",
    "\n",
    "print (upodated_total)"
   ]
  }
 ],
 "metadata": {
  "kernelspec": {
   "display_name": "base",
   "language": "python",
   "name": "python3"
  },
  "language_info": {
   "codemirror_mode": {
    "name": "ipython",
    "version": 3
   },
   "file_extension": ".py",
   "mimetype": "text/x-python",
   "name": "python",
   "nbconvert_exporter": "python",
   "pygments_lexer": "ipython3",
   "version": "3.9.13"
  },
  "orig_nbformat": 4,
  "vscode": {
   "interpreter": {
    "hash": "a15feae295b001fc15270283fa36248672e027f078e6cdc93717cb56e23b139d"
   }
  }
 },
 "nbformat": 4,
 "nbformat_minor": 2
}
