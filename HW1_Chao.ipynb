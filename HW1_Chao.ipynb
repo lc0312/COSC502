{
 "cells": [
  {
   "cell_type": "code",
   "execution_count": 49,
   "metadata": {},
   "outputs": [
    {
     "name": "stdout",
     "output_type": "stream",
     "text": [
      "[[66 64 73]\n",
      " [95 85 71]\n",
      " [99 89 61]\n",
      " [87 63 73]\n",
      " [63 97 93]\n",
      " [69 71 93]\n",
      " [61 62 69]\n",
      " [80 72 61]\n",
      " [92 99 64]\n",
      " [65 79 99]\n",
      " [64 86 61]\n",
      " [80 66 78]\n",
      " [97 66 96]\n",
      " [74 61 63]\n",
      " [87 92 63]\n",
      " [60 67 83]\n",
      " [83 83 80]\n",
      " [99 98 81]\n",
      " [70 82 67]\n",
      " [74 89 90]]\n"
     ]
    }
   ],
   "source": [
    "import numpy as np\n",
    "\n",
    "rand_score = 60 + 40*np.random.rand (20,3)\n",
    "rand_score = rand_score.astype (int)\n",
    "\n",
    "print (rand_score)\n"
   ]
  },
  {
   "cell_type": "code",
   "execution_count": 64,
   "metadata": {},
   "outputs": [
    {
     "name": "stdout",
     "output_type": "stream",
     "text": [
      "[78.25 78.55 75.95]\n",
      "[67.66666667 83.66666667 83.         74.33333333 84.33333333 77.66666667\n",
      " 64.         71.         85.         81.         70.33333333 74.66666667\n",
      " 86.33333333 66.         80.66666667 70.         82.         92.66666667\n",
      " 73.         84.33333333]\n"
     ]
    }
   ],
   "source": [
    "# Q1 \n",
    "\n",
    "# a)\n",
    "ave_column = np.mean (rand_score, axis=0)\n",
    "ave_row = np.mean (rand_score, axis=1)\n",
    "print (ave_column)\n",
    "print (ave_row)\n",
    "\n"
   ]
  },
  {
   "cell_type": "code",
   "execution_count": 65,
   "metadata": {},
   "outputs": [
    {
     "name": "stdout",
     "output_type": "stream",
     "text": [
      "[60 61 61]\n"
     ]
    }
   ],
   "source": [
    "# b)\n",
    "max_score = np.max (rand_score, axis=0)\n",
    "min_score = np.min (rand_score, axis=0)\n",
    "print (min_score)"
   ]
  },
  {
   "cell_type": "code",
   "execution_count": 66,
   "metadata": {},
   "outputs": [
    {
     "name": "stdout",
     "output_type": "stream",
     "text": [
      "[67.66666667 83.66666667]\n",
      "[73.         84.33333333]\n"
     ]
    }
   ],
   "source": [
    "# c)\n",
    "ave_first_two = np.mean (rand_score[0:2], axis=1)\n",
    "ave_last_two = np.mean (rand_score[18:20], axis=1)\n",
    "\n",
    "print (ave_first_two)\n",
    "print (ave_last_two)"
   ]
  },
  {
   "cell_type": "code",
   "execution_count": 67,
   "metadata": {},
   "outputs": [
    {
     "name": "stdout",
     "output_type": "stream",
     "text": [
      "[65.  90.  94.  75.  80.  70.  61.5 76.  95.5 72. ]\n"
     ]
    }
   ],
   "source": [
    "# d)\n",
    "ave_Mid_first10 = np.mean (rand_score[0:10,0:2], axis=1)\n",
    "print (ave_Mid_first10)"
   ]
  },
  {
   "cell_type": "code",
   "execution_count": 78,
   "metadata": {},
   "outputs": [
    {
     "name": "stdout",
     "output_type": "stream",
     "text": [
      "0 0\n",
      "0 1\n",
      "2 2\n",
      "3 1\n",
      "4 0\n",
      "5 0\n",
      "6 0\n",
      "6 1\n",
      "6 2\n",
      "7 2\n",
      "8 2\n",
      "9 0\n",
      "10 0\n",
      "10 2\n",
      "11 1\n",
      "12 1\n",
      "13 1\n",
      "13 2\n",
      "14 2\n",
      "15 0\n",
      "15 1\n",
      "18 2\n"
     ]
    }
   ],
   "source": [
    "# e)\n",
    "list_70 = np.where (rand_score < 70)\n",
    "row_70, col_70 = list_70[0], list_70[1]\n",
    "\n",
    "for i,j in zip (row_70, col_70):\n",
    "    print (i,j)"
   ]
  }
 ],
 "metadata": {
  "kernelspec": {
   "display_name": "base",
   "language": "python",
   "name": "python3"
  },
  "language_info": {
   "codemirror_mode": {
    "name": "ipython",
    "version": 3
   },
   "file_extension": ".py",
   "mimetype": "text/x-python",
   "name": "python",
   "nbconvert_exporter": "python",
   "pygments_lexer": "ipython3",
   "version": "3.9.13"
  },
  "orig_nbformat": 4,
  "vscode": {
   "interpreter": {
    "hash": "a15feae295b001fc15270283fa36248672e027f078e6cdc93717cb56e23b139d"
   }
  }
 },
 "nbformat": 4,
 "nbformat_minor": 2
}
