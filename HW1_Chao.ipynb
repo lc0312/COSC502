{
 "cells": [
  {
   "cell_type": "code",
   "execution_count": 99,
   "metadata": {},
   "outputs": [
    {
     "name": "stdout",
     "output_type": "stream",
     "text": [
      "[[74 68 65]\n",
      " [76 64 94]\n",
      " [85 65 94]\n",
      " [86 97 60]\n",
      " [66 62 86]\n",
      " [73 75 65]\n",
      " [96 87 70]\n",
      " [65 73 61]\n",
      " [86 92 79]\n",
      " [65 65 95]\n",
      " [61 79 82]\n",
      " [81 62 88]\n",
      " [78 67 74]\n",
      " [99 90 73]\n",
      " [84 91 65]\n",
      " [69 89 73]\n",
      " [61 64 82]\n",
      " [62 92 79]\n",
      " [62 66 83]\n",
      " [85 98 82]]\n"
     ]
    }
   ],
   "source": [
    "import numpy as np\n",
    "\n",
    "rand_score = 60 + 40*np.random.rand (20,3)\n",
    "rand_score = rand_score.astype (int)\n",
    "\n",
    "print (rand_score)\n"
   ]
  },
  {
   "cell_type": "code",
   "execution_count": 100,
   "metadata": {},
   "outputs": [
    {
     "name": "stdout",
     "output_type": "stream",
     "text": [
      "[75.7 77.3 77.5]\n",
      "[69.         78.         81.33333333 81.         71.33333333 71.\n",
      " 84.33333333 66.33333333 85.66666667 75.         74.         77.\n",
      " 73.         87.33333333 80.         77.         69.         77.66666667\n",
      " 70.33333333 88.33333333]\n"
     ]
    }
   ],
   "source": [
    "# Question 1\n",
    "\n",
    "# a)\n",
    "ave_column = np.mean (rand_score, axis=0)\n",
    "ave_row = np.mean (rand_score, axis=1)\n",
    "print (ave_column)\n",
    "print (ave_row)"
   ]
  },
  {
   "cell_type": "code",
   "execution_count": 101,
   "metadata": {},
   "outputs": [
    {
     "name": "stdout",
     "output_type": "stream",
     "text": [
      "[61 62 60]\n"
     ]
    }
   ],
   "source": [
    "# b)\n",
    "max_score = np.max (rand_score, axis=0)\n",
    "min_score = np.min (rand_score, axis=0)\n",
    "print (min_score)"
   ]
  },
  {
   "cell_type": "code",
   "execution_count": 102,
   "metadata": {},
   "outputs": [
    {
     "name": "stdout",
     "output_type": "stream",
     "text": [
      "[69. 78.]\n",
      "[70.33333333 88.33333333]\n"
     ]
    }
   ],
   "source": [
    "# c)\n",
    "ave_first_two = np.mean (rand_score[0:2], axis=1)\n",
    "ave_last_two = np.mean (rand_score[18:20], axis=1)\n",
    "\n",
    "print (ave_first_two)\n",
    "print (ave_last_two)"
   ]
  },
  {
   "cell_type": "code",
   "execution_count": 103,
   "metadata": {},
   "outputs": [
    {
     "name": "stdout",
     "output_type": "stream",
     "text": [
      "[71.  70.  75.  91.5 64.  74.  91.5 69.  89.  65. ]\n"
     ]
    }
   ],
   "source": [
    "# d)\n",
    "ave_Mid_first10 = np.mean (rand_score[0:10,0:2], axis=1)\n",
    "print (ave_Mid_first10)"
   ]
  },
  {
   "cell_type": "code",
   "execution_count": 104,
   "metadata": {},
   "outputs": [
    {
     "name": "stdout",
     "output_type": "stream",
     "text": [
      "Students row are: [ 0  1  2  3  4  5  7  9 10 11 12 14 15 16 17 18]\n",
      "[74.8125 80.    ]\n"
     ]
    }
   ],
   "source": [
    "# e)\n",
    "import collections\n",
    "list_70 = np.where (rand_score < 70)\n",
    "row_number = np.unique(list_70[0])\n",
    "print ('Students row are:',row_number)\n",
    "\n",
    "rand_score[rand_score <70] = 70\n",
    "\n",
    "alt_student = []\n",
    "\n",
    "for i in (row_number):\n",
    "    alt_student.append (rand_score[i,0:3:2])\n",
    "\n",
    "alt_student = np.array(alt_student)\n",
    "ave_alt = np.mean (alt_student,axis=0)\n",
    "\n",
    "print (ave_alt)"
   ]
  },
  {
   "cell_type": "code",
   "execution_count": 105,
   "metadata": {},
   "outputs": [
    {
     "name": "stdout",
     "output_type": "stream",
     "text": [
      "[71.2 81.4 84.1 82.9 76.4 72.4 82.9 70.9 85.  80. ]\n"
     ]
    }
   ],
   "source": [
    "# f)\n",
    "weight_matrix = np.zeros((3,3))\n",
    "np.fill_diagonal (weight_matrix,[0.3,0.3,0.4])\n",
    "\n",
    "sum_total_10 = np.dot(rand_score[0:10], weight_matrix).sum(axis=1)\n",
    "\n",
    "print (sum_total_10)"
   ]
  },
  {
   "cell_type": "code",
   "execution_count": 106,
   "metadata": {},
   "outputs": [
    {
     "name": "stdout",
     "output_type": "stream",
     "text": [
      "[[ 81.4   77.    66.5 ]\n",
      " [ 83.6   77.    89.3 ]\n",
      " [ 93.5   77.    89.3 ]\n",
      " [ 94.6  106.7   66.5 ]\n",
      " [ 77.    77.    81.7 ]\n",
      " [ 80.3   82.5   66.5 ]\n",
      " [105.6   95.7   66.5 ]\n",
      " [ 77.    80.3   66.5 ]\n",
      " [ 94.6  101.2   75.05]\n",
      " [ 77.    77.    90.25]\n",
      " [ 77.    86.9   77.9 ]\n",
      " [ 89.1   77.    83.6 ]\n",
      " [ 85.8   77.    70.3 ]\n",
      " [108.9   99.    69.35]\n",
      " [ 92.4  100.1   66.5 ]\n",
      " [ 77.    97.9   69.35]\n",
      " [ 77.    77.    77.9 ]\n",
      " [ 77.   101.2   75.05]\n",
      " [ 77.    77.    78.85]\n",
      " [ 93.5  107.8   77.9 ]]\n"
     ]
    }
   ],
   "source": [
    "# g)\n",
    "\n",
    "weight_matrix = np.zeros((3,3))\n",
    "np.fill_diagonal (weight_matrix,[1.1, 1.1, 0.95])\n",
    "upodated_total = np.dot(rand_score, weight_matrix)\n",
    "\n",
    "print (upodated_total)"
   ]
  },
  {
   "cell_type": "code",
   "execution_count": 107,
   "metadata": {},
   "outputs": [],
   "source": [
    "# Question 2\n",
    "# a)\n",
    "\n",
    "def median_and_mode (x):\n",
    "    median = np.median (x)\n",
    "    \n",
    "    mode = np.bincount(x.flat).argmax()\n",
    "\n",
    "    print ('Median is:', median)\n",
    "    print ('Mode is:', mode)\n"
   ]
  },
  {
   "cell_type": "code",
   "execution_count": 108,
   "metadata": {},
   "outputs": [
    {
     "name": "stdout",
     "output_type": "stream",
     "text": [
      "Median is: 2.0\n",
      "Mode is: 2\n",
      "Median is: 3.0\n",
      "Mode is: 3\n",
      "Median is: 3.0\n",
      "Mode is: 3\n"
     ]
    }
   ],
   "source": [
    "# b)\n",
    "\n",
    "x1 = np.array ([[1,2,2,2,3,5],[2,4,2,2,7,8]])\n",
    "x2 = np.array ([[1,3,3],[3,3,7],[8,7,10]])\n",
    "x3 = np.array ([[2,3,3,3,3], [1,4,7,5,8], [3,4,6,2,5],[3,3,3,6,11]])\n",
    "\n",
    "median_and_mode (x1)\n",
    "median_and_mode (x2)\n",
    "median_and_mode (x3)"
   ]
  },
  {
   "cell_type": "code",
   "execution_count": null,
   "metadata": {},
   "outputs": [],
   "source": [
    "asddd"
   ]
  }
 ],
 "metadata": {
  "kernelspec": {
   "display_name": "base",
   "language": "python",
   "name": "python3"
  },
  "language_info": {
   "codemirror_mode": {
    "name": "ipython",
    "version": 3
   },
   "file_extension": ".py",
   "mimetype": "text/x-python",
   "name": "python",
   "nbconvert_exporter": "python",
   "pygments_lexer": "ipython3",
   "version": "3.9.16"
  },
  "orig_nbformat": 4,
  "vscode": {
   "interpreter": {
    "hash": "19d1d53a962d236aa061289c2ac16dc8e6d9648c89fe79f459ae9a3493bc67b4"
   }
  }
 },
 "nbformat": 4,
 "nbformat_minor": 2
}
