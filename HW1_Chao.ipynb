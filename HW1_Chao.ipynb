{
 "cells": [
  {
   "cell_type": "code",
   "execution_count": 13,
   "metadata": {},
   "outputs": [
    {
     "name": "stdout",
     "output_type": "stream",
     "text": [
      "(20,)\n"
     ]
    }
   ],
   "source": [
    "import numpy as np\n",
    "\n",
    "rand_score = 60 + 40*np.random.rand (3,20)\n",
    "Mid_1 = rand_score [0]\n",
    "Mid_2 = rand_score [1]\n",
    "Final = rand_score [2]"
   ]
  },
  {
   "cell_type": "code",
   "execution_count": null,
   "metadata": {},
   "outputs": [],
   "source": []
  }
 ],
 "metadata": {
  "kernelspec": {
   "display_name": "base",
   "language": "python",
   "name": "python3"
  },
  "language_info": {
   "codemirror_mode": {
    "name": "ipython",
    "version": 3
   },
   "file_extension": ".py",
   "mimetype": "text/x-python",
   "name": "python",
   "nbconvert_exporter": "python",
   "pygments_lexer": "ipython3",
   "version": "3.9.13"
  },
  "orig_nbformat": 4,
  "vscode": {
   "interpreter": {
    "hash": "a15feae295b001fc15270283fa36248672e027f078e6cdc93717cb56e23b139d"
   }
  }
 },
 "nbformat": 4,
 "nbformat_minor": 2
}
