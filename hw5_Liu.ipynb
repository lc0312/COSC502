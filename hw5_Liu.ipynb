{
 "cells": [
  {
   "cell_type": "code",
   "execution_count": 2,
   "metadata": {},
   "outputs": [
    {
     "name": "stdout",
     "output_type": "stream",
     "text": [
      "        ID  Age  Experience  Income  ZIP Code  Family  CCAvg  Education  \\\n",
      "0        1   25           1      49     91107       4    1.6          1   \n",
      "1        2   45          19      34     90089       3    1.5          1   \n",
      "2        3   39          15      11     94720       1    1.0          1   \n",
      "3        4   35           9     100     94112       1    2.7          2   \n",
      "4        5   35           8      45     91330       4    1.0          2   \n",
      "...    ...  ...         ...     ...       ...     ...    ...        ...   \n",
      "4995  4996   29           3      40     92697       1    1.9          3   \n",
      "4996  4997   30           4      15     92037       4    0.4          1   \n",
      "4997  4998   63          39      24     93023       2    0.3          3   \n",
      "4998  4999   65          40      49     90034       3    0.5          2   \n",
      "4999  5000   28           4      83     92612       3    0.8          1   \n",
      "\n",
      "      Mortgage  Personal Loan  Securities Account  CD Account  Online  \\\n",
      "0            0              0                   1           0       0   \n",
      "1            0              0                   1           0       0   \n",
      "2            0              0                   0           0       0   \n",
      "3            0              0                   0           0       0   \n",
      "4            0              0                   0           0       0   \n",
      "...        ...            ...                 ...         ...     ...   \n",
      "4995         0              0                   0           0       1   \n",
      "4996        85              0                   0           0       1   \n",
      "4997         0              0                   0           0       0   \n",
      "4998         0              0                   0           0       1   \n",
      "4999         0              0                   0           0       1   \n",
      "\n",
      "      CreditCard  \n",
      "0              0  \n",
      "1              0  \n",
      "2              0  \n",
      "3              0  \n",
      "4              1  \n",
      "...          ...  \n",
      "4995           0  \n",
      "4996           0  \n",
      "4997           0  \n",
      "4998           0  \n",
      "4999           1  \n",
      "\n",
      "[5000 rows x 14 columns]\n"
     ]
    }
   ],
   "source": [
    "import pandas as pd\n",
    "\n",
    "# Q1\n",
    "# a) Read the csv file (Bank.csv in Canvas) as Pandas DataFrame\n",
    "\n",
    "url = 'https://github.com/lc0312/COSC502/blob/main/Bank.csv?raw=true'\n",
    "bank_df = pd.read_csv(url)\n",
    "print (bank_df)"
   ]
  },
  {
   "cell_type": "code",
   "execution_count": 18,
   "metadata": {},
   "outputs": [],
   "source": [
    "# b) Consider the ‘Personal Loan’ as class (Y) variable and all other columns (Ignore the ID and Zipcode columns) as X variable.\n",
    "\n",
    "Y_data = bank_df['Personal Loan']\n",
    "X_data = bank_df.drop(['ID','ZIP Code','Personal Loan'], axis=1)\n",
    "\n"
   ]
  },
  {
   "cell_type": "code",
   "execution_count": 20,
   "metadata": {},
   "outputs": [],
   "source": [
    "# c) Create a training (70%) and test set (30%) from the dataset.\n",
    "from sklearn.model_selection import train_test_split\n",
    "\n",
    "X_train, X_test, Y_train, Y_test = train_test_split (X_data.values, Y_data.values, test_size=0.3)"
   ]
  },
  {
   "cell_type": "code",
   "execution_count": 26,
   "metadata": {},
   "outputs": [
    {
     "name": "stdout",
     "output_type": "stream",
     "text": [
      "Manhattan: 0.9306666666666666\n",
      "Euclidean: 0.9153333333333333\n"
     ]
    }
   ],
   "source": [
    "# d) Classify the above dataset by using the K-NN algorithms and compare the performances (using both the Euclidean and Manhattan distance measures).\n",
    "from sklearn.neighbors import KNeighborsClassifier\n",
    "\n",
    "knn_M = KNeighborsClassifier(p=1)\n",
    "knn_M.fit (X_train, Y_train)\n",
    "\n",
    "print ('Manhattan:', knn_M.score (X_test, Y_test))\n",
    "\n",
    "knn_E = KNeighborsClassifier(p=2)\n",
    "knn_E.fit (X_train, Y_train)\n",
    "\n",
    "print ('Euclidean:', knn_E.score (X_test, Y_test))"
   ]
  },
  {
   "cell_type": "code",
   "execution_count": null,
   "metadata": {},
   "outputs": [],
   "source": [
    "# e) For K-NN classification, fit and test the model for different values for K (from 1 to 20) using a for loop and record and plot the KNN’s testing accuracy in a variable (scores).\n",
    "\n",
    "for n_number in range (20):\n",
    "    knn = KNeighborsClassifier(p=1)\n"
   ]
  }
 ],
 "metadata": {
  "kernelspec": {
   "display_name": "base",
   "language": "python",
   "name": "python3"
  },
  "language_info": {
   "codemirror_mode": {
    "name": "ipython",
    "version": 3
   },
   "file_extension": ".py",
   "mimetype": "text/x-python",
   "name": "python",
   "nbconvert_exporter": "python",
   "pygments_lexer": "ipython3",
   "version": "3.9.16"
  },
  "orig_nbformat": 4
 },
 "nbformat": 4,
 "nbformat_minor": 2
}
